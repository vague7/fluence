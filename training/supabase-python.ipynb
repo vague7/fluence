{
 "cells": [
  {
   "cell_type": "markdown",
   "id": "5f799693",
   "metadata": {},
   "source": [
    "## How to use Supabase with Python + routine functions\n",
    "\n",
    "We will use `Supabase` as backend to store the results and assets for LLM tasks.\n",
    "\n",
    "Refer this doc https://supabase.com/docs/reference/python/introduction"
   ]
  },
  {
   "cell_type": "code",
   "execution_count": 3,
   "id": "241e07e4",
   "metadata": {},
   "outputs": [],
   "source": [
    "import os\n",
    "from supabase import create_client, Client\n",
    "from dotenv import load_dotenv"
   ]
  },
  {
   "cell_type": "code",
   "execution_count": 4,
   "id": "ee2ec0e4",
   "metadata": {},
   "outputs": [
    {
     "data": {
      "text/plain": [
       "True"
      ]
     },
     "execution_count": 4,
     "metadata": {},
     "output_type": "execute_result"
    }
   ],
   "source": [
    "load_dotenv()"
   ]
  },
  {
   "cell_type": "code",
   "execution_count": 5,
   "id": "a52e7907",
   "metadata": {},
   "outputs": [],
   "source": [
    "url: str = os.environ.get(\"SUPABASE_URL\")\n",
    "key: str = os.environ.get(\"SUPABASE_KEY\")\n",
    "supabase: Client = create_client(url, key)"
   ]
  },
  {
   "cell_type": "markdown",
   "id": "fb3d8266",
   "metadata": {},
   "source": [
    "### Update database table"
   ]
  },
  {
   "cell_type": "code",
   "execution_count": 6,
   "id": "16582892",
   "metadata": {},
   "outputs": [],
   "source": [
    "response = (\n",
    "    supabase.table(\"learning_space\")\n",
    "    .update({\"summary_notes\": \"chola kingdom summary notes updated by LLM agent\"})\n",
    "    .eq(\"id\", '48484754-ae7c-4b4b-bdea-12784ed54a2f')\n",
    "    .execute()\n",
    ")"
   ]
  },
  {
   "cell_type": "code",
   "execution_count": 7,
   "id": "8697b956",
   "metadata": {},
   "outputs": [
    {
     "data": {
      "text/plain": [
       "APIResponse[TypeVar](data=[{'id': '48484754-ae7c-4b4b-bdea-12784ed54a2f', 'created_at': '2025-07-03T10:48:52.592598+00:00', 'user_id': '0e1760ce-a2d0-456f-acee-82d08d869cab', 'topic': 'Chola Kingdom', 'pdf_source': None, 'audio_source': None, 'quiz_id': None, 'summary_notes': 'chola kingdom summary notes updated by LLM agent', 'recommendations': None}], count=None)"
      ]
     },
     "execution_count": 7,
     "metadata": {},
     "output_type": "execute_result"
    }
   ],
   "source": [
    "response"
   ]
  },
  {
   "cell_type": "markdown",
   "id": "fae9b258",
   "metadata": {},
   "source": [
    "### Uploading a File to bucket \n",
    "And then updating a table with file path"
   ]
  },
  {
   "cell_type": "code",
   "execution_count": 8,
   "id": "83150013",
   "metadata": {},
   "outputs": [],
   "source": [
    "with open(\"main.py\", \"rb\") as f:\n",
    "    response = (\n",
    "        supabase.storage\n",
    "        .from_(\"learning-sources\")\n",
    "        .upload(\n",
    "            file=f,\n",
    "            path=\"public/codes/0e1760ce-a2d0-456f-acee-82d08d869cab/main.py\",\n",
    "            file_options={\"cache-control\": \"3600\", \"upsert\": \"false\"}\n",
    "        )\n",
    "    )"
   ]
  }
 ],
 "metadata": {
  "kernelspec": {
   "display_name": ".venv",
   "language": "python",
   "name": "python3"
  },
  "language_info": {
   "codemirror_mode": {
    "name": "ipython",
    "version": 3
   },
   "file_extension": ".py",
   "mimetype": "text/x-python",
   "name": "python",
   "nbconvert_exporter": "python",
   "pygments_lexer": "ipython3",
   "version": "3.12.10"
  }
 },
 "nbformat": 4,
 "nbformat_minor": 5
}
