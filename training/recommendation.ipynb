{
 "cells": [
  {
   "cell_type": "markdown",
   "id": "f47bb49e",
   "metadata": {},
   "source": [
    "### Recommendations"
   ]
  },
  {
   "cell_type": "code",
   "execution_count": 1,
   "id": "e1df9254",
   "metadata": {},
   "outputs": [
    {
     "data": {
      "text/plain": [
       "True"
      ]
     },
     "execution_count": 1,
     "metadata": {},
     "output_type": "execute_result"
    }
   ],
   "source": [
    "from dotenv import load_dotenv\n",
    "from langchain.chat_models import init_chat_model\n",
    "from langchain_core.prompts import ChatPromptTemplate\n",
    "from langchain.output_parsers import PydanticOutputParser\n",
    "from pydantic import BaseModel, Field\n",
    "from typing_extensions import TypedDict\n",
    "from IPython.display import Markdown\n",
    "from typing import List\n",
    "\n",
    "\n",
    "load_dotenv()"
   ]
  },
  {
   "cell_type": "code",
   "execution_count": 2,
   "id": "a5a7fb6d",
   "metadata": {},
   "outputs": [
    {
     "data": {
      "text/plain": [
       "\"Raipur, India - Current temperature and weather conditions. Detailed hourly weather forecast for today - including weather conditions, temperature, pressure, humidity, precipitation, dewpoint, wind, visibility, and UV index data. How's the weather today in Raipur, Chhattisgarh. We provide information on: wind speed, wind direction, atmospheric pressure, temperature, humidity and visibility. Raipur Weather Forecast. Providing a local hourly Raipur weather forecast of rain, sun, wind, humidity and temperature. The Long-range 12 day forecast also includes detail for Raipur weather today. Live weather reports from Raipur weather stations and weather warnings that include risk of thunder, high UV index and forecast gales. Weather in Chhattisgarh, Raipur: Get the current weather, hourly and weekly weather forecast for Raipur, along with current temperature, rainfall, wind speed, humidity, air-quality, 15-days weather forecast and season trend for Raipur. Detailed weather forecast for Raipur: temperature, wind, precipitation, and atmospheric conditions.\""
      ]
     },
     "execution_count": 2,
     "metadata": {},
     "output_type": "execute_result"
    }
   ],
   "source": [
    "from langchain_community.tools import DuckDuckGoSearchRun, DuckDuckGoSearchResults\n",
    "\n",
    "search = DuckDuckGoSearchRun()\n",
    "search.invoke(\"What's the weather currently in Raipur?\")"
   ]
  },
  {
   "cell_type": "code",
   "execution_count": 3,
   "id": "98bb9d04",
   "metadata": {},
   "outputs": [
    {
     "name": "stdout",
     "output_type": "stream",
     "text": [
      "content='Hello there! How can I help you today?' additional_kwargs={} response_metadata={'prompt_feedback': {'block_reason': 0, 'safety_ratings': []}, 'finish_reason': 'STOP', 'model_name': 'gemini-2.0-flash', 'safety_ratings': []} id='run--ce263485-81ad-4c6f-953e-d749e105921a-0' usage_metadata={'input_tokens': 3, 'output_tokens': 11, 'total_tokens': 14, 'input_token_details': {'cache_read': 0}}\n"
     ]
    }
   ],
   "source": [
    "model = init_chat_model(\"gemini-2.0-flash\", model_provider=\"google_genai\", )\n",
    "response = model.invoke(\"Hello World!!\")\n",
    "print(response)"
   ]
  },
  {
   "cell_type": "code",
   "execution_count": 4,
   "id": "9895d4dc",
   "metadata": {},
   "outputs": [],
   "source": [
    "sample_prompt = \"Create a good recommendation list for a student of class 12 to learn about Photosynthesis. Also add sources or URLs which can be used to access these resources.\""
   ]
  },
  {
   "cell_type": "code",
   "execution_count": 5,
   "id": "a909184f",
   "metadata": {},
   "outputs": [],
   "source": [
    "response = model.invoke(sample_prompt)\n"
   ]
  },
  {
   "cell_type": "code",
   "execution_count": 6,
   "id": "c49ad38a",
   "metadata": {},
   "outputs": [
    {
     "data": {
      "text/markdown": [
       "Okay, here's a recommendation list for a Class 12 student to learn about Photosynthesis, covering a range of learning styles and depths, along with helpful resources:\n",
       "\n",
       "**I. Foundational Understanding (Essential for Beginners):**\n",
       "\n",
       "*   **Textbook Review (NCERT Textbook):**\n",
       "    *   **Why:**  The NCERT textbook is the bedrock.  It provides the core concepts, definitions, and diagrams that are essential for understanding Photosynthesis at the Class 12 level.  It's designed to align with the curriculum.\n",
       "    *   **How:**  Read the chapter on Photosynthesis (typically in the Biology textbook).  Pay close attention to diagrams, definitions, and the key steps of the process.  Make notes.\n",
       "    *   **Source:** Your NCERT Biology Textbook (Class 12). You can also download a PDF from the NCERT website: [https://ncert.nic.in/textbook.php](https://ncert.nic.in/textbook.php)\n",
       "\n",
       "*   **Khan Academy Biology:**\n",
       "    *   **Why:** Khan Academy provides free, clear, and concise video lectures and practice exercises.  It's excellent for building a solid foundation and understanding the \"big picture.\"\n",
       "    *   **How:** Search for \"Photosynthesis\" on Khan Academy.  Watch the videos in order, taking notes.  Do the practice questions to test your understanding.\n",
       "    *   **Source:** [https://www.khanacademy.org/science/biology/photosynthesis](https://www.khanacademy.org/science/biology/photosynthesis)\n",
       "\n",
       "*   **Crash Course Biology:**\n",
       "    *   **Why:**  Hank Green's Crash Course Biology videos are engaging, fast-paced, and cover the key concepts in a fun and memorable way.  They are great for getting an overview and reinforcing what you've already learned.\n",
       "    *   **How:** Search for \"Photosynthesis\" on YouTube in the Crash Course Biology playlist.  Take notes and re-watch sections you find challenging.\n",
       "    *   **Source:**  YouTube - Search for \"Crash Course Biology Photosynthesis\" or find the Crash Course Biology playlist: [https://www.youtube.com/@crashcourse](https://www.youtube.com/@crashcourse)\n",
       "\n",
       "**II. Deeper Dive & Specific Concepts:**\n",
       "\n",
       "*   **Bozeman Science:**\n",
       "    *   **Why:**  Paul Andersen from Bozeman Science explains biological concepts clearly and thoroughly.  His videos often include diagrams and real-world examples.\n",
       "    *   **How:** Search for \"Photosynthesis\" on the Bozeman Science YouTube channel. He has videos breaking down different aspects of the process.\n",
       "    *   **Source:** YouTube - Search for \"Bozeman Science Photosynthesis\": [https://www.youtube.com/@bozemanscience](https://www.youtube.com/@bozemanscience)\n",
       "\n",
       "*   **Amoeba Sisters:**\n",
       "    *   **Why:**  The Amoeba Sisters use engaging animations and humor to explain complex topics.  Their videos are especially helpful for visualizing the different stages of Photosynthesis and the roles of various molecules.\n",
       "    *   **How:** Search for \"Photosynthesis\" on the Amoeba Sisters YouTube channel.\n",
       "    *   **Source:** YouTube - Search for \"Amoeba Sisters Photosynthesis\": [https://www.youtube.com/@AmoebaSisters](https://www.youtube.com/@AmoebaSisters)\n",
       "\n",
       "*   **OpenStax Biology:**\n",
       "    *   **Why:** OpenStax is a non-profit organization that provides free, openly licensed textbooks. Their Biology textbook has a comprehensive chapter on Photosynthesis with detailed explanations and diagrams.\n",
       "    *   **How:** Access the OpenStax Biology textbook online and read the chapter on Photosynthesis. Pay attention to the illustrations and the explanations of the Calvin cycle, light-dependent reactions, and other key concepts.\n",
       "    *   **Source:** [https://openstax.org/books/biology-2e/pages/8-introduction](https://openstax.org/books/biology-2e/pages/8-introduction)\n",
       "\n",
       "**III. Exam Preparation & Problem Solving:**\n",
       "\n",
       "*   **Previous Years' Question Papers (CBSE/Relevant Board):**\n",
       "    *   **Why:**  The best way to prepare for exams is to practice with past papers.  This helps you understand the types of questions that are asked, the marking scheme, and how to manage your time.\n",
       "    *   **How:**  Download previous years' question papers for your board (e.g., CBSE) and solve the questions related to Photosynthesis.  Analyze your mistakes and review the concepts you're struggling with.\n",
       "    *   **Source:**  CBSE website or educational websites that provide past papers.\n",
       "\n",
       "*   **Concept Mapping/Mind Mapping:**\n",
       "    *   **Why:** A great way to consolidate your understanding is to create a concept map.  This forces you to connect different ideas and see the overall structure of the topic.\n",
       "    *   **How:**  Start with \"Photosynthesis\" as the central concept.  Branch out with major topics like \"Light-Dependent Reactions,\" \"Calvin Cycle,\" \"Photosystems,\" etc.  Connect these with arrows and short phrases to explain the relationships.\n",
       "\n",
       "*   **Online Quizzes & Practice Tests:**\n",
       "    *   **Why:**  Regular quizzes help you assess your understanding and identify areas where you need to improve.\n",
       "    *   **How:** Search for \"Photosynthesis quiz\" online. Websites like ProProfs, Quizlet, and others offer free quizzes.\n",
       "    *   **Source:** Google Search: \"Photosynthesis quiz\"\n",
       "\n",
       "**IV. Key Concepts to Focus On:**\n",
       "\n",
       "*   **Light-Dependent Reactions:**  Understand the role of chlorophyll, photosystems I and II, electron transport chain, photophosphorylation, and the production of ATP and NADPH.\n",
       "*   **Calvin Cycle (Light-Independent Reactions):**  Understand the steps of carbon fixation, reduction, and regeneration of RuBP.  Know the role of Rubisco.\n",
       "*   **Photosystems I and II:** Understand the differences between them, their roles in electron transport, and the splitting of water (photolysis).\n",
       "*   **Chemiosmosis:**  Understand how the proton gradient is created and used to generate ATP.\n",
       "*   **C4 and CAM Pathways:**  Understand the adaptations that allow plants in hot, dry environments to perform photosynthesis efficiently.\n",
       "*   **Factors Affecting Photosynthesis:** Understand how light intensity, carbon dioxide concentration, temperature, and water availability affect the rate of photosynthesis.\n",
       "\n",
       "**Tips for Effective Learning:**\n",
       "\n",
       "*   **Start with the basics and build up:** Don't try to jump into the complex details before you understand the fundamental principles.\n",
       "*   **Visualize the process:** Use diagrams, animations, and videos to help you visualize the steps of photosynthesis.\n",
       "*   **Relate it to real-world examples:** Think about how photosynthesis is essential for all life on Earth and how it impacts the environment.\n",
       "*   **Ask questions:** Don't be afraid to ask your teacher, classmates, or online forums if you have any questions.\n",
       "*   **Practice, practice, practice:** The more you practice, the better you'll understand the concepts.\n",
       "\n",
       "By following this comprehensive approach, you'll be well-equipped to master the topic of Photosynthesis for your Class 12 exams and beyond. Good luck!"
      ],
      "text/plain": [
       "<IPython.core.display.Markdown object>"
      ]
     },
     "execution_count": 6,
     "metadata": {},
     "output_type": "execute_result"
    }
   ],
   "source": [
    "Markdown(response.content)"
   ]
  },
  {
   "cell_type": "markdown",
   "id": "9801aa08",
   "metadata": {},
   "source": [
    "### The agent"
   ]
  },
  {
   "cell_type": "code",
   "execution_count": 14,
   "id": "315fa361",
   "metadata": {},
   "outputs": [],
   "source": [
    "from langgraph.prebuilt import create_react_agent\n",
    "\n",
    "tools = [search]\n",
    "agent_executor = create_react_agent(model, tools)"
   ]
  },
  {
   "cell_type": "code",
   "execution_count": 15,
   "id": "302e1b3d",
   "metadata": {},
   "outputs": [
    {
     "data": {
      "text/plain": [
       "\"\\n    You are a helpful AI assistant. Use the following tools to answer questions.\\n     you should use the 'DuckDuckGo' tool to get most relevant answers.\\n     Answer concisely and directly based on the search results. Include links of sources in answers for user to access them directly.\\nCreate a good recommendation list for a student of class 12 to learn about Photosynthesis. Also add sources or URLs which can be used to access these resources.\""
      ]
     },
     "execution_count": 15,
     "metadata": {},
     "output_type": "execute_result"
    }
   ],
   "source": [
    "tool_prompt = \"\"\"\n",
    "    You are a helpful AI assistant. Use the following tools to answer questions.\n",
    "     you should use the 'DuckDuckGo' tool to get most relevant answers.\n",
    "     Answer concisely and directly based on the search results. Include links of sources in answers for user to access them directly.\n",
    "\"\"\" + sample_prompt\n",
    "\n",
    "tool_prompt"
   ]
  },
  {
   "cell_type": "code",
   "execution_count": 21,
   "id": "c37ca790",
   "metadata": {},
   "outputs": [],
   "source": [
    "response = agent_executor.invoke({\"messages\": [\n",
    "                                 tool_prompt]})\n"
   ]
  },
  {
   "cell_type": "code",
   "execution_count": 22,
   "id": "eb3c202e",
   "metadata": {},
   "outputs": [
    {
     "data": {
      "text/markdown": [
       "Here's a recommendation list for a class 12 student to learn about Photosynthesis, incorporating accessible resources:\n",
       "\n",
       "1.  **Textbook:** Start with the photosynthesis chapter in your class 12 Biology textbook (usually CBSE/NCERT). It provides a foundational understanding.\n",
       "\n",
       "2.  **Khan Academy:** Offers videos and articles explaining the process, light-dependent and light-independent reactions, and factors affecting photosynthesis. [https://www.khanacademy.org/science/biology/photosynthesis](https://www.khanacademy.org/science/biology/photosynthesis)\n",
       "\n",
       "3.  **Crash Course Biology:** Their Photosynthesis video breaks down the topic in an engaging and easy-to-understand manner. [https://www.youtube.com/watch?v=sQK3Yr4Sc_k](https://www.youtube.com/watch?v=sQK3Yr4Sc_k)\n",
       "\n",
       "4.  **Bozeman Science:** Provides clear explanations of the concepts with diagrams. Look for their AP Biology videos on photosynthesis.\n",
       "\n",
       "5.  **Online interactive simulations:** Search for \"photosynthesis simulation\" to find interactive tools that allow you to manipulate variables and observe the effects on the process.\n",
       "\n",
       "6.  **NCERT Exemplar:** Solve the NCERT Exemplar problems for additional practice and conceptual clarity."
      ],
      "text/plain": [
       "<IPython.core.display.Markdown object>"
      ]
     },
     "execution_count": 22,
     "metadata": {},
     "output_type": "execute_result"
    }
   ],
   "source": [
    "Markdown(response[\"messages\"][1].content)"
   ]
  },
  {
   "cell_type": "code",
   "execution_count": 5,
   "id": "2dfa5593",
   "metadata": {},
   "outputs": [],
   "source": [
    "# output structures\n",
    "\n",
    "\n",
    "\n",
    "class SummaryNoteOutput(BaseModel):\n",
    "    title: str = Field(description=\"Title of the note\")\n",
    "    summary: str = Field(description=\"Summary Note in markdown language\")\n",
    "\n",
    "\n",
    "# ------- Quiz --------\n",
    "class QuestionOptions(BaseModel):\n",
    "    A: str = Field(\"Option A for the question\")\n",
    "    B: str = Field(\"Option B for the question\")\n",
    "    C: str = Field(\"Option C for the question\")\n",
    "    D: str = Field(\"Option D for the question\")\n",
    "\n",
    "\n",
    "class Question(BaseModel):\n",
    "    question: str = Field(\n",
    "        description=\"Question\")\n",
    "    options: QuestionOptions\n",
    "    correctAnswer: str = Field(\n",
    "        description=\"Correct answer - one of these options A, B, C or D\")\n",
    "    hint: str = Field(\n",
    "        description=\"A small hint to help user think in right direction\")\n",
    "    explaination: str = Field(description=\"Explaination of the correct answer\")\n",
    "\n",
    "\n",
    "class QuizOutput(BaseModel):\n",
    "    title: str = Field(description=\"A suitable title for the quiz.\")\n",
    "    questions: List[Question] = Field(\n",
    "        description=\"A list of quiz questions in MCQ format, with each question having 4 options.\"\n",
    "    )\n",
    "    \n",
    "    \n",
    "# ---- output for recommend\n",
    "\n",
    "class Recommendation(BaseModel):\n",
    "    title: str = Field(description=\"A title for this recommendation.\")\n",
    "    description: str = Field(description=\"A brief description.\")\n",
    "    url: str = Field(\n",
    "        description=\"source URL of this recommendation if available else NULL.\")\n",
    "\n",
    "\n",
    "class RecommendationList(BaseModel):\n",
    "    recommendations: List[Recommendation] = Field(\n",
    "        description=\"List of recommendations\")"
   ]
  },
  {
   "cell_type": "code",
   "execution_count": 13,
   "id": "f8b77920",
   "metadata": {},
   "outputs": [],
   "source": [
    "# Student profile type definition\n",
    "from typing import Optional\n",
    "\n",
    "\n",
    "class StudentProfile(TypedDict):\n",
    "    gender: str\n",
    "    class_level: str  # e.g., \"class 6\", \"12th\", \"undergrad\", \"postgrad\"\n",
    "    language: str     # e.g., \"hindi\", \"english\", \"marathi\"\n",
    "\n",
    "\n",
    "class UserPrompt(TypedDict):\n",
    "    topic: str\n",
    "    file_url: Optional[str]\n",
    "# Graph state\n",
    "\n",
    "\n",
    "class State(TypedDict):\n",
    "    learning_space_id: str\n",
    "    student_profile: StudentProfile\n",
    "    user_prompt: UserPrompt\n",
    "    summary_notes: SummaryNoteOutput\n",
    "    podcast_script: str\n",
    "    mindmap: str\n",
    "    quiz: str\n",
    "    recommendations: str\n",
    "    study_plan: str\n",
    "    combined_output: str"
   ]
  },
  {
   "cell_type": "code",
   "execution_count": null,
   "id": "ed4b0674",
   "metadata": {},
   "outputs": [],
   "source": [
    "# def node_recommendation_sources(state: State):\n",
    "#     \"\"\"LLM call to generate recommendation materials\"\"\"\n",
    "\n",
    "#     prompt_instance = PersonalizedPromptsStudent(\n",
    "#         state['user_prompt']['topic'], state['student_profile'])\n",
    "\n",
    "#     prompt_message = prompt_instance.recommendation_resources()\n",
    "    \n",
    "#     agent = create_react_agent(model=model, tools=[search], response_format=RecommendationList)\n",
    "\n",
    "#     response = agent.invoke(prompt_message)\n",
    "    \n",
    "#     print(response[\"structured_response\"].model_dump())\n",
    "\n",
    "#     return {\"recommended_resources\": response[\"structured_response\"].model_dump()}"
   ]
  },
  {
   "cell_type": "code",
   "execution_count": 14,
   "id": "38f811f0",
   "metadata": {},
   "outputs": [],
   "source": [
    "# Agent Node - Quiz\n",
    "\n",
    "def node_recommendation(state: State):\n",
    "    \"\"\"LLM call to generate quiz based on summary content\"\"\"\n",
    "\n",
    "    # generate the chat prompt\n",
    "\n",
    "    \"\"\"Create a personalized prompt based on student profile\"\"\"\n",
    "\n",
    "    prompt_template = ChatPromptTemplate([\n",
    "        (\"system\", \"\"\" \n",
    "        You are a helpful academic tutor. Use these instructions to create a recommendation list based on the notes provided by the user:\n",
    "        \n",
    "        Student Profile:\n",
    "            - Class Level: {grade_level}\n",
    "            - Language: {language} \n",
    "            - Gender: {gender}\n",
    "        \n",
    "        1. The recommendation should include all the necessary resources to learn the topic.\n",
    "        2. Create uptp 10 quality recommendations with a mixture of books, online lectures, articles etc. \n",
    "        3. Adapt your language and complexity based on the student's profile provided and add proper contextual description and url if available with each source.\n",
    "        4. Respond in JSON format which can be used to render a UI.\n",
    "        \"\"\"),\n",
    "        (\"user\", \"Topic Summary {topic_summary}\")\n",
    "    ])\n",
    "\n",
    "    # init a new model with structured output\n",
    "    model = init_chat_model(\n",
    "        \"gemini-2.0-flash\", model_provider=\"google_genai\").with_structured_output(RecommendationList)\n",
    "\n",
    "    chain = prompt_template | model\n",
    "\n",
    "    response = chain.invoke(\n",
    "        {\n",
    "            \"grade_level\": state['student_profile'].get(\"grade_level\", \"general\"),\n",
    "            \"language\": state['student_profile'].get(\"language\", \"English\"),\n",
    "            \"gender\": state['student_profile'].get(\"gender\", \"\"),\n",
    "            \"topic_summary\": state[\"summary_notes\"]\n",
    "        }\n",
    "    )\n",
    "\n",
    "    return {\"recommendations\": response.model_dump()}"
   ]
  },
  {
   "cell_type": "code",
   "execution_count": 15,
   "id": "deac380e",
   "metadata": {},
   "outputs": [],
   "source": [
    "input_state = {\n",
    "    \"learning_space_id\": '48484754-ae7c-4b4b-bdea-12784ed54a2f',\n",
    "    \"student_profile\": {\n",
    "        \"gender\": \"MALE\",\n",
    "        \"grade_level\": \"12th\",\n",
    "        \"language\": \"HINDI\"\n",
    "    },\n",
    "    \"user_prompt\": {\n",
    "        \"topic\": \"Uncertainty in AI\",\n",
    "        \"file_url\": \"https://kclenjtsvdayeghmmmkm.supabase.co/storage/v1/object/public/learning-sources/public/Slides_Module8.pdf\",\n",
    "    },\n",
    "    \"summary_notes\": \"\"\"\n",
    "    {\"title\": \"AI में अनिश्चितता (Uncertainty in AI) \", \"summary\": \"# AI में अनिश्चितता (Uncertainty in AI) पर नोट्स\\n\\n## मॉड्यूल का उद्देश्य:\\n*   AI सिस्टम्स में ज्ञान और तर्क में अनिश्चितता को मापने और प्रबंधित करने के तरीकों को समझना और लागू करना।\\n\\n## विषय:\\n*   **अनिश्चितता में काम करना (Acting under Uncertainty):**\\n    *   एजेंट्स को अनिश्चितता से निपटने की आवश्यकता हो सकती है।\\n    *   एक एजेंट को निश्चित रूप से पता नहीं हो सकता कि वह किस स्थिति में है या कार्यों के क्रम के बाद वह कहां समाप्त होगा।\\n    *   एजेंट्स को एक विश्वास स्थिति (belief state) का ट्रैक रखकर अनिश्चितता को संभालने के लिए डिज़ाइन किया गया है।\\n    *   उदाहरण: एक स्वचालित टैक्सी का लक्ष्य है कि वह एक यात्री को समय पर हवाई अड्डे पर पहुंचाए।\\n\\n*   **अनिश्चितता का सारांश (Summarizing uncertainty):**\\n    *   अनिश्चित तर्क का एक उदाहरण देखते हैं।\\n    *   निदान (Diagnosis) - चाहे चिकित्सा, ऑटोमोबाइल की मरम्मत, या कुछ भी हो - लगभग हमेशा अनिश्चितता शामिल होती है।\\n    *   प्रस्तावात्मक तर्क (propositional logic) का उपयोग करके दंत निदान (dental diagnosis) के लिए नियम लिखने का प्रयास करते हैं।\\n    *   एक साधारण नियम पर विचार करें:\\n        *   दांत दर्द (Toothache) → कैविटी (Cavity)\\n        *   दांत दर्द (Toothache) → कैविटी (Cavity) या मसूड़ों की समस्या (GumProblem) या फोड़ा (Abscess) ...\\n        *   कैविटी (Cavity) → दांत दर्द (Toothache)\\n    *   चिकित्सा निदान जैसे डोमेन से निपटने के लिए तर्क का उपयोग करने का प्रयास तीन मुख्य कारणों से विफल रहता है:\\n        *   आलस्य (Laziness)\\n        *   सैद्धांतिक अज्ञानता (Theoretical ignorance)\\n        *   व्यावहारिक अज्ञानता (Practical ignorance)\\n    *   एजेंट का ज्ञान सबसे अच्छा संबंधित वाक्यों में विश्वास की डिग्री प्रदान कर सकता है।\\n    *   विश्वास की डिग्री से निपटने के लिए हमारा मुख्य उपकरण प्रायिकता सिद्धांत (probability theory) है।\\n    *   प्रायिकता हमारी आलस्य और अज्ञानता से आने वाली अनिश्चितता को सारांशित करने का एक तरीका प्रदान करती है।\\n    *   एक भ्रमित करने वाला बिंदु यह है कि निदान के समय, वास्तविक दुनिया में कोई अनिश्चितता नहीं है: रोगी को या तो कैविटी है या नहीं।\\n\\n*   **अनिश्चितता और तर्कसंगत निर्णय (Uncertainty and rational decisions):**\\n    *   सफलता दरों (Success Rates) की तुलना।\\n    *   विश्वसनीयता (Reliability) का महत्व।\\n    *   ट्रेड-ऑफ और असुविधाएं (Trade-offs and Inconveniences)।\\n    *   प्राथमिकताएं और परिणाम (Preferences and Outcomes)।\\n    *   उपयोगिता सिद्धांत (Utility Theory)।\\n    *   उपयोगिता की सापेक्षता (Relativity of utility)।\\n        *   एजेंट परिप्रेक्ष्य (agent perspective) के आधार पर उपयोगिता की व्यक्तिपरकता (Subjectivity)।\\n        *   उपयोगिता कार्यों में विविध प्राथमिकताओं का समायोजन (Accommodation)।\\n    *   प्रायिकता और उपयोगिता सिद्धांतों का एकीकरण (Integration)।\\n    *   अधिकतम अपेक्षित उपयोगिता (Maximum Expected Utility (MEU)) का सिद्धांत।\\n    *   विभिन्न डोमेन में अनुप्रयोग (Application)।\\n\\n*   **बुनियादी प्रायिकता संकेतन (Basic Probability Notation):**\\n    *   स्पष्टता और परिशुद्धता (Clarity and Precision):\\n        *   असंदिग्ध संचार (Unambiguous communication)।\\n        *   औपचारिक प्रतिनिधित्व (Formal representation)।\\n    *   उन्नत विश्लेषण (Advanced Analysis) के लिए आधार:\\n        *   जटिल मॉडल के लिए बिल्डिंग ब्लॉक (Building block)।\\n        *   गणना और एल्गोरिदम (calculations and algorithms) को सुविधाजनक बनाना।\\n\\n*   **प्रायिकताएं किसके बारे में हैं (What probabilities are about):**\\n    *   नमूना स्थान (Sample space)।\\n    *   प्रायिकता मॉडल (Probability model)।\\n    *   घटनाएँ (Events)।\\n    *   बिना शर्त और पूर्व प्रायिकता (Unconditional and Prior probability)।\\n    *   साक्ष्य (Evidence)।\\n    *   सशर्त और उत्तर प्रायिकता (Conditional and Posterior probability)।\\n    *   उत्पाद नियम (Product rule)।\\n\\n*   **प्रायिकता अभिकथन (probability assertions) में प्रस्तावों की भाषा (language):**\\n    *   यादृच्छिक चर (Random variables)।\\n    *   डोमेन (Domain)।\\n    *   प्रायिकता वितरण (Probability distribution)।\\n    *   प्रायिकता घनत्व फलन (Probability density function)।\\n    *   संयुक्त प्रायिकता वितरण (Joint probability distribution)।\\n    *   पूर्ण संयुक्त प्रायिकता वितरण (Full joint probability distribution)।\\n\\n*   **प्रायिकता स्वयंसिद्ध (Probability axioms) और उनकी तर्कसंगतता (reasonableness):**\\n    *   प्रायिकता स्वयंसिद्ध उन मूलभूत सिद्धांतों का निर्माण करते हैं जिन पर प्रायिकता का पूरा सिद्धांत बना है।\\n        *   गैर-नकारात्मकता स्वयंसिद्ध (Non-negativity Axiom)।\\n        *   सामान्यीकरण स्वयंसिद्ध (Normalization Axiom)।\\n    *   प्रायिकता स्वयंसिद्धों की तर्कसंगतता (Reasonableness):\\n        *   तार्किक स्थिरता (Logical Consistency)।\\n        *   सहज ज्ञान युक्त अपील (Intuitive Appeal)।\\n        *   गणितीय आधार (Mathematical Foundation)।\\n        *   अनुप्रयोग (Applicability)।\\n    *   समावेश-बहिष्करण सिद्धांत (Inclusion-exclusion principle)।\\n\\n*   **पूर्ण संयुक्त वितरण (Full Joint Distributions) का उपयोग करके अनुमान (Inference):**\\n    *   संभाव्य अनुमान (Probabilistic inference) अनिश्चितता के तहत तर्क और निर्णय लेने की प्रक्रिया है, जो प्रायिकता सिद्धांत (probability theory) से सिद्धांतों का उपयोग करके मान्यताओं को अपडेट करती है या भविष्यवाणियां करती है।\\n    *   अनुमान के प्रकार (Type of inference):\\n        *   सीमांतीकरण (Marginalization)।\\n        *   सशर्त प्रायिकता (Conditional Probability)।\\n        *   संयुक्त अनुमान (Joint Inference)।\\n    *   संभाव्य अनुमान (Probabilistic inference) की प्रक्रिया:\\n        *   समस्या को परिभाषित करें (Define)।\\n        *   एक मॉडल का निर्माण करें (Construct)।\\n        *   अनुमान (Inference)।\\n        *   परिणामों का मूल्यांकन और व्याख्या करें (Evaluate and Interpret)।\\n\\n*   **स्वतंत्रता (Independence):**\\n    *   मान लीजिए कि हम दांत दर्द, कैच, कैविटी की दुनिया के लिए पूर्ण संयुक्त वितरण का विस्तार एक चौथे बाइनरी चर, मौसम (Weather) (W) को जोड़कर करते हैं।\\n    *   चार बाइनरी चर के साथ, इन चर के 16 संभावित संयोजन हैं।\\n    *   तालिका की प्रत्येक पंक्ति चर T, C, H, और W के एक अद्वितीय संयोजन का प्रतिनिधित्व करती है।\\n    *   अंतिम कॉलम घटनाओं के उस विशिष्ट संयोजन की प्रायिकता का प्रतिनिधित्व करता है।\\n    *   सीमांत प्रायिकताएँ (Marginal Probabilities)।\\n        *   T = True (दांत दर्द) की सीमांत प्रायिकता (Marginal probability):\\n        *   W = Sunny (मौसम धूप है) की सीमांत प्रायिकता (Marginal probability):\\n    *   उदाहरण के लिए, P(toothache, catch, cavity, cloudy) और P(toothache, catch, cavity) कैसे संबंधित हैं?\\n    *   इससे, हम अनुमान लगा सकते हैं,\\n    *   वास्तव में, हम सामान्य समीकरण लिख सकते हैं\\n    *   इस प्रकार, चार चर के लिए 32-तत्व तालिका को एक 8-तत्व तालिका और एक 4-तत्व तालिका से बनाया जा सकता है।\\n    *   पूर्ण स्वतंत्रता का उपयोग करके बड़े संयुक्त वितरण को छोटे वितरणों में फैक्टर करने के उदाहरण।\\n    *   स्वतंत्रता के प्रकार (Types):\\n        *   सीमांत स्वतंत्रता (Marginal independence)।\\n            *   अन्य चर पर कंडीशनिंग के बिना, अलग-अलग माने जाने वाले व्यक्तिगत चर की स्वतंत्रता।\\n        *   पूर्ण स्वतंत्रता (Absolute independence)।\\n            *   चर की स्वतंत्रता तब भी होती है जब किसी अन्य चर पर कंडीशनिंग की जाती है।\\n\\n*   **बेयस का नियम (Bayes' Rule) और इसका उपयोग (Use):**\\n    *   उत्पाद नियम (product rule) को इस प्रकार लिखा जा सकता है:\\n    *   इस समीकरण को बेयस का नियम (Bayes' rule) (जिसे बेयस का कानून या बेयस का प्रमेय भी कहा जाता है) के रूप में जाना जाता है। यह सरल समीकरण संभाव्य अनुमान (probabilistic inference) के लिए अधिकांश आधुनिक AI प्रणालियों को रेखांकित करता है।\\n    *   बेयस का नियम संभाव्य अनुमान (probabilistic inference) के लिए मौलिक है और कई आधुनिक AI प्रणालियों को रेखांकित करता है।\\n    *   उदाहरण स्पैम फ़िल्टरिंग (Example Spam Filtering)।\\n        *   P(H|E): साक्ष्य E दिए जाने पर परिकल्पना H की उत्तर प्रायिकता (Posterior probability)।\\n        *   P(E|H): यदि H सत्य है तो साक्ष्य E को देखने की संभावना।\\n        *   P(H): परिकल्पना H की पूर्व प्रायिकता (Prior probability)।\\n        *   P(E): साक्ष्य E को देखने की सीमांत प्रायिकता (Marginal probability)।\\n    *   चिकित्सा निदान (Medical Diagnosis)।\"}...\n",
    "    \"\"\"\n",
    "}"
   ]
  },
  {
   "cell_type": "code",
   "execution_count": null,
   "id": "3cf7c7d7",
   "metadata": {},
   "outputs": [],
   "source": [
    "# ## without tool use \n",
    "\n",
    "\n",
    "# def node_recommendation_sources_no_tool(state: State):\n",
    "#     \"\"\"LLM call to generate recommendation materials\"\"\"\n",
    "\n",
    "#     prompt_instance = PersonalizedPromptsStudent(\n",
    "#         state['user_prompt']['topic'], state['student_profile'])\n",
    "\n",
    "#     prompt_message = prompt_instance.recommendation_resources()\n",
    "    \n",
    "#     # agent = create_react_agent(model=model, tools=[search], response_format=RecommendationList)\n",
    "\n",
    "#     model = init_chat_model(\n",
    "#         \"gemini-2.0-flash\", model_provider=\"google_genai\" ).with_structured_output(RecommendationList)\n",
    "\n",
    "#     response = model.invoke(prompt_message)\n",
    "    \n",
    "#     # print(response[\"structured_response\"].model_dump())\n",
    "    \n",
    "#     print(response)\n",
    "\n",
    "#     return {\"recommended_resources\": response}"
   ]
  },
  {
   "cell_type": "code",
   "execution_count": null,
   "id": "a52deac3",
   "metadata": {},
   "outputs": [],
   "source": [
    "# output_no_tool = node_recommendation_sources_no_tool(input_state)"
   ]
  },
  {
   "cell_type": "code",
   "execution_count": 16,
   "id": "44c6f80a",
   "metadata": {},
   "outputs": [],
   "source": [
    "response = node_recommendation(input_state)"
   ]
  },
  {
   "cell_type": "code",
   "execution_count": 18,
   "id": "dc03225a",
   "metadata": {},
   "outputs": [
    {
     "data": {
      "text/plain": [
       "{'recommendations': [{'title': 'AI में अनिश्चितता पर MIT व्याख्यान',\n",
       "   'description': 'यह व्याख्यान श्रृंखला AI में अनिश्चितता के विषय को गहराई से कवर करती है, जिसमें अनिश्चितता का प्रतिनिधित्व, संभाव्य तर्क और निर्णय लेने जैसे विषय शामिल हैं।',\n",
       "   'url': 'https://ocw.mit.edu/courses/electrical-engineering-and-computer-science/6-034-artificial-intelligence-fall-2010/lecture-videos/'},\n",
       "  {'title': 'कृत्रिम बुद्धिमत्ता: एक आधुनिक दृष्टिकोण',\n",
       "   'description': 'यह पुस्तक AI में अनिश्चितता के लिए एक व्यापक परिचय प्रदान करती है, जिसमें संभाव्य तर्क, बेयसियन नेटवर्क और निर्णय लेने जैसे विषय शामिल हैं।',\n",
       "   'url': 'https://www.amazon.com/Artificial-Intelligence-Modern-Approach-4th/dp/0134610997'},\n",
       "  {'title': 'AI में अनिश्चितता',\n",
       "   'description': 'यह लेख AI में अनिश्चितता के विषय का अवलोकन प्रदान करता है, जिसमें अनिश्चितता का प्रतिनिधित्व, संभाव्य तर्क और निर्णय लेने जैसे विषय शामिल हैं।',\n",
       "   'url': 'https://www.aaai.org/aaai21/tutorial/uncertainty-in-artificial-intelligence/'},\n",
       "  {'title': 'AI में अनिश्चितता - परिचय',\n",
       "   'description': 'यह वीडियो AI में अनिश्चितता के विषय का परिचय प्रदान करता है, जिसमें अनिश्चितता का प्रतिनिधित्व, संभाव्य तर्क और निर्णय लेने जैसे विषय शामिल हैं।',\n",
       "   'url': 'https://www.youtube.com/watch?v=jwxN94rTK7I'},\n",
       "  {'title': 'AI में अनिश्चितता पर संसाधन',\n",
       "   'description': 'यह वेबसाइट AI में अनिश्चितता के विषय पर संसाधनों का संग्रह प्रदान करती है, जिसमें लेख, वीडियो और व्याख्यान शामिल हैं।',\n",
       "   'url': 'https://ai.googleblog.com/'},\n",
       "  {'title': 'संभाव्य ग्राफिकल मॉडल: सिद्धांत और अनुप्रयोग',\n",
       "   'description': 'यह पुस्तक संभाव्य तर्क के लिए एक व्यापक परिचय प्रदान करती है, जिसमें बेयसियन नेटवर्क, मार्कोव मॉडल और निर्णय लेने जैसे विषय शामिल हैं।',\n",
       "   'url': 'https://www.amazon.com/Probabilistic-Graphical-Models-Principles-Applications/dp/0262013193'},\n",
       "  {'title': 'बेयसियन नेटवर्क',\n",
       "   'description': 'यह लेख बेयसियन नेटवर्क के विषय का अवलोकन प्रदान करता है, जिसमें बेयसियन नेटवर्क का निर्माण, अनुमान और सीखना जैसे विषय शामिल हैं।',\n",
       "   'url': 'https://www.cs.hmc.edu/~keller/courses/cs60/s98/homework/bayes/bayes.html'},\n",
       "  {'title': 'बेयसियन नेटवर्क - परिचय',\n",
       "   'description': 'यह वीडियो बेयसियन नेटवर्क के विषय का परिचय प्रदान करता है, जिसमें बेयसियन नेटवर्क का निर्माण, अनुमान और सीखना जैसे विषय शामिल हैं।',\n",
       "   'url': 'https://www.youtube.com/watch?v=VJ4vG06iEG4'},\n",
       "  {'title': 'बेयसियन नेटवर्क पर संसाधन',\n",
       "   'description': 'यह वेबसाइट बेयसियन नेटवर्क के विषय पर संसाधनों का संग्रह प्रदान करती है, जिसमें लेख, वीडियो और व्याख्यान शामिल हैं।',\n",
       "   'url': 'https://www.bayesianlogic.com/'},\n",
       "  {'title': 'निर्णय लेने के सिद्धांत',\n",
       "   'description': 'यह पुस्तक निर्णय लेने के लिए एक व्यापक परिचय प्रदान करती है, जिसमें उपयोगिता सिद्धांत, निर्णय वृक्ष और मार्कोव निर्णय प्रक्रियाएं जैसे विषय शामिल हैं।',\n",
       "   'url': 'https://www.amazon.com/Decision-Making-Principles-Management-Science/dp/0471358321'}]}"
      ]
     },
     "execution_count": 18,
     "metadata": {},
     "output_type": "execute_result"
    }
   ],
   "source": [
    "response['recommendations']"
   ]
  },
  {
   "cell_type": "markdown",
   "id": "c939e8d2",
   "metadata": {},
   "source": [
    "### Observation\n",
    "\n",
    "Normal LLM call is giving better results than internet search tool call. Seems strange. \n",
    "\n",
    "Things to try\n",
    "1. different prompt\n",
    "2. use google search instead of duck duck go\n",
    "3. compare results\n",
    "4. Somehow the above json response is getting invalid, check this."
   ]
  }
 ],
 "metadata": {
  "kernelspec": {
   "display_name": ".venv",
   "language": "python",
   "name": "python3"
  },
  "language_info": {
   "codemirror_mode": {
    "name": "ipython",
    "version": 3
   },
   "file_extension": ".py",
   "mimetype": "text/x-python",
   "name": "python",
   "nbconvert_exporter": "python",
   "pygments_lexer": "ipython3",
   "version": "3.12.10"
  }
 },
 "nbformat": 4,
 "nbformat_minor": 5
}
