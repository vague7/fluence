{
 "cells": [
  {
   "cell_type": "markdown",
   "id": "f47bb49e",
   "metadata": {},
   "source": [
    "### Output Parser (for agents)\n",
    "For structured output and peace of mind!\n",
    "\n",
    "\n",
    "https://python.langchain.com/docs/how_to/structured_output/#advanced-raw-outputs\n",
    "\n",
    "\n",
    "Gemini official doc suggests not to use schema in prompt which the output parser from Langchain does.\n",
    "check this out -> https://ai.google.dev/gemini-api/docs/structured-output\n",
    "**How does Google manages output parsing?**\n",
    "\n",
    "Gemini already has capability to generate structured output. We can use this, but issue I am facing is how to use it with cra.\n",
    "\n",
    "Check this tutorial doc as well -> https://langchain-ai.github.io/langgraph/agents/agents/#5-add-memory (but this has a cons - it calls the LLM again at the end with message to generate this output)\n",
    "\n",
    "https://github.com/langchain-ai/langgraph/discussions/3574\n",
    "\n",
    "\n",
    "### Final Thoughts \n",
    "1. creating structured outputs with different LLMs is a complex task and need specific solutions\n",
    "2. LangGraph `create_react_agent` does provide option to pass structure but this calls LLM separately for structured output response in the end.\n",
    "3. `Gemini` has `with_structured_output` method, we can use this, but (so far) I am not able to get a way to make it work in single LLM call, so I will also use separate LLM call for this. This looks safer also but has a cost factor too. So for now, lets use this and later experiment more on this."
   ]
  },
  {
   "cell_type": "code",
   "execution_count": 1,
   "id": "e1df9254",
   "metadata": {},
   "outputs": [],
   "source": [
    "from dotenv import load_dotenv\n",
    "from langchain.chat_models import init_chat_model\n",
    "from langchain_core.prompts import ChatPromptTemplate\n",
    "from langchain.output_parsers import PydanticOutputParser\n",
    "from pydantic import BaseModel, Field\n",
    "from typing_extensions import TypedDict\n",
    "from IPython.display import Markdown\n",
    "from langchain_core.prompts import ChatPromptTemplate\n",
    "from langgraph.prebuilt import create_react_agent"
   ]
  },
  {
   "cell_type": "code",
   "execution_count": 2,
   "id": "396adf8f",
   "metadata": {},
   "outputs": [],
   "source": [
    "from typing import List"
   ]
  },
  {
   "cell_type": "code",
   "execution_count": 9,
   "id": "fec5dc71",
   "metadata": {},
   "outputs": [],
   "source": [
    "# parser\n",
    "\n",
    "class MyOutput(BaseModel):\n",
    "    place: str = Field(description=\"Place name\")\n",
    "    temperature: str = Field(description=\"temperature\")\n",
    "    # questions: List[Question] = Field(\n",
    "    #     description=\"A list of quiz questions, mixing MCQ and short answer types. Ensure 10 questions total.\"\n",
    "    # )\n",
    "\n",
    "\n",
    "output_parser = PydanticOutputParser(pydantic_object=MyOutput)"
   ]
  },
  {
   "cell_type": "code",
   "execution_count": 4,
   "id": "a5a7fb6d",
   "metadata": {},
   "outputs": [
    {
     "data": {
      "text/plain": [
       "\"Raipur, India - Current temperature and weather conditions. Detailed hourly weather forecast for today - including weather conditions, temperature, pressure, humidity, precipitation, dewpoint, wind, visibility, and UV index data. How's the weather today in Raipur, Chhattisgarh. We provide information on: wind speed, wind direction, atmospheric pressure, temperature, humidity and visibility. Raipur Weather Forecast. Providing a local hourly Raipur weather forecast of rain, sun, wind, humidity and temperature. The Long-range 12 day forecast also includes detail for Raipur weather today. Live weather reports from Raipur weather stations and weather warnings that include risk of thunder, high UV index and forecast gales. Weather in Chhattisgarh, Raipur: Get the current weather, hourly and weekly weather forecast for Raipur, along with current temperature, rainfall, wind speed, humidity, air-quality, 15-days weather forecast and season trend for Raipur. Detailed weather forecast for Raipur: temperature, wind, precipitation, and atmospheric conditions.\""
      ]
     },
     "execution_count": 4,
     "metadata": {},
     "output_type": "execute_result"
    }
   ],
   "source": [
    "from langchain_community.tools import DuckDuckGoSearchRun, DuckDuckGoSearchResults\n",
    "\n",
    "search = DuckDuckGoSearchRun()\n",
    "\n",
    "search.invoke(\"What's the weather currently in Raipur?\")"
   ]
  },
  {
   "cell_type": "code",
   "execution_count": 5,
   "id": "67fa768d",
   "metadata": {},
   "outputs": [
    {
     "data": {
      "text/plain": [
       "True"
      ]
     },
     "execution_count": 5,
     "metadata": {},
     "output_type": "execute_result"
    }
   ],
   "source": [
    "load_dotenv()"
   ]
  },
  {
   "cell_type": "code",
   "execution_count": 6,
   "id": "98bb9d04",
   "metadata": {},
   "outputs": [
    {
     "name": "stdout",
     "output_type": "stream",
     "text": [
      "content='Hello there! How can I help you today?' additional_kwargs={} response_metadata={'prompt_feedback': {'block_reason': 0, 'safety_ratings': []}, 'finish_reason': 'STOP', 'model_name': 'gemini-2.0-flash', 'safety_ratings': []} id='run--379e5e8f-36b9-475f-93f9-ba15ca31cf26-0' usage_metadata={'input_tokens': 3, 'output_tokens': 11, 'total_tokens': 14, 'input_token_details': {'cache_read': 0}}\n"
     ]
    }
   ],
   "source": [
    "model = init_chat_model(\n",
    "    \"gemini-2.0-flash\", model_provider=\"google_genai\")\n",
    "\n",
    "# .with_structured_output(MyOutput)\n",
    "response = model.invoke(\"Hello World!!\")\n",
    "print(response)"
   ]
  },
  {
   "cell_type": "code",
   "execution_count": 7,
   "id": "26a8c65c",
   "metadata": {},
   "outputs": [
    {
     "name": "stdout",
     "output_type": "stream",
     "text": [
      "<class 'langchain_core.messages.ai.AIMessage'>\n"
     ]
    },
    {
     "data": {
      "text/plain": [
       "'Hello there! How can I help you today?'"
      ]
     },
     "execution_count": 7,
     "metadata": {},
     "output_type": "execute_result"
    }
   ],
   "source": [
    "print(type(response))\n",
    "# response.model_dump()\n",
    "response.content"
   ]
  },
  {
   "cell_type": "code",
   "execution_count": 8,
   "id": "cfdef469",
   "metadata": {},
   "outputs": [],
   "source": [
    "tools = [search]\n",
    "agent_executor = create_react_agent(model, tools)"
   ]
  },
  {
   "cell_type": "code",
   "execution_count": 10,
   "id": "d8136abe",
   "metadata": {},
   "outputs": [],
   "source": [
    "agent = create_react_agent(\n",
    "    model=model,\n",
    "    tools=[search],\n",
    "    response_format=MyOutput\n",
    ")\n",
    "\n",
    "response = agent.invoke(\n",
    "    {\"messages\": [{\"role\": \"user\", \"content\": \"what is the weather in sf\"}]}\n",
    ")"
   ]
  },
  {
   "cell_type": "code",
   "execution_count": 13,
   "id": "e6de35c7",
   "metadata": {},
   "outputs": [
    {
     "data": {
      "text/plain": [
       "{'place': 'San Francisco', 'temperature': 'unknown'}"
      ]
     },
     "execution_count": 13,
     "metadata": {},
     "output_type": "execute_result"
    }
   ],
   "source": [
    "response[\"structured_response\"].model_dump()"
   ]
  },
  {
   "cell_type": "code",
   "execution_count": 146,
   "id": "efa35a3f",
   "metadata": {},
   "outputs": [
    {
     "name": "stdout",
     "output_type": "stream",
     "text": [
      "System: Answer the user query. you should use the 'DuckDuckGo' tool to get most relevant answers.\n",
      "            Wrap the output in `json` tags\n",
      "The output should be formatted as a JSON instance that conforms to the JSON schema below.\n",
      "\n",
      "As an example, for the schema {\"properties\": {\"foo\": {\"title\": \"Foo\", \"description\": \"a list of strings\", \"type\": \"array\", \"items\": {\"type\": \"string\"}}}, \"required\": [\"foo\"]}\n",
      "the object {\"foo\": [\"bar\", \"baz\"]} is a well-formatted instance of the schema. The object {\"properties\": {\"foo\": [\"bar\", \"baz\"]}} is not well-formatted.\n",
      "\n",
      "Here is the output schema:\n",
      "```\n",
      "{\"properties\": {\"title\": {\"description\": \"A suitable title.\", \"title\": \"Title\", \"type\": \"string\"}, \"description\": {\"description\": \"A brief description.\", \"title\": \"Description\", \"type\": \"string\"}, \"rating\": {\"description\": \"rating.\", \"title\": \"Rating\", \"type\": \"integer\"}}, \"required\": [\"title\", \"description\", \"rating\"]}\n",
      "```\n",
      "Human: What is the rating for movie Materialist\n"
     ]
    }
   ],
   "source": [
    "raw_template = \"\"\"\n",
    "You are a helpful AI assistant. Use the following tools to answer questions.\n",
    "you should use the 'DuckDuckGo' tool to get most relevant answers.\n",
    "Answer concisely and directly based on the search results. Include links of sources in answers for user to access them directly.\n",
    "     \n",
    "     question : {topic}\n",
    "\"\"\"\n",
    "\n",
    "prompt = ChatPromptTemplate.from_messages(\n",
    "    [\n",
    "        (\n",
    "            \"system\",\n",
    "            \"\"\"Answer the user query. you should use the 'DuckDuckGo' tool to get most relevant answers.\n",
    "            Wrap the output in `json` tags\\n{format_instructions}\"\"\",\n",
    "            \n",
    "        ),\n",
    "        (\"human\", \"{query}\"),\n",
    "    ]\n",
    ").partial(format_instructions=output_parser.get_format_instructions())\n",
    "# This is adding the format instructions in the prompt itself.\n",
    "\n",
    "query = \"What is the rating for movie Materialist\"\n",
    "\n",
    "print(prompt.invoke({\"query\": query}).to_string())"
   ]
  },
  {
   "cell_type": "code",
   "execution_count": 147,
   "id": "c37ca790",
   "metadata": {},
   "outputs": [],
   "source": [
    "# response = agent_executor.invoke({\"messages\": [\n",
    "#                                  messages]})\n"
   ]
  },
  {
   "cell_type": "code",
   "execution_count": 148,
   "id": "6869dd0c",
   "metadata": {},
   "outputs": [],
   "source": [
    "chain = prompt | agent_executor "
   ]
  },
  {
   "cell_type": "code",
   "execution_count": 149,
   "id": "aea607e2",
   "metadata": {},
   "outputs": [],
   "source": [
    "response = chain.invoke({\"query\": query})"
   ]
  },
  {
   "cell_type": "code",
   "execution_count": 150,
   "id": "eb3c202e",
   "metadata": {},
   "outputs": [
    {
     "data": {
      "text/plain": [
       "[SystemMessage(content='Answer the user query. you should use the \\'DuckDuckGo\\' tool to get most relevant answers.\\n            Wrap the output in `json` tags\\nThe output should be formatted as a JSON instance that conforms to the JSON schema below.\\n\\nAs an example, for the schema {\"properties\": {\"foo\": {\"title\": \"Foo\", \"description\": \"a list of strings\", \"type\": \"array\", \"items\": {\"type\": \"string\"}}}, \"required\": [\"foo\"]}\\nthe object {\"foo\": [\"bar\", \"baz\"]} is a well-formatted instance of the schema. The object {\"properties\": {\"foo\": [\"bar\", \"baz\"]}} is not well-formatted.\\n\\nHere is the output schema:\\n```\\n{\"properties\": {\"title\": {\"description\": \"A suitable title.\", \"title\": \"Title\", \"type\": \"string\"}, \"description\": {\"description\": \"A brief description.\", \"title\": \"Description\", \"type\": \"string\"}, \"rating\": {\"description\": \"rating.\", \"title\": \"Rating\", \"type\": \"integer\"}}, \"required\": [\"title\", \"description\", \"rating\"]}\\n```', additional_kwargs={}, response_metadata={}, id='fc87c477-28f2-4d6d-8049-19e7a437ce75'),\n",
       " HumanMessage(content='What is the rating for movie Materialist', additional_kwargs={}, response_metadata={}, id='940648c3-ce46-4142-89e2-a2a2754416b4'),\n",
       " AIMessage(content='```json\\n{\\n  \"title\": \"I am unable to find the rating of the movie Materialist.\",\\n  \"description\": \"I am unable to find the rating of the movie Materialist using the available tools.\",\\n  \"rating\": 0\\n}\\n```', additional_kwargs={}, response_metadata={'prompt_feedback': {'block_reason': 0, 'safety_ratings': []}, 'finish_reason': 'STOP', 'model_name': 'gemini-2.0-flash', 'safety_ratings': []}, id='run--e84813a5-f6a5-418b-b3c8-7a5f1d673fe6-0', usage_metadata={'input_tokens': 286, 'output_tokens': 57, 'total_tokens': 343, 'input_token_details': {'cache_read': 0}})]"
      ]
     },
     "execution_count": 150,
     "metadata": {},
     "output_type": "execute_result"
    }
   ],
   "source": [
    "response[\"messages\"]"
   ]
  },
  {
   "cell_type": "code",
   "execution_count": 151,
   "id": "9f1de676",
   "metadata": {},
   "outputs": [
    {
     "data": {
      "text/plain": [
       "{'messages': [SystemMessage(content='Answer the user query. you should use the \\'DuckDuckGo\\' tool to get most relevant answers.\\n            Wrap the output in `json` tags\\nThe output should be formatted as a JSON instance that conforms to the JSON schema below.\\n\\nAs an example, for the schema {\"properties\": {\"foo\": {\"title\": \"Foo\", \"description\": \"a list of strings\", \"type\": \"array\", \"items\": {\"type\": \"string\"}}}, \"required\": [\"foo\"]}\\nthe object {\"foo\": [\"bar\", \"baz\"]} is a well-formatted instance of the schema. The object {\"properties\": {\"foo\": [\"bar\", \"baz\"]}} is not well-formatted.\\n\\nHere is the output schema:\\n```\\n{\"properties\": {\"title\": {\"description\": \"A suitable title.\", \"title\": \"Title\", \"type\": \"string\"}, \"description\": {\"description\": \"A brief description.\", \"title\": \"Description\", \"type\": \"string\"}, \"rating\": {\"description\": \"rating.\", \"title\": \"Rating\", \"type\": \"integer\"}}, \"required\": [\"title\", \"description\", \"rating\"]}\\n```', additional_kwargs={}, response_metadata={}, id='fc87c477-28f2-4d6d-8049-19e7a437ce75'),\n",
       "  HumanMessage(content='What is the rating for movie Materialist', additional_kwargs={}, response_metadata={}, id='940648c3-ce46-4142-89e2-a2a2754416b4'),\n",
       "  AIMessage(content='```json\\n{\\n  \"title\": \"I am unable to find the rating of the movie Materialist.\",\\n  \"description\": \"I am unable to find the rating of the movie Materialist using the available tools.\",\\n  \"rating\": 0\\n}\\n```', additional_kwargs={}, response_metadata={'prompt_feedback': {'block_reason': 0, 'safety_ratings': []}, 'finish_reason': 'STOP', 'model_name': 'gemini-2.0-flash', 'safety_ratings': []}, id='run--e84813a5-f6a5-418b-b3c8-7a5f1d673fe6-0', usage_metadata={'input_tokens': 286, 'output_tokens': 57, 'total_tokens': 343, 'input_token_details': {'cache_read': 0}})]}"
      ]
     },
     "execution_count": 151,
     "metadata": {},
     "output_type": "execute_result"
    }
   ],
   "source": [
    "response"
   ]
  },
  {
   "cell_type": "code",
   "execution_count": 152,
   "id": "96f804f4",
   "metadata": {},
   "outputs": [
    {
     "data": {
      "text/plain": [
       "AIMessage(content='```json\\n{\\n  \"title\": \"I am unable to find the rating of the movie Materialist.\",\\n  \"description\": \"I am unable to find the rating of the movie Materialist using the available tools.\",\\n  \"rating\": 0\\n}\\n```', additional_kwargs={}, response_metadata={'prompt_feedback': {'block_reason': 0, 'safety_ratings': []}, 'finish_reason': 'STOP', 'model_name': 'gemini-2.0-flash', 'safety_ratings': []}, id='run--e84813a5-f6a5-418b-b3c8-7a5f1d673fe6-0', usage_metadata={'input_tokens': 286, 'output_tokens': 57, 'total_tokens': 343, 'input_token_details': {'cache_read': 0}})"
      ]
     },
     "execution_count": 152,
     "metadata": {},
     "output_type": "execute_result"
    }
   ],
   "source": [
    "response[\"messages\"][2]"
   ]
  },
  {
   "cell_type": "markdown",
   "id": "b4d4390a",
   "metadata": {},
   "source": [
    "Output parsing a ChatMessage is different than parsing a direct message from AI. The chat message contains a list of system, user then AI message so explicitly pass the AI message to parser."
   ]
  },
  {
   "cell_type": "code",
   "execution_count": 153,
   "id": "ba3c1930",
   "metadata": {},
   "outputs": [],
   "source": [
    "output = output_parser.parse(response[\"messages\"][2].content)"
   ]
  },
  {
   "cell_type": "code",
   "execution_count": 154,
   "id": "086adaf7",
   "metadata": {},
   "outputs": [
    {
     "data": {
      "text/plain": [
       "{'title': 'I am unable to find the rating of the movie Materialist.',\n",
       " 'description': 'I am unable to find the rating of the movie Materialist using the available tools.',\n",
       " 'rating': 0}"
      ]
     },
     "execution_count": 154,
     "metadata": {},
     "output_type": "execute_result"
    }
   ],
   "source": [
    "output.model_dump()"
   ]
  },
  {
   "cell_type": "markdown",
   "id": "accdbb11",
   "metadata": {},
   "source": [
    "### For the course recommendation output"
   ]
  },
  {
   "cell_type": "code",
   "execution_count": 23,
   "id": "ac9acdd5",
   "metadata": {},
   "outputs": [],
   "source": [
    "# parser\n",
    "\n",
    "class Recommendation(BaseModel):\n",
    "    title: str = Field(description=\"A title for this recommendation.\")\n",
    "    description: str = Field(description=\"A brief description.\")\n",
    "    url: str = Field(\n",
    "        description=\"source URL of this recommendation if available else NULL.\")\n",
    "\n",
    "class RecommendationList(BaseModel):\n",
    "    recommendations: List[Recommendation] = Field(description=\"List of recommendations\")\n",
    "    \n",
    "\n",
    "output_parser = PydanticOutputParser(pydantic_object=RecommendationList)"
   ]
  },
  {
   "cell_type": "code",
   "execution_count": 156,
   "id": "fd4418a3",
   "metadata": {},
   "outputs": [
    {
     "name": "stdout",
     "output_type": "stream",
     "text": [
      "messages=[SystemMessage(content=\"You are a helpful AI assistant. Create a recommendation list for the student to master the provided topic by user.\\n                Supplement your answer with the search results from 'DuckDuckGo' tool to get most relevant recommendations for the topic.\\n                Include links of sources in answers for user to access them directly.\\n                Answer maximum 10 recommendations.\\n                \", additional_kwargs={}, response_metadata={}), HumanMessage(content='Linear Algebra', additional_kwargs={}, response_metadata={})]\n"
     ]
    }
   ],
   "source": [
    "prompt = ChatPromptTemplate.from_messages(\n",
    "    [\n",
    "        (\n",
    "            \"system\",\n",
    "            \"\"\"You are a helpful AI assistant. Create a recommendation list for the student to master the provided topic by user.\n",
    "                Supplement your answer with the search results from 'DuckDuckGo' tool to get most relevant recommendations for the topic.\n",
    "                Include links of sources in answers for user to access them directly.\n",
    "                Answer maximum 10 recommendations.\n",
    "                \"\"\",\n",
    "\n",
    "        ),\n",
    "        (\"user\", \"{topic}\"),\n",
    "    ]\n",
    ")\n",
    "\n",
    "# .partial(format_instructions=output_parser.get_format_instructions())\n",
    "\n",
    "topic = \"Linear Algebra\"\n",
    "\n",
    "print(prompt.invoke({\"topic\": topic}))"
   ]
  },
  {
   "cell_type": "code",
   "execution_count": 157,
   "id": "5233b2bd",
   "metadata": {},
   "outputs": [],
   "source": [
    "recommend_chain = prompt | agent_executor"
   ]
  },
  {
   "cell_type": "code",
   "execution_count": 158,
   "id": "c114e63c",
   "metadata": {},
   "outputs": [],
   "source": [
    "response = recommend_chain.invoke({\"topic\": topic})"
   ]
  },
  {
   "cell_type": "code",
   "execution_count": 159,
   "id": "3839de75",
   "metadata": {},
   "outputs": [
    {
     "ename": "OutputParserException",
     "evalue": "Invalid json output: Okay, I can create a recommendation list to help a student master Linear Algebra. I'll use DuckDuckGo to find some helpful resources.\nFor troubleshooting, visit: https://python.langchain.com/docs/troubleshooting/errors/OUTPUT_PARSING_FAILURE ",
     "output_type": "error",
     "traceback": [
      "\u001b[31m---------------------------------------------------------------------------\u001b[39m",
      "\u001b[31mJSONDecodeError\u001b[39m                           Traceback (most recent call last)",
      "\u001b[36mFile \u001b[39m\u001b[32m~/Desktop/DSAI/projects/edu-ai-webapp/training/.venv/lib/python3.12/site-packages/langchain_core/output_parsers/json.py:82\u001b[39m, in \u001b[36mJsonOutputParser.parse_result\u001b[39m\u001b[34m(self, result, partial)\u001b[39m\n\u001b[32m     81\u001b[39m \u001b[38;5;28;01mtry\u001b[39;00m:\n\u001b[32m---> \u001b[39m\u001b[32m82\u001b[39m     \u001b[38;5;28;01mreturn\u001b[39;00m \u001b[43mparse_json_markdown\u001b[49m\u001b[43m(\u001b[49m\u001b[43mtext\u001b[49m\u001b[43m)\u001b[49m\n\u001b[32m     83\u001b[39m \u001b[38;5;28;01mexcept\u001b[39;00m JSONDecodeError \u001b[38;5;28;01mas\u001b[39;00m e:\n",
      "\u001b[36mFile \u001b[39m\u001b[32m~/Desktop/DSAI/projects/edu-ai-webapp/training/.venv/lib/python3.12/site-packages/langchain_core/utils/json.py:150\u001b[39m, in \u001b[36mparse_json_markdown\u001b[39m\u001b[34m(json_string, parser)\u001b[39m\n\u001b[32m    149\u001b[39m     json_str = json_string \u001b[38;5;28;01mif\u001b[39;00m match \u001b[38;5;129;01mis\u001b[39;00m \u001b[38;5;28;01mNone\u001b[39;00m \u001b[38;5;28;01melse\u001b[39;00m match.group(\u001b[32m2\u001b[39m)\n\u001b[32m--> \u001b[39m\u001b[32m150\u001b[39m \u001b[38;5;28;01mreturn\u001b[39;00m \u001b[43m_parse_json\u001b[49m\u001b[43m(\u001b[49m\u001b[43mjson_str\u001b[49m\u001b[43m,\u001b[49m\u001b[43m \u001b[49m\u001b[43mparser\u001b[49m\u001b[43m=\u001b[49m\u001b[43mparser\u001b[49m\u001b[43m)\u001b[49m\n",
      "\u001b[36mFile \u001b[39m\u001b[32m~/Desktop/DSAI/projects/edu-ai-webapp/training/.venv/lib/python3.12/site-packages/langchain_core/utils/json.py:166\u001b[39m, in \u001b[36m_parse_json\u001b[39m\u001b[34m(json_str, parser)\u001b[39m\n\u001b[32m    165\u001b[39m \u001b[38;5;66;03m# Parse the JSON string into a Python dictionary\u001b[39;00m\n\u001b[32m--> \u001b[39m\u001b[32m166\u001b[39m \u001b[38;5;28;01mreturn\u001b[39;00m \u001b[43mparser\u001b[49m\u001b[43m(\u001b[49m\u001b[43mjson_str\u001b[49m\u001b[43m)\u001b[49m\n",
      "\u001b[36mFile \u001b[39m\u001b[32m~/Desktop/DSAI/projects/edu-ai-webapp/training/.venv/lib/python3.12/site-packages/langchain_core/utils/json.py:123\u001b[39m, in \u001b[36mparse_partial_json\u001b[39m\u001b[34m(s, strict)\u001b[39m\n\u001b[32m    120\u001b[39m \u001b[38;5;66;03m# If we got here, we ran out of characters to remove\u001b[39;00m\n\u001b[32m    121\u001b[39m \u001b[38;5;66;03m# and still couldn't parse the string as JSON, so return the parse error\u001b[39;00m\n\u001b[32m    122\u001b[39m \u001b[38;5;66;03m# for the original string.\u001b[39;00m\n\u001b[32m--> \u001b[39m\u001b[32m123\u001b[39m \u001b[38;5;28;01mreturn\u001b[39;00m \u001b[43mjson\u001b[49m\u001b[43m.\u001b[49m\u001b[43mloads\u001b[49m\u001b[43m(\u001b[49m\u001b[43ms\u001b[49m\u001b[43m,\u001b[49m\u001b[43m \u001b[49m\u001b[43mstrict\u001b[49m\u001b[43m=\u001b[49m\u001b[43mstrict\u001b[49m\u001b[43m)\u001b[49m\n",
      "\u001b[36mFile \u001b[39m\u001b[32m/opt/homebrew/Cellar/python@3.12/3.12.10_1/Frameworks/Python.framework/Versions/3.12/lib/python3.12/json/__init__.py:359\u001b[39m, in \u001b[36mloads\u001b[39m\u001b[34m(s, cls, object_hook, parse_float, parse_int, parse_constant, object_pairs_hook, **kw)\u001b[39m\n\u001b[32m    358\u001b[39m     kw[\u001b[33m'\u001b[39m\u001b[33mparse_constant\u001b[39m\u001b[33m'\u001b[39m] = parse_constant\n\u001b[32m--> \u001b[39m\u001b[32m359\u001b[39m \u001b[38;5;28;01mreturn\u001b[39;00m \u001b[38;5;28;43mcls\u001b[39;49m\u001b[43m(\u001b[49m\u001b[43m*\u001b[49m\u001b[43m*\u001b[49m\u001b[43mkw\u001b[49m\u001b[43m)\u001b[49m\u001b[43m.\u001b[49m\u001b[43mdecode\u001b[49m\u001b[43m(\u001b[49m\u001b[43ms\u001b[49m\u001b[43m)\u001b[49m\n",
      "\u001b[36mFile \u001b[39m\u001b[32m/opt/homebrew/Cellar/python@3.12/3.12.10_1/Frameworks/Python.framework/Versions/3.12/lib/python3.12/json/decoder.py:338\u001b[39m, in \u001b[36mJSONDecoder.decode\u001b[39m\u001b[34m(self, s, _w)\u001b[39m\n\u001b[32m    334\u001b[39m \u001b[38;5;250m\u001b[39m\u001b[33;03m\"\"\"Return the Python representation of ``s`` (a ``str`` instance\u001b[39;00m\n\u001b[32m    335\u001b[39m \u001b[33;03mcontaining a JSON document).\u001b[39;00m\n\u001b[32m    336\u001b[39m \n\u001b[32m    337\u001b[39m \u001b[33;03m\"\"\"\u001b[39;00m\n\u001b[32m--> \u001b[39m\u001b[32m338\u001b[39m obj, end = \u001b[38;5;28;43mself\u001b[39;49m\u001b[43m.\u001b[49m\u001b[43mraw_decode\u001b[49m\u001b[43m(\u001b[49m\u001b[43ms\u001b[49m\u001b[43m,\u001b[49m\u001b[43m \u001b[49m\u001b[43midx\u001b[49m\u001b[43m=\u001b[49m\u001b[43m_w\u001b[49m\u001b[43m(\u001b[49m\u001b[43ms\u001b[49m\u001b[43m,\u001b[49m\u001b[43m \u001b[49m\u001b[32;43m0\u001b[39;49m\u001b[43m)\u001b[49m\u001b[43m.\u001b[49m\u001b[43mend\u001b[49m\u001b[43m(\u001b[49m\u001b[43m)\u001b[49m\u001b[43m)\u001b[49m\n\u001b[32m    339\u001b[39m end = _w(s, end).end()\n",
      "\u001b[36mFile \u001b[39m\u001b[32m/opt/homebrew/Cellar/python@3.12/3.12.10_1/Frameworks/Python.framework/Versions/3.12/lib/python3.12/json/decoder.py:356\u001b[39m, in \u001b[36mJSONDecoder.raw_decode\u001b[39m\u001b[34m(self, s, idx)\u001b[39m\n\u001b[32m    355\u001b[39m \u001b[38;5;28;01mexcept\u001b[39;00m \u001b[38;5;167;01mStopIteration\u001b[39;00m \u001b[38;5;28;01mas\u001b[39;00m err:\n\u001b[32m--> \u001b[39m\u001b[32m356\u001b[39m     \u001b[38;5;28;01mraise\u001b[39;00m JSONDecodeError(\u001b[33m\"\u001b[39m\u001b[33mExpecting value\u001b[39m\u001b[33m\"\u001b[39m, s, err.value) \u001b[38;5;28;01mfrom\u001b[39;00m\u001b[38;5;250m \u001b[39m\u001b[38;5;28;01mNone\u001b[39;00m\n\u001b[32m    357\u001b[39m \u001b[38;5;28;01mreturn\u001b[39;00m obj, end\n",
      "\u001b[31mJSONDecodeError\u001b[39m: Expecting value: line 1 column 1 (char 0)",
      "\nThe above exception was the direct cause of the following exception:\n",
      "\u001b[31mOutputParserException\u001b[39m                     Traceback (most recent call last)",
      "\u001b[36mCell\u001b[39m\u001b[36m \u001b[39m\u001b[32mIn[159]\u001b[39m\u001b[32m, line 1\u001b[39m\n\u001b[32m----> \u001b[39m\u001b[32m1\u001b[39m \u001b[43moutput_parser\u001b[49m\u001b[43m.\u001b[49m\u001b[43mparse\u001b[49m\u001b[43m(\u001b[49m\u001b[43mresponse\u001b[49m\u001b[43m[\u001b[49m\u001b[33;43m\"\u001b[39;49m\u001b[33;43mmessages\u001b[39;49m\u001b[33;43m\"\u001b[39;49m\u001b[43m]\u001b[49m\u001b[43m[\u001b[49m\u001b[32;43m2\u001b[39;49m\u001b[43m]\u001b[49m\u001b[43m.\u001b[49m\u001b[43mcontent\u001b[49m\u001b[43m)\u001b[49m\n",
      "\u001b[36mFile \u001b[39m\u001b[32m~/Desktop/DSAI/projects/edu-ai-webapp/training/.venv/lib/python3.12/site-packages/langchain_core/output_parsers/pydantic.py:77\u001b[39m, in \u001b[36mPydanticOutputParser.parse\u001b[39m\u001b[34m(self, text)\u001b[39m\n\u001b[32m     68\u001b[39m \u001b[38;5;28;01mdef\u001b[39;00m\u001b[38;5;250m \u001b[39m\u001b[34mparse\u001b[39m(\u001b[38;5;28mself\u001b[39m, text: \u001b[38;5;28mstr\u001b[39m) -> TBaseModel:\n\u001b[32m     69\u001b[39m \u001b[38;5;250m    \u001b[39m\u001b[33;03m\"\"\"Parse the output of an LLM call to a pydantic object.\u001b[39;00m\n\u001b[32m     70\u001b[39m \n\u001b[32m     71\u001b[39m \u001b[33;03m    Args:\u001b[39;00m\n\u001b[32m   (...)\u001b[39m\u001b[32m     75\u001b[39m \u001b[33;03m        The parsed pydantic object.\u001b[39;00m\n\u001b[32m     76\u001b[39m \u001b[33;03m    \"\"\"\u001b[39;00m\n\u001b[32m---> \u001b[39m\u001b[32m77\u001b[39m     \u001b[38;5;28;01mreturn\u001b[39;00m \u001b[38;5;28;43msuper\u001b[39;49m\u001b[43m(\u001b[49m\u001b[43m)\u001b[49m\u001b[43m.\u001b[49m\u001b[43mparse\u001b[49m\u001b[43m(\u001b[49m\u001b[43mtext\u001b[49m\u001b[43m)\u001b[49m\n",
      "\u001b[36mFile \u001b[39m\u001b[32m~/Desktop/DSAI/projects/edu-ai-webapp/training/.venv/lib/python3.12/site-packages/langchain_core/output_parsers/json.py:96\u001b[39m, in \u001b[36mJsonOutputParser.parse\u001b[39m\u001b[34m(self, text)\u001b[39m\n\u001b[32m     87\u001b[39m \u001b[38;5;28;01mdef\u001b[39;00m\u001b[38;5;250m \u001b[39m\u001b[34mparse\u001b[39m(\u001b[38;5;28mself\u001b[39m, text: \u001b[38;5;28mstr\u001b[39m) -> Any:\n\u001b[32m     88\u001b[39m \u001b[38;5;250m    \u001b[39m\u001b[33;03m\"\"\"Parse the output of an LLM call to a JSON object.\u001b[39;00m\n\u001b[32m     89\u001b[39m \n\u001b[32m     90\u001b[39m \u001b[33;03m    Args:\u001b[39;00m\n\u001b[32m   (...)\u001b[39m\u001b[32m     94\u001b[39m \u001b[33;03m        The parsed JSON object.\u001b[39;00m\n\u001b[32m     95\u001b[39m \u001b[33;03m    \"\"\"\u001b[39;00m\n\u001b[32m---> \u001b[39m\u001b[32m96\u001b[39m     \u001b[38;5;28;01mreturn\u001b[39;00m \u001b[38;5;28;43mself\u001b[39;49m\u001b[43m.\u001b[49m\u001b[43mparse_result\u001b[49m\u001b[43m(\u001b[49m\u001b[43m[\u001b[49m\u001b[43mGeneration\u001b[49m\u001b[43m(\u001b[49m\u001b[43mtext\u001b[49m\u001b[43m=\u001b[49m\u001b[43mtext\u001b[49m\u001b[43m)\u001b[49m\u001b[43m]\u001b[49m\u001b[43m)\u001b[49m\n",
      "\u001b[36mFile \u001b[39m\u001b[32m~/Desktop/DSAI/projects/edu-ai-webapp/training/.venv/lib/python3.12/site-packages/langchain_core/output_parsers/pydantic.py:61\u001b[39m, in \u001b[36mPydanticOutputParser.parse_result\u001b[39m\u001b[34m(self, result, partial)\u001b[39m\n\u001b[32m     48\u001b[39m \u001b[38;5;250m\u001b[39m\u001b[33;03m\"\"\"Parse the result of an LLM call to a pydantic object.\u001b[39;00m\n\u001b[32m     49\u001b[39m \n\u001b[32m     50\u001b[39m \u001b[33;03mArgs:\u001b[39;00m\n\u001b[32m   (...)\u001b[39m\u001b[32m     58\u001b[39m \u001b[33;03m    The parsed pydantic object.\u001b[39;00m\n\u001b[32m     59\u001b[39m \u001b[33;03m\"\"\"\u001b[39;00m\n\u001b[32m     60\u001b[39m \u001b[38;5;28;01mtry\u001b[39;00m:\n\u001b[32m---> \u001b[39m\u001b[32m61\u001b[39m     json_object = \u001b[38;5;28;43msuper\u001b[39;49m\u001b[43m(\u001b[49m\u001b[43m)\u001b[49m\u001b[43m.\u001b[49m\u001b[43mparse_result\u001b[49m\u001b[43m(\u001b[49m\u001b[43mresult\u001b[49m\u001b[43m)\u001b[49m\n\u001b[32m     62\u001b[39m     \u001b[38;5;28;01mreturn\u001b[39;00m \u001b[38;5;28mself\u001b[39m._parse_obj(json_object)\n\u001b[32m     63\u001b[39m \u001b[38;5;28;01mexcept\u001b[39;00m OutputParserException:\n",
      "\u001b[36mFile \u001b[39m\u001b[32m~/Desktop/DSAI/projects/edu-ai-webapp/training/.venv/lib/python3.12/site-packages/langchain_core/output_parsers/json.py:85\u001b[39m, in \u001b[36mJsonOutputParser.parse_result\u001b[39m\u001b[34m(self, result, partial)\u001b[39m\n\u001b[32m     83\u001b[39m \u001b[38;5;28;01mexcept\u001b[39;00m JSONDecodeError \u001b[38;5;28;01mas\u001b[39;00m e:\n\u001b[32m     84\u001b[39m     msg = \u001b[33mf\u001b[39m\u001b[33m\"\u001b[39m\u001b[33mInvalid json output: \u001b[39m\u001b[38;5;132;01m{\u001b[39;00mtext\u001b[38;5;132;01m}\u001b[39;00m\u001b[33m\"\u001b[39m\n\u001b[32m---> \u001b[39m\u001b[32m85\u001b[39m     \u001b[38;5;28;01mraise\u001b[39;00m OutputParserException(msg, llm_output=text) \u001b[38;5;28;01mfrom\u001b[39;00m\u001b[38;5;250m \u001b[39m\u001b[34;01me\u001b[39;00m\n",
      "\u001b[31mOutputParserException\u001b[39m: Invalid json output: Okay, I can create a recommendation list to help a student master Linear Algebra. I'll use DuckDuckGo to find some helpful resources.\nFor troubleshooting, visit: https://python.langchain.com/docs/troubleshooting/errors/OUTPUT_PARSING_FAILURE "
     ]
    }
   ],
   "source": [
    "output_parser.parse(response[\"messages\"][2].content)"
   ]
  },
  {
   "cell_type": "code",
   "execution_count": null,
   "id": "2250b2e4",
   "metadata": {},
   "outputs": [
    {
     "data": {
      "text/plain": [
       "[SystemMessage(content=\"You are a helpful AI assistant. Create a recommendation list for the student to master the provided topic by user.\\n                Supplement your answer with the search results from 'DuckDuckGo' tool to get most relevant recommendations for the topic.\\n                Include links of sources in answers for user to access them directly.\\n                Answer maximum 10 recommendations.\\n                \", additional_kwargs={}, response_metadata={}, id='ecf7cf06-f408-4373-925d-4ecf8fbc18c6'),\n",
       " HumanMessage(content='Linear Algebra', additional_kwargs={}, response_metadata={}, id='aff4893c-c167-451b-810b-7012bc6a298b'),\n",
       " AIMessage(content='Okay, here\\'s a recommendation list to help you master Linear Algebra, incorporating resources found via DuckDuckGo search:\\n\\n1.  **Textbook:** \"Linear Algebra and Its Applications\" by Gilbert Strang. This is a classic textbook that provides a comprehensive introduction to the subject. Many online courses also follow this book.\\n\\n2.  **MIT OpenCourseWare:** Gilbert Strang\\'s Linear Algebra course on MIT OpenCourseWare ([https://ocw.mit.edu/courses/18-06-linear-algebra-spring-2010/](https://ocw.mit.edu/courses/18-06-linear-algebra-spring-2010/)). It includes video lectures, lecture notes, problem sets, and solutions.\\n\\n3.  **Khan Academy:** Khan Academy offers a free Linear Algebra course covering a wide range of topics, from basic matrix operations to more advanced concepts like eigenvalues and eigenvectors ([https://www.khanacademy.org/math/linear-algebra](https://www.khanacademy.org/math/linear-algebra)).\\n\\n4.  **3Blue1Brown\\'s \"Essence of Linear Algebra\" series:** This YouTube series provides a visual and intuitive understanding of the fundamental concepts of linear algebra ([https://www.youtube.com/playlist?list=PLZHQObOWTQDPD3MizzM2xVFitgF8hE_ab](https://www.youtube.com/playlist?list=PLZHQObOWTQDPD3MizzM2xVFitgF8hE_ab)).\\n\\n5.  **Practice Problems:** \"Schaum\\'s Outline of Linear Algebra\" by Seymour Lipschutz and Marc Lipson. This book provides a large number of solved problems and practice exercises.\\n\\n6.  **Interactive Linear Algebra:** This is a free online textbook with interactive examples and exercises ([http://textbooks.math.gatech.edu/ila/](http://textbooks.math.gatech.edu/ila/)).\\n\\n7.  **Coding Implementation:** Implement linear algebra concepts in Python using NumPy. This will solidify your understanding and help you see how these concepts are used in practice.\\n\\n8.  **Linear Algebra Done Right by Sheldon Axler:** This book takes a more abstract and theoretical approach, which can be beneficial for a deeper understanding.\\n\\n9. **Applications:** Explore the applications of linear algebra in fields like computer graphics, machine learning, and data science. Seeing how the concepts are used in real-world applications can increase your motivation and understanding.\\n\\n10. **Math Stack Exchange:** Use Math Stack Exchange to ask questions and get help from other students and experts.', additional_kwargs={}, response_metadata={'prompt_feedback': {'block_reason': 0, 'safety_ratings': []}, 'finish_reason': 'STOP', 'model_name': 'gemini-2.0-flash', 'safety_ratings': []}, id='run--3e8addc8-7f59-429f-96ed-1fcdc2f873d4-0', usage_metadata={'input_tokens': 116, 'output_tokens': 561, 'total_tokens': 677, 'input_token_details': {'cache_read': 0}})]"
      ]
     },
     "execution_count": 108,
     "metadata": {},
     "output_type": "execute_result"
    }
   ],
   "source": [
    "response[\"messages\"]"
   ]
  },
  {
   "cell_type": "code",
   "execution_count": null,
   "id": "474e4e1d",
   "metadata": {},
   "outputs": [
    {
     "data": {
      "text/markdown": [
       "Okay, here's a recommendation list to help you master Linear Algebra, incorporating resources found via DuckDuckGo search:\n",
       "\n",
       "1.  **Textbook:** \"Linear Algebra and Its Applications\" by Gilbert Strang. This is a classic textbook that provides a comprehensive introduction to the subject. Many online courses also follow this book.\n",
       "\n",
       "2.  **MIT OpenCourseWare:** Gilbert Strang's Linear Algebra course on MIT OpenCourseWare ([https://ocw.mit.edu/courses/18-06-linear-algebra-spring-2010/](https://ocw.mit.edu/courses/18-06-linear-algebra-spring-2010/)). It includes video lectures, lecture notes, problem sets, and solutions.\n",
       "\n",
       "3.  **Khan Academy:** Khan Academy offers a free Linear Algebra course covering a wide range of topics, from basic matrix operations to more advanced concepts like eigenvalues and eigenvectors ([https://www.khanacademy.org/math/linear-algebra](https://www.khanacademy.org/math/linear-algebra)).\n",
       "\n",
       "4.  **3Blue1Brown's \"Essence of Linear Algebra\" series:** This YouTube series provides a visual and intuitive understanding of the fundamental concepts of linear algebra ([https://www.youtube.com/playlist?list=PLZHQObOWTQDPD3MizzM2xVFitgF8hE_ab](https://www.youtube.com/playlist?list=PLZHQObOWTQDPD3MizzM2xVFitgF8hE_ab)).\n",
       "\n",
       "5.  **Practice Problems:** \"Schaum's Outline of Linear Algebra\" by Seymour Lipschutz and Marc Lipson. This book provides a large number of solved problems and practice exercises.\n",
       "\n",
       "6.  **Interactive Linear Algebra:** This is a free online textbook with interactive examples and exercises ([http://textbooks.math.gatech.edu/ila/](http://textbooks.math.gatech.edu/ila/)).\n",
       "\n",
       "7.  **Coding Implementation:** Implement linear algebra concepts in Python using NumPy. This will solidify your understanding and help you see how these concepts are used in practice.\n",
       "\n",
       "8.  **Linear Algebra Done Right by Sheldon Axler:** This book takes a more abstract and theoretical approach, which can be beneficial for a deeper understanding.\n",
       "\n",
       "9. **Applications:** Explore the applications of linear algebra in fields like computer graphics, machine learning, and data science. Seeing how the concepts are used in real-world applications can increase your motivation and understanding.\n",
       "\n",
       "10. **Math Stack Exchange:** Use Math Stack Exchange to ask questions and get help from other students and experts."
      ],
      "text/plain": [
       "<IPython.core.display.Markdown object>"
      ]
     },
     "execution_count": 110,
     "metadata": {},
     "output_type": "execute_result"
    }
   ],
   "source": [
    "Markdown(response[\"messages\"][2].content)"
   ]
  },
  {
   "cell_type": "code",
   "execution_count": null,
   "id": "b19469e0",
   "metadata": {},
   "outputs": [],
   "source": [
    "structured_output_model = init_chat_model(\n",
    "    \"gemini-2.0-flash\", model_provider=\"google_genai\").with_structured_output(RecommendationList)"
   ]
  },
  {
   "cell_type": "code",
   "execution_count": null,
   "id": "a1e9b38e",
   "metadata": {},
   "outputs": [],
   "source": [
    "# Prompt for the structured output conversion\n",
    "structured_output_prompt = ChatPromptTemplate.from_messages([\n",
    "    (\"system\", \"\"\"\n",
    "     You are a data formatting assistant. Create a response in JSON format for the user input.\n",
    "     Use the 'RecommendationList' schema for response wit each item having title, description and url.\n",
    "     Ensure all fields are correctly populated based on the input text.\n",
    "     \"\"\"),\n",
    "    (\"user\", \"{agent_output_text}\")\n",
    "])"
   ]
  },
  {
   "cell_type": "code",
   "execution_count": null,
   "id": "f530706e",
   "metadata": {},
   "outputs": [],
   "source": [
    "structured_chain = structured_output_prompt | structured_output_model"
   ]
  },
  {
   "cell_type": "code",
   "execution_count": null,
   "id": "addb143f",
   "metadata": {},
   "outputs": [],
   "source": [
    "final_output = structured_chain.invoke(\n",
    "    {\"agent_output_text\": response[\"messages\"][2].content})"
   ]
  },
  {
   "cell_type": "code",
   "execution_count": 160,
   "id": "599a139b",
   "metadata": {},
   "outputs": [
    {
     "data": {
      "text/plain": [
       "RecommendationList(recommendations=[Recommendation(title='Linear Algebra and Its Applications by Gilbert Strang', description='This is a classic textbook that provides a comprehensive introduction to the subject. Many online courses also follow this book.', sourceURL=0), Recommendation(title=\"MIT OpenCourseWare: Gilbert Strang's Linear Algebra course\", description='It includes video lectures, lecture notes, problem sets, and solutions.', sourceURL=1), Recommendation(title='Khan Academy Linear Algebra course', description='Khan Academy offers a free Linear Algebra course covering a wide range of topics, from basic matrix operations to more advanced concepts like eigenvalues and eigenvectors', sourceURL=2), Recommendation(title=\"3Blue1Brown's Essence of Linear Algebra series\", description='This YouTube series provides a visual and intuitive understanding of the fundamental concepts of linear algebra', sourceURL=3), Recommendation(title=\"Schaum's Outline of Linear Algebra by Seymour Lipschutz and Marc Lipson\", description='This book provides a large number of solved problems and practice exercises.', sourceURL=0), Recommendation(title='Interactive Linear Algebra', description='This is a free online textbook with interactive examples and exercises', sourceURL=4), Recommendation(title='Coding Implementation', description='Implement linear algebra concepts in Python using NumPy. This will solidify your understanding and help you see how these concepts are used in practice.', sourceURL=0), Recommendation(title='Linear Algebra Done Right by Sheldon Axler', description='This book takes a more abstract and theoretical approach, which can be beneficial for a deeper understanding.', sourceURL=0), Recommendation(title='Applications', description='Explore the applications of linear algebra in fields like computer graphics, machine learning, and data science. Seeing how the concepts are used in real-world applications can increase your motivation and understanding.', sourceURL=0), Recommendation(title='Math Stack Exchange', description='Use Math Stack Exchange to ask questions and get help from other students and experts.', sourceURL=0)])"
      ]
     },
     "execution_count": 160,
     "metadata": {},
     "output_type": "execute_result"
    }
   ],
   "source": [
    "final_output"
   ]
  },
  {
   "cell_type": "code",
   "execution_count": 161,
   "id": "39145c76",
   "metadata": {},
   "outputs": [
    {
     "name": "stdout",
     "output_type": "stream",
     "text": [
      "<class 'dict'>\n"
     ]
    },
    {
     "data": {
      "text/plain": [
       "{'recommendations': [{'title': 'Linear Algebra and Its Applications by Gilbert Strang',\n",
       "   'description': 'This is a classic textbook that provides a comprehensive introduction to the subject. Many online courses also follow this book.',\n",
       "   'sourceURL': 0},\n",
       "  {'title': \"MIT OpenCourseWare: Gilbert Strang's Linear Algebra course\",\n",
       "   'description': 'It includes video lectures, lecture notes, problem sets, and solutions.',\n",
       "   'sourceURL': 1},\n",
       "  {'title': 'Khan Academy Linear Algebra course',\n",
       "   'description': 'Khan Academy offers a free Linear Algebra course covering a wide range of topics, from basic matrix operations to more advanced concepts like eigenvalues and eigenvectors',\n",
       "   'sourceURL': 2},\n",
       "  {'title': \"3Blue1Brown's Essence of Linear Algebra series\",\n",
       "   'description': 'This YouTube series provides a visual and intuitive understanding of the fundamental concepts of linear algebra',\n",
       "   'sourceURL': 3},\n",
       "  {'title': \"Schaum's Outline of Linear Algebra by Seymour Lipschutz and Marc Lipson\",\n",
       "   'description': 'This book provides a large number of solved problems and practice exercises.',\n",
       "   'sourceURL': 0},\n",
       "  {'title': 'Interactive Linear Algebra',\n",
       "   'description': 'This is a free online textbook with interactive examples and exercises',\n",
       "   'sourceURL': 4},\n",
       "  {'title': 'Coding Implementation',\n",
       "   'description': 'Implement linear algebra concepts in Python using NumPy. This will solidify your understanding and help you see how these concepts are used in practice.',\n",
       "   'sourceURL': 0},\n",
       "  {'title': 'Linear Algebra Done Right by Sheldon Axler',\n",
       "   'description': 'This book takes a more abstract and theoretical approach, which can be beneficial for a deeper understanding.',\n",
       "   'sourceURL': 0},\n",
       "  {'title': 'Applications',\n",
       "   'description': 'Explore the applications of linear algebra in fields like computer graphics, machine learning, and data science. Seeing how the concepts are used in real-world applications can increase your motivation and understanding.',\n",
       "   'sourceURL': 0},\n",
       "  {'title': 'Math Stack Exchange',\n",
       "   'description': 'Use Math Stack Exchange to ask questions and get help from other students and experts.',\n",
       "   'sourceURL': 0}]}"
      ]
     },
     "execution_count": 161,
     "metadata": {},
     "output_type": "execute_result"
    }
   ],
   "source": [
    "print(type(final_output.model_dump()))\n",
    "final_output.model_dump()"
   ]
  },
  {
   "cell_type": "code",
   "execution_count": 14,
   "id": "54464399",
   "metadata": {},
   "outputs": [
    {
     "name": "stdout",
     "output_type": "stream",
     "text": [
      "messages=[SystemMessage(content=\"You are a helpful AI assistant. Create a recommendation list for the student to master the provided topic by user.\\n                Supplement your answer with the search results from 'DuckDuckGo' tool to get most relevant recommendations for the topic.\\n                Include links of sources in answers for user to access them directly.\\n                Answer maximum 10 recommendations.\\n                \", additional_kwargs={}, response_metadata={}), HumanMessage(content='Linear Algebra', additional_kwargs={}, response_metadata={})]\n"
     ]
    }
   ],
   "source": [
    "prompt = ChatPromptTemplate.from_messages(\n",
    "    [\n",
    "        (\n",
    "            \"system\",\n",
    "            \"\"\"You are a helpful AI assistant. Create a recommendation list for the student to master the provided topic by user.\n",
    "                Supplement your answer with the search results from 'DuckDuckGo' tool to get most relevant recommendations for the topic.\n",
    "                Include links of sources in answers for user to access them directly.\n",
    "                Answer maximum 10 recommendations.\n",
    "                \"\"\",\n",
    "\n",
    "        ),\n",
    "        (\"user\", \"{topic}\"),\n",
    "    ]\n",
    ")\n",
    "\n",
    "# .partial(format_instructions=output_parser.get_format_instructions())\n",
    "\n",
    "topic = \"Linear Algebra\"\n",
    "\n",
    "print(prompt.invoke({\"topic\": topic}))"
   ]
  },
  {
   "cell_type": "code",
   "execution_count": 24,
   "id": "219b0b5f",
   "metadata": {},
   "outputs": [],
   "source": [
    "recommender_agent = create_react_agent(\n",
    "    model=model,\n",
    "    tools=[search],\n",
    "    response_format=RecommendationList\n",
    ")"
   ]
  },
  {
   "cell_type": "code",
   "execution_count": 25,
   "id": "70133f4c",
   "metadata": {},
   "outputs": [],
   "source": [
    "rec_chain = prompt | recommender_agent"
   ]
  },
  {
   "cell_type": "code",
   "execution_count": 26,
   "id": "1066eb20",
   "metadata": {},
   "outputs": [],
   "source": [
    "response = rec_chain.invoke({\"topic\": topic})"
   ]
  },
  {
   "cell_type": "code",
   "execution_count": 27,
   "id": "80d4adc7",
   "metadata": {},
   "outputs": [
    {
     "data": {
      "text/plain": [
       "[SystemMessage(content=\"You are a helpful AI assistant. Create a recommendation list for the student to master the provided topic by user.\\n                Supplement your answer with the search results from 'DuckDuckGo' tool to get most relevant recommendations for the topic.\\n                Include links of sources in answers for user to access them directly.\\n                Answer maximum 10 recommendations.\\n                \", additional_kwargs={}, response_metadata={}, id='c45839b8-450a-4d74-94be-a7a3278ba4f9'),\n",
       " HumanMessage(content='Linear Algebra', additional_kwargs={}, response_metadata={}, id='42173b39-4e31-449e-a5a6-5569cd55f9c0'),\n",
       " AIMessage(content='Okay, here\\'s a recommendation list to help you master Linear Algebra, incorporating resources found via DuckDuckGo:\\n\\n1.  **Start with the Basics:** Ensure you have a solid foundation in basic algebra and arithmetic. This includes understanding variables, equations, and basic mathematical operations.\\n\\n2.  **Khan Academy\\'s Linear Algebra Course:** This is a highly recommended free resource that covers the fundamentals. It offers videos and practice exercises.\\n    *   [https://www.khanacademy.org/math/linear-algebra](https://www.khanacademy.org/math/linear-algebra)\\n\\n3.  **MIT OpenCourseWare: Gilbert Strang\\'s Linear Algebra:** A classic and comprehensive resource. The lectures and course materials are available online.\\n    *   A search for \"MIT OpenCourseWare Linear Algebra Gilbert Strang\" will lead you to the course page.\\n\\n4.  **\"Linear Algebra and Its Applications\" by Gilbert Strang:** This textbook is widely used and provides a clear and thorough introduction to the subject. Consider getting the latest edition.\\n\\n5.  **\"Linear Algebra Done Right\" by Sheldon Axler:** This book takes a more abstract approach, focusing on vector spaces and linear operators. It\\'s good for developing a deeper understanding.\\n\\n6.  **Practice, Practice, Practice:** Linear algebra is best learned by solving problems. Work through examples in textbooks and online resources.\\n\\n7.  **Schaum\\'s Outline of Linear Algebra:** This is a great resource for practice problems with worked-out solutions.\\n\\n8.  **Online Linear Algebra Calculators:** Use online tools to check your work and experiment with concepts like matrix operations and solving systems of equations. A search for \"linear algebra calculator\" will provide many options.\\n\\n9.  **3Blue1Brown\\'s Linear Algebra Series:** This YouTube series provides excellent visual explanations of linear algebra concepts.\\n    *   A search for \"3Blue1Brown Linear Algebra\" will lead you to the series.\\n\\n10. **Understand the Geometric Interpretations:** Linear algebra is closely related to geometry. Visualizing vectors, matrices, and linear transformations can greatly enhance your understanding.', additional_kwargs={}, response_metadata={'prompt_feedback': {'block_reason': 0, 'safety_ratings': []}, 'finish_reason': 'STOP', 'model_name': 'gemini-2.0-flash', 'safety_ratings': []}, id='run--19b4df5f-7e8e-4c26-9798-3ad0bafc9734-0', usage_metadata={'input_tokens': 116, 'output_tokens': 446, 'total_tokens': 562, 'input_token_details': {'cache_read': 0}})]"
      ]
     },
     "execution_count": 27,
     "metadata": {},
     "output_type": "execute_result"
    }
   ],
   "source": [
    "response[\"messages\"]"
   ]
  },
  {
   "cell_type": "code",
   "execution_count": 28,
   "id": "8d494c31",
   "metadata": {},
   "outputs": [
    {
     "data": {
      "text/plain": [
       "{'recommendations': [{'title': 'Review Basic Algebra',\n",
       "   'description': 'Start with the basics of algebra.',\n",
       "   'url': ''},\n",
       "  {'title': 'Khan Academy Linear Algebra',\n",
       "   'description': 'Khan Academy is a free resource that covers the fundamentals of linear algebra with videos and exercises.',\n",
       "   'url': 'https://www.khanacademy.org/math/linear-algebra'},\n",
       "  {'title': \"MIT OpenCourseWare: Gilbert Strang's Linear Algebra\",\n",
       "   'description': 'A classic and comprehensive resource with lectures and course materials available online.',\n",
       "   'url': \"Search 'MIT OpenCourseWare Linear Algebra Gilbert Strang'\"},\n",
       "  {'title': \"'Linear Algebra and Its Applications' by Gilbert Strang\",\n",
       "   'description': 'A widely used textbook that provides a clear and thorough introduction to linear algebra.',\n",
       "   'url': ''},\n",
       "  {'title': \"'Linear Algebra Done Right' by Sheldon Axler\",\n",
       "   'description': 'This book takes a more abstract approach, focusing on vector spaces and linear operators.',\n",
       "   'url': ''},\n",
       "  {'title': 'Practice Problems',\n",
       "   'description': 'Practice solving problems from textbooks and online resources.',\n",
       "   'url': ''},\n",
       "  {'title': \"Schaum's Outline of Linear Algebra\",\n",
       "   'description': 'This is a great resource for practice problems with worked-out solutions.',\n",
       "   'url': ''},\n",
       "  {'title': 'Online Linear Algebra Calculators',\n",
       "   'description': 'Use online tools to check your work and experiment with concepts.',\n",
       "   'url': \"Search 'linear algebra calculator'\"},\n",
       "  {'title': \"3Blue1Brown's Linear Algebra Series\",\n",
       "   'description': 'This YouTube series provides excellent visual explanations of linear algebra concepts.',\n",
       "   'url': \"Search '3Blue1Brown Linear Algebra'\"},\n",
       "  {'title': 'Geometric Interpretations',\n",
       "   'description': 'Visualize vectors, matrices, and linear transformations to enhance your understanding.',\n",
       "   'url': ''}]}"
      ]
     },
     "execution_count": 28,
     "metadata": {},
     "output_type": "execute_result"
    }
   ],
   "source": [
    "response[\"structured_response\"].model_dump()"
   ]
  }
 ],
 "metadata": {
  "kernelspec": {
   "display_name": ".venv",
   "language": "python",
   "name": "python3"
  },
  "language_info": {
   "codemirror_mode": {
    "name": "ipython",
    "version": 3
   },
   "file_extension": ".py",
   "mimetype": "text/x-python",
   "name": "python",
   "nbconvert_exporter": "python",
   "pygments_lexer": "ipython3",
   "version": "3.12.10"
  }
 },
 "nbformat": 4,
 "nbformat_minor": 5
}
