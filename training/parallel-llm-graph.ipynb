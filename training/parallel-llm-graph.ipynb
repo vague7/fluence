{
 "cells": [
  {
   "cell_type": "markdown",
   "id": "f47bb49e",
   "metadata": {},
   "source": [
    "## Training GenAI for Educational App"
   ]
  },
  {
   "cell_type": "code",
   "execution_count": 40,
   "id": "e1df9254",
   "metadata": {},
   "outputs": [],
   "source": [
    "from dotenv import load_dotenv\n",
    "from langchain.chat_models import init_chat_model"
   ]
  },
  {
   "cell_type": "code",
   "execution_count": 41,
   "id": "67fa768d",
   "metadata": {},
   "outputs": [
    {
     "data": {
      "text/plain": [
       "True"
      ]
     },
     "execution_count": 41,
     "metadata": {},
     "output_type": "execute_result"
    }
   ],
   "source": [
    "load_dotenv()"
   ]
  },
  {
   "cell_type": "code",
   "execution_count": 42,
   "id": "98bb9d04",
   "metadata": {},
   "outputs": [
    {
     "name": "stdout",
     "output_type": "stream",
     "text": [
      "content='Hello there! How can I help you today?' additional_kwargs={} response_metadata={'prompt_feedback': {'block_reason': 0, 'safety_ratings': []}, 'finish_reason': 'STOP', 'model_name': 'gemini-2.0-flash', 'safety_ratings': []} id='run--2c020381-6974-44f3-855c-cfc87bf21a09-0' usage_metadata={'input_tokens': 3, 'output_tokens': 11, 'total_tokens': 14, 'input_token_details': {'cache_read': 0}}\n"
     ]
    }
   ],
   "source": [
    "model = init_chat_model(\"gemini-2.0-flash\", model_provider=\"google_genai\")\n",
    "response = model.invoke(\"Hello World!!\")\n",
    "print(response)"
   ]
  },
  {
   "cell_type": "markdown",
   "id": "9c2e3928",
   "metadata": {},
   "source": [
    "### Learning Mode for Students\n",
    "\n",
    "A student should get personalized learning experience based on their profile -\n",
    "1. class level - class 6, 12th, undergrad, postgrad etc.\n",
    "2. language - hindi, english, marathi etc\n",
    "\n",
    "We generate following assets\n",
    "1. Podcast\n",
    "2. Mindmap\n",
    "3. Quiz - interactable and feedback based, sharable, printable\n",
    "4. Recommended courses from internet\n",
    "5. A study action plan\n",
    "\n",
    "A student can enter \n",
    "1. a topic name\n",
    "2. audio recoding of lecture\n",
    "3. pdf content\n",
    "\n",
    "This is multi-step, multi-tool AI Agent so will will use `LangGraph` to build the multi-step `Agent` where each node is assigned some specific task and we will try to stream the response back to the user. I am thinking that each node should do its independent job so we can also run these nodes in parallel because they are kind of not tightly coupled with each other's response.\n",
    "\n",
    "Check this link for parallelization -> https://langchain-ai.github.io/langgraph/tutorials/workflows/#parallelization"
   ]
  },
  {
   "cell_type": "code",
   "execution_count": 43,
   "id": "69057b7a",
   "metadata": {},
   "outputs": [],
   "source": [
    "from langgraph.graph import StateGraph, START, END\n",
    "from IPython.display import Image, display\n",
    "from typing_extensions import TypedDict"
   ]
  },
  {
   "cell_type": "markdown",
   "id": "b66920e9",
   "metadata": {},
   "source": [
    "Define the State for our Graph workflow"
   ]
  },
  {
   "cell_type": "code",
   "execution_count": 44,
   "id": "c3c183e2",
   "metadata": {},
   "outputs": [],
   "source": [
    "# Graph state\n",
    "class State(TypedDict):\n",
    "    topic: str\n",
    "    joke: str\n",
    "    story: str\n",
    "    poem: str\n",
    "    combined_output: str"
   ]
  },
  {
   "cell_type": "markdown",
   "id": "3c783d70",
   "metadata": {},
   "source": [
    "Nodes for the Graph"
   ]
  },
  {
   "cell_type": "code",
   "execution_count": 54,
   "id": "eebdd061",
   "metadata": {},
   "outputs": [],
   "source": [
    "def call_llm_1(state: State):\n",
    "    \"\"\"First LLM call to generate initial joke\"\"\"\n",
    "\n",
    "    msg = model.invoke(f\"Write a joke about {state['topic']}\")\n",
    "    return {\"joke\": msg.content}\n",
    "\n",
    "\n",
    "def call_llm_2(state: State):\n",
    "    \"\"\"Second LLM call to generate story\"\"\"\n",
    "\n",
    "    msg = model.invoke(f\"Write a story about {state['topic']} in 50 words.\")\n",
    "    return {\"story\": msg.content}\n",
    "\n",
    "\n",
    "def call_llm_3(state: State):\n",
    "    \"\"\"Third LLM call to generate poem\"\"\"\n",
    "\n",
    "    msg = model.invoke(f\"Write a poem about {state['topic']}\")\n",
    "    return {\"poem\": msg.content}\n",
    "\n",
    "\n",
    "def aggregator(state: State):\n",
    "    \"\"\"Combine the joke and story into a single output\"\"\"\n",
    "\n",
    "    combined = f\"Here's a story, joke, and poem about {state['topic']}!\\n\\n\"\n",
    "    combined += f\"STORY:\\n{state.get('story')}\\n\\n\"\n",
    "    combined += f\"JOKE:\\n{state.get('joke')}\\n\\n\"\n",
    "    combined += f\"POEM:\\n{state.get('poem')}\"\n",
    "    return {\"combined_output\": combined}"
   ]
  },
  {
   "cell_type": "markdown",
   "id": "1187c8ce",
   "metadata": {},
   "source": [
    "Build the agentic workflow"
   ]
  },
  {
   "cell_type": "code",
   "execution_count": 55,
   "id": "6cf6124b",
   "metadata": {},
   "outputs": [],
   "source": [
    "parallel_builder = StateGraph(State)"
   ]
  },
  {
   "cell_type": "markdown",
   "id": "2c53ccc0",
   "metadata": {},
   "source": [
    "Add all the required nodes"
   ]
  },
  {
   "cell_type": "code",
   "execution_count": 56,
   "id": "50326371",
   "metadata": {},
   "outputs": [
    {
     "data": {
      "text/plain": [
       "<langgraph.graph.state.StateGraph at 0x10de89070>"
      ]
     },
     "execution_count": 56,
     "metadata": {},
     "output_type": "execute_result"
    }
   ],
   "source": [
    "# Add nodes\n",
    "parallel_builder.add_node(\"call_llm_1\", call_llm_1)\n",
    "parallel_builder.add_node(\"call_llm_2\", call_llm_2)\n",
    "parallel_builder.add_node(\"call_llm_3\", call_llm_3)\n",
    "parallel_builder.add_node(\"aggregator\", aggregator)"
   ]
  },
  {
   "cell_type": "markdown",
   "id": "c4091e18",
   "metadata": {},
   "source": [
    "Add edges to connect these nodes in meaningful ways."
   ]
  },
  {
   "cell_type": "code",
   "execution_count": 57,
   "id": "047c2a05",
   "metadata": {},
   "outputs": [
    {
     "data": {
      "text/plain": [
       "<langgraph.graph.state.StateGraph at 0x10de89070>"
      ]
     },
     "execution_count": 57,
     "metadata": {},
     "output_type": "execute_result"
    }
   ],
   "source": [
    "parallel_builder.add_edge(START, \"call_llm_1\")\n",
    "parallel_builder.add_edge(START, \"call_llm_2\")\n",
    "parallel_builder.add_edge(START, \"call_llm_3\")\n",
    "parallel_builder.add_edge(\"call_llm_1\", \"aggregator\")\n",
    "parallel_builder.add_edge(\"call_llm_2\", \"aggregator\")\n",
    "parallel_builder.add_edge(\"call_llm_3\", \"aggregator\")\n",
    "parallel_builder.add_edge(\"aggregator\", END)"
   ]
  },
  {
   "cell_type": "markdown",
   "id": "1689b673",
   "metadata": {},
   "source": [
    "Compile the model."
   ]
  },
  {
   "cell_type": "code",
   "execution_count": 58,
   "id": "7be7ffc6",
   "metadata": {},
   "outputs": [],
   "source": [
    "parallel_workflow = parallel_builder.compile()"
   ]
  },
  {
   "cell_type": "markdown",
   "id": "6cd07ab8",
   "metadata": {},
   "source": [
    "Visualize the graph"
   ]
  },
  {
   "cell_type": "code",
   "execution_count": 59,
   "id": "692695ea",
   "metadata": {},
   "outputs": [
    {
     "data": {
      "image/png": "[encoded data removed]",
      "text/plain": [
       "<IPython.core.display.Image object>"
      ]
     },
     "metadata": {},
     "output_type": "display_data"
    }
   ],
   "source": [
    "display(Image(parallel_workflow.get_graph().draw_mermaid_png()))"
   ]
  },
  {
   "cell_type": "code",
   "execution_count": 60,
   "id": "d3b6eb68",
   "metadata": {},
   "outputs": [],
   "source": [
    "state = parallel_workflow.invoke({\"topic\": \"cats\"})"
   ]
  },
  {
   "cell_type": "code",
   "execution_count": 61,
   "id": "aa39b13e",
   "metadata": {},
   "outputs": [
    {
     "name": "stdout",
     "output_type": "stream",
     "text": [
      "Here's a story, joke, and poem about cats!\n",
      "\n",
      "STORY:\n",
      "Whiskers twitched, emerald eyes narrowed. Midnight, a sleek black cat, stalked a laser pointer's crimson dance. Suddenly, a fluffy white blur, Snowball, pounced, batting Midnight aside. A silent war erupted, ending in a tangled purring heap, bathed in the warm glow of the setting sun.\n",
      "\n",
      "JOKE:\n",
      "Why did the cat join the Red Cross?\n",
      "\n",
      "Because it wanted to be a first-aid kit! \n",
      "\n",
      "POEM:\n",
      "A velvet shadow, sleek and sly,\n",
      "With eyes that hold a moonlit sky.\n",
      "A silent tread, a graceful leap,\n",
      "A purring secret, buried deep.\n",
      "\n",
      "A whiskered face, a twitching nose,\n",
      "Investigating where it goes,\n",
      "The dust mote dancing in the sun,\n",
      "A game begun, a chase is run.\n",
      "\n",
      "A hunter fierce, a primal grace,\n",
      "A tiny lion in this place.\n",
      "A stalk, a pounce, a feathered toy,\n",
      "Then slumber deep, in blissful joy.\n",
      "\n",
      "A kneading paw, a rumbling chest,\n",
      "A comfort given, truly blessed.\n",
      "A furry friend, a constant near,\n",
      "Dispelling worries, calming fear.\n",
      "\n",
      "So let them roam, these creatures free,\n",
      "A mystery for all to see.\n",
      "For in their eyes, a wisdom lies,\n",
      "Reflecting stars in moonlit skies.\n"
     ]
    }
   ],
   "source": [
    "print(state[\"combined_output\"])"
   ]
  },
  {
   "cell_type": "code",
   "execution_count": null,
   "id": "5b504051",
   "metadata": {},
   "outputs": [],
   "source": []
  }
 ],
 "metadata": {
  "kernelspec": {
   "display_name": ".venv",
   "language": "python",
   "name": "python3"
  },
  "language_info": {
   "codemirror_mode": {
    "name": "ipython",
    "version": 3
   },
   "file_extension": ".py",
   "mimetype": "text/x-python",
   "name": "python",
   "nbconvert_exporter": "python",
   "pygments_lexer": "ipython3",
   "version": "3.12.10"
  }
 },
 "nbformat": 4,
 "nbformat_minor": 5
}
