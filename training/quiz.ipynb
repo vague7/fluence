{
 "cells": [
  {
   "cell_type": "markdown",
   "id": "f47bb49e",
   "metadata": {},
   "source": [
    "### Quiz Builder"
   ]
  },
  {
   "cell_type": "code",
   "execution_count": 1,
   "id": "e1df9254",
   "metadata": {},
   "outputs": [],
   "source": [
    "from dotenv import load_dotenv\n",
    "from langchain.chat_models import init_chat_model\n",
    "from langchain_core.prompts import ChatPromptTemplate\n",
    "from langchain.output_parsers import PydanticOutputParser\n",
    "from pydantic import BaseModel, Field"
   ]
  },
  {
   "cell_type": "code",
   "execution_count": 2,
   "id": "67fa768d",
   "metadata": {},
   "outputs": [
    {
     "data": {
      "text/plain": [
       "True"
      ]
     },
     "execution_count": 2,
     "metadata": {},
     "output_type": "execute_result"
    }
   ],
   "source": [
    "load_dotenv()"
   ]
  },
  {
   "cell_type": "code",
   "execution_count": 3,
   "id": "f8d137db",
   "metadata": {},
   "outputs": [],
   "source": [
    "# Structured output for model for quiz output\n",
    "\n",
    "from typing import List\n",
    "\n",
    "\n",
    "class QuestionOptions(BaseModel):\n",
    "    A: str = Field(\"Option A for the question\")\n",
    "    B: str = Field(\"Option B for the question\")\n",
    "    C: str = Field(\"Option C for the question\")\n",
    "    D: str = Field(\"Option D for the question\")\n",
    "\n",
    "\n",
    "class Question(BaseModel):\n",
    "    question: str = Field(\n",
    "        description=\"Question\")\n",
    "    options: QuestionOptions\n",
    "    correctAnswer: str = Field(description=\"Correct answer - one of these options A, B, C or D\")\n",
    "    hint: str = Field(\n",
    "        description=\"A small hint to help user think in right direction\")\n",
    "    explaination: str = Field(description=\"Explaination of the correct answer\")\n",
    "    \n",
    "\n",
    "class QuizOutput(BaseModel):\n",
    "    title: str = Field(description=\"A suitable title for the quiz.\")\n",
    "    questions: List[Question] = Field(\n",
    "        description=\"A list of quiz questions in MCQ format, with each question having 4 options.\"\n",
    "    )"
   ]
  },
  {
   "cell_type": "code",
   "execution_count": 5,
   "id": "8270f7a4",
   "metadata": {},
   "outputs": [],
   "source": [
    "# output structures\n",
    "class SummaryNoteOutput(BaseModel):\n",
    "    title: str = Field(description=\"Title of the note\")\n",
    "    summary: str = Field(description=\"Summary Note in markdown language\")"
   ]
  },
  {
   "cell_type": "code",
   "execution_count": 7,
   "id": "cbd8c14d",
   "metadata": {},
   "outputs": [],
   "source": [
    "# Student profile type definition\n",
    "from typing import Optional, TypedDict\n",
    "\n",
    "\n",
    "class StudentProfile(TypedDict):\n",
    "    gender: str\n",
    "    class_level: str  # e.g., \"class 6\", \"12th\", \"undergrad\", \"postgrad\"\n",
    "    language: str     # e.g., \"hindi\", \"english\", \"marathi\"\n",
    "\n",
    "\n",
    "class UserPrompt(TypedDict):\n",
    "    topic: str\n",
    "    file_url: Optional[str]\n",
    "# Graph state\n",
    "\n",
    "\n",
    "class State(TypedDict):\n",
    "    learning_space_id: str\n",
    "    student_profile: StudentProfile\n",
    "    user_prompt: UserPrompt\n",
    "    summary_notes: SummaryNoteOutput\n",
    "    podcast_script: str\n",
    "    mindmap: str\n",
    "    quiz: QuizOutput\n",
    "    recommended_resources: str\n",
    "    study_plan: str\n",
    "    combined_output: str"
   ]
  },
  {
   "cell_type": "code",
   "execution_count": 4,
   "id": "98bb9d04",
   "metadata": {},
   "outputs": [
    {
     "name": "stdout",
     "output_type": "stream",
     "text": [
      "content='Hello there! How can I help you today?' additional_kwargs={} response_metadata={'prompt_feedback': {'block_reason': 0, 'safety_ratings': []}, 'finish_reason': 'STOP', 'model_name': 'gemini-2.0-flash', 'safety_ratings': []} id='run--ea6e2e2e-a19a-41ea-9855-f4c1e3bcd065-0' usage_metadata={'input_tokens': 3, 'output_tokens': 11, 'total_tokens': 14, 'input_token_details': {'cache_read': 0}}\n"
     ]
    }
   ],
   "source": [
    "model = init_chat_model(\"gemini-2.0-flash\", model_provider=\"google_genai\", )\n",
    "response = model.invoke(\"Hello World!!\")\n",
    "print(response)"
   ]
  },
  {
   "cell_type": "code",
   "execution_count": 8,
   "id": "848b322c",
   "metadata": {},
   "outputs": [],
   "source": [
    "# Agent Node - Notes Summary\n",
    "\n",
    "def node_quiz(state: State):\n",
    "    \"\"\"LLM call to generate quiz based on summary content\"\"\"\n",
    "\n",
    "    # generate the chat prompt\n",
    "\n",
    "    \"\"\"Create a personalized prompt based on student profile\"\"\"\n",
    "\n",
    "    prompt_template = ChatPromptTemplate([\n",
    "        (\"system\", \"\"\" \n",
    "        You are a helpful academic tutor. Use these instructions to create a quiz on the notes provided by the user:\n",
    "        \n",
    "        Student Profile:\n",
    "            - Class Level: {grade_level}\n",
    "            - Language: {language} \n",
    "            - Gender: {gender}\n",
    "        \n",
    "        1. Questions should be in MCQ format with 4 options each.\n",
    "        2. Create 10 quality questions which tests fundamentals and analytical thinking of the user. \n",
    "        3. Adapt your language and complexity based on the student's profile provided.\n",
    "        4. Respond in JSON format which can be used to render a quiz UI.\n",
    "        5. Include correct answer, hint and explaination with each question.\n",
    "        \"\"\"),\n",
    "        (\"user\", \"Topic Summary {topic_summary}\")\n",
    "    ])\n",
    "    \n",
    "   \n",
    "    # init a new model with structured output\n",
    "    model = init_chat_model(\n",
    "        \"gemini-2.0-flash\", model_provider=\"google_genai\").with_structured_output(QuizOutput)\n",
    "\n",
    "    chain = prompt_template | model\n",
    "    \n",
    "    response = chain.invoke(\n",
    "        {\n",
    "            \"grade_level\": state['student_profile'].get(\"grade_level\", \"general\"),\n",
    "            \"language\": state['student_profile'].get(\"language\", \"English\"),\n",
    "            \"gender\": state['student_profile'].get(\"gender\", \"\"),\n",
    "            \"topic_summary\": state[\"summary_notes\"]\n",
    "        }\n",
    "    )\n",
    "\n",
    "    # # update in supabase database\n",
    "    # supabase_response = (\n",
    "    #     supabase.table(\"learning_space\")\n",
    "    #     .update({\"summary_notes\": response.model_dump()})\n",
    "    #     .eq(\"id\", state[\"learning_space_id\"])\n",
    "    #     .execute()\n",
    "    # )\n",
    "\n",
    "    # print(\"Supabase Response\", supabase_response)\n",
    "\n",
    "    return {\"quiz\": response.model_dump()}"
   ]
  },
  {
   "cell_type": "code",
   "execution_count": 9,
   "id": "19846c85",
   "metadata": {},
   "outputs": [],
   "source": [
    "input_state = {\n",
    "    \"learning_space_id\": '48484754-ae7c-4b4b-bdea-12784ed54a2f',\n",
    "    \"student_profile\": {\n",
    "        \"gender\": \"MALE\",\n",
    "        \"grade_level\": \"12th\",\n",
    "        \"language\": \"HINDI\"\n",
    "    },\n",
    "    \"user_prompt\": {\n",
    "        \"topic\": \"Uncertainty in AI\",\n",
    "        \"file_url\": \"https://kclenjtsvdayeghmmmkm.supabase.co/storage/v1/object/public/learning-sources/public/Slides_Module8.pdf\",\n",
    "    },\n",
    "    \"summary_notes\": \"\"\"\n",
    "    {\"title\": \"AI में अनिश्चितता (Uncertainty in AI) \", \"summary\": \"# AI में अनिश्चितता (Uncertainty in AI) पर नोट्स\\n\\n## मॉड्यूल का उद्देश्य:\\n*   AI सिस्टम्स में ज्ञान और तर्क में अनिश्चितता को मापने और प्रबंधित करने के तरीकों को समझना और लागू करना।\\n\\n## विषय:\\n*   **अनिश्चितता में काम करना (Acting under Uncertainty):**\\n    *   एजेंट्स को अनिश्चितता से निपटने की आवश्यकता हो सकती है।\\n    *   एक एजेंट को निश्चित रूप से पता नहीं हो सकता कि वह किस स्थिति में है या कार्यों के क्रम के बाद वह कहां समाप्त होगा।\\n    *   एजेंट्स को एक विश्वास स्थिति (belief state) का ट्रैक रखकर अनिश्चितता को संभालने के लिए डिज़ाइन किया गया है।\\n    *   उदाहरण: एक स्वचालित टैक्सी का लक्ष्य है कि वह एक यात्री को समय पर हवाई अड्डे पर पहुंचाए।\\n\\n*   **अनिश्चितता का सारांश (Summarizing uncertainty):**\\n    *   अनिश्चित तर्क का एक उदाहरण देखते हैं।\\n    *   निदान (Diagnosis) - चाहे चिकित्सा, ऑटोमोबाइल की मरम्मत, या कुछ भी हो - लगभग हमेशा अनिश्चितता शामिल होती है।\\n    *   प्रस्तावात्मक तर्क (propositional logic) का उपयोग करके दंत निदान (dental diagnosis) के लिए नियम लिखने का प्रयास करते हैं।\\n    *   एक साधारण नियम पर विचार करें:\\n        *   दांत दर्द (Toothache) → कैविटी (Cavity)\\n        *   दांत दर्द (Toothache) → कैविटी (Cavity) या मसूड़ों की समस्या (GumProblem) या फोड़ा (Abscess) ...\\n        *   कैविटी (Cavity) → दांत दर्द (Toothache)\\n    *   चिकित्सा निदान जैसे डोमेन से निपटने के लिए तर्क का उपयोग करने का प्रयास तीन मुख्य कारणों से विफल रहता है:\\n        *   आलस्य (Laziness)\\n        *   सैद्धांतिक अज्ञानता (Theoretical ignorance)\\n        *   व्यावहारिक अज्ञानता (Practical ignorance)\\n    *   एजेंट का ज्ञान सबसे अच्छा संबंधित वाक्यों में विश्वास की डिग्री प्रदान कर सकता है।\\n    *   विश्वास की डिग्री से निपटने के लिए हमारा मुख्य उपकरण प्रायिकता सिद्धांत (probability theory) है।\\n    *   प्रायिकता हमारी आलस्य और अज्ञानता से आने वाली अनिश्चितता को सारांशित करने का एक तरीका प्रदान करती है।\\n    *   एक भ्रमित करने वाला बिंदु यह है कि निदान के समय, वास्तविक दुनिया में कोई अनिश्चितता नहीं है: रोगी को या तो कैविटी है या नहीं।\\n\\n*   **अनिश्चितता और तर्कसंगत निर्णय (Uncertainty and rational decisions):**\\n    *   सफलता दरों (Success Rates) की तुलना।\\n    *   विश्वसनीयता (Reliability) का महत्व।\\n    *   ट्रेड-ऑफ और असुविधाएं (Trade-offs and Inconveniences)।\\n    *   प्राथमिकताएं और परिणाम (Preferences and Outcomes)।\\n    *   उपयोगिता सिद्धांत (Utility Theory)।\\n    *   उपयोगिता की सापेक्षता (Relativity of utility)।\\n        *   एजेंट परिप्रेक्ष्य (agent perspective) के आधार पर उपयोगिता की व्यक्तिपरकता (Subjectivity)।\\n        *   उपयोगिता कार्यों में विविध प्राथमिकताओं का समायोजन (Accommodation)।\\n    *   प्रायिकता और उपयोगिता सिद्धांतों का एकीकरण (Integration)।\\n    *   अधिकतम अपेक्षित उपयोगिता (Maximum Expected Utility (MEU)) का सिद्धांत।\\n    *   विभिन्न डोमेन में अनुप्रयोग (Application)।\\n\\n*   **बुनियादी प्रायिकता संकेतन (Basic Probability Notation):**\\n    *   स्पष्टता और परिशुद्धता (Clarity and Precision):\\n        *   असंदिग्ध संचार (Unambiguous communication)।\\n        *   औपचारिक प्रतिनिधित्व (Formal representation)।\\n    *   उन्नत विश्लेषण (Advanced Analysis) के लिए आधार:\\n        *   जटिल मॉडल के लिए बिल्डिंग ब्लॉक (Building block)।\\n        *   गणना और एल्गोरिदम (calculations and algorithms) को सुविधाजनक बनाना।\\n\\n*   **प्रायिकताएं किसके बारे में हैं (What probabilities are about):**\\n    *   नमूना स्थान (Sample space)।\\n    *   प्रायिकता मॉडल (Probability model)।\\n    *   घटनाएँ (Events)।\\n    *   बिना शर्त और पूर्व प्रायिकता (Unconditional and Prior probability)।\\n    *   साक्ष्य (Evidence)।\\n    *   सशर्त और उत्तर प्रायिकता (Conditional and Posterior probability)।\\n    *   उत्पाद नियम (Product rule)।\\n\\n*   **प्रायिकता अभिकथन (probability assertions) में प्रस्तावों की भाषा (language):**\\n    *   यादृच्छिक चर (Random variables)।\\n    *   डोमेन (Domain)।\\n    *   प्रायिकता वितरण (Probability distribution)।\\n    *   प्रायिकता घनत्व फलन (Probability density function)।\\n    *   संयुक्त प्रायिकता वितरण (Joint probability distribution)।\\n    *   पूर्ण संयुक्त प्रायिकता वितरण (Full joint probability distribution)।\\n\\n*   **प्रायिकता स्वयंसिद्ध (Probability axioms) और उनकी तर्कसंगतता (reasonableness):**\\n    *   प्रायिकता स्वयंसिद्ध उन मूलभूत सिद्धांतों का निर्माण करते हैं जिन पर प्रायिकता का पूरा सिद्धांत बना है।\\n        *   गैर-नकारात्मकता स्वयंसिद्ध (Non-negativity Axiom)।\\n        *   सामान्यीकरण स्वयंसिद्ध (Normalization Axiom)।\\n    *   प्रायिकता स्वयंसिद्धों की तर्कसंगतता (Reasonableness):\\n        *   तार्किक स्थिरता (Logical Consistency)।\\n        *   सहज ज्ञान युक्त अपील (Intuitive Appeal)।\\n        *   गणितीय आधार (Mathematical Foundation)।\\n        *   अनुप्रयोग (Applicability)।\\n    *   समावेश-बहिष्करण सिद्धांत (Inclusion-exclusion principle)।\\n\\n*   **पूर्ण संयुक्त वितरण (Full Joint Distributions) का उपयोग करके अनुमान (Inference):**\\n    *   संभाव्य अनुमान (Probabilistic inference) अनिश्चितता के तहत तर्क और निर्णय लेने की प्रक्रिया है, जो प्रायिकता सिद्धांत (probability theory) से सिद्धांतों का उपयोग करके मान्यताओं को अपडेट करती है या भविष्यवाणियां करती है।\\n    *   अनुमान के प्रकार (Type of inference):\\n        *   सीमांतीकरण (Marginalization)।\\n        *   सशर्त प्रायिकता (Conditional Probability)।\\n        *   संयुक्त अनुमान (Joint Inference)।\\n    *   संभाव्य अनुमान (Probabilistic inference) की प्रक्रिया:\\n        *   समस्या को परिभाषित करें (Define)।\\n        *   एक मॉडल का निर्माण करें (Construct)।\\n        *   अनुमान (Inference)।\\n        *   परिणामों का मूल्यांकन और व्याख्या करें (Evaluate and Interpret)।\\n\\n*   **स्वतंत्रता (Independence):**\\n    *   मान लीजिए कि हम दांत दर्द, कैच, कैविटी की दुनिया के लिए पूर्ण संयुक्त वितरण का विस्तार एक चौथे बाइनरी चर, मौसम (Weather) (W) को जोड़कर करते हैं।\\n    *   चार बाइनरी चर के साथ, इन चर के 16 संभावित संयोजन हैं।\\n    *   तालिका की प्रत्येक पंक्ति चर T, C, H, और W के एक अद्वितीय संयोजन का प्रतिनिधित्व करती है।\\n    *   अंतिम कॉलम घटनाओं के उस विशिष्ट संयोजन की प्रायिकता का प्रतिनिधित्व करता है।\\n    *   सीमांत प्रायिकताएँ (Marginal Probabilities)।\\n        *   T = True (दांत दर्द) की सीमांत प्रायिकता (Marginal probability):\\n        *   W = Sunny (मौसम धूप है) की सीमांत प्रायिकता (Marginal probability):\\n    *   उदाहरण के लिए, P(toothache, catch, cavity, cloudy) और P(toothache, catch, cavity) कैसे संबंधित हैं?\\n    *   इससे, हम अनुमान लगा सकते हैं,\\n    *   वास्तव में, हम सामान्य समीकरण लिख सकते हैं\\n    *   इस प्रकार, चार चर के लिए 32-तत्व तालिका को एक 8-तत्व तालिका और एक 4-तत्व तालिका से बनाया जा सकता है।\\n    *   पूर्ण स्वतंत्रता का उपयोग करके बड़े संयुक्त वितरण को छोटे वितरणों में फैक्टर करने के उदाहरण।\\n    *   स्वतंत्रता के प्रकार (Types):\\n        *   सीमांत स्वतंत्रता (Marginal independence)।\\n            *   अन्य चर पर कंडीशनिंग के बिना, अलग-अलग माने जाने वाले व्यक्तिगत चर की स्वतंत्रता।\\n        *   पूर्ण स्वतंत्रता (Absolute independence)।\\n            *   चर की स्वतंत्रता तब भी होती है जब किसी अन्य चर पर कंडीशनिंग की जाती है।\\n\\n*   **बेयस का नियम (Bayes' Rule) और इसका उपयोग (Use):**\\n    *   उत्पाद नियम (product rule) को इस प्रकार लिखा जा सकता है:\\n    *   इस समीकरण को बेयस का नियम (Bayes' rule) (जिसे बेयस का कानून या बेयस का प्रमेय भी कहा जाता है) के रूप में जाना जाता है। यह सरल समीकरण संभाव्य अनुमान (probabilistic inference) के लिए अधिकांश आधुनिक AI प्रणालियों को रेखांकित करता है।\\n    *   बेयस का नियम संभाव्य अनुमान (probabilistic inference) के लिए मौलिक है और कई आधुनिक AI प्रणालियों को रेखांकित करता है।\\n    *   उदाहरण स्पैम फ़िल्टरिंग (Example Spam Filtering)।\\n        *   P(H|E): साक्ष्य E दिए जाने पर परिकल्पना H की उत्तर प्रायिकता (Posterior probability)।\\n        *   P(E|H): यदि H सत्य है तो साक्ष्य E को देखने की संभावना।\\n        *   P(H): परिकल्पना H की पूर्व प्रायिकता (Prior probability)।\\n        *   P(E): साक्ष्य E को देखने की सीमांत प्रायिकता (Marginal probability)।\\n    *   चिकित्सा निदान (Medical Diagnosis)।\"}...\n",
    "    \"\"\"\n",
    "}"
   ]
  },
  {
   "cell_type": "code",
   "execution_count": 10,
   "id": "28b8229d",
   "metadata": {},
   "outputs": [],
   "source": [
    "response = node_quiz(input_state)"
   ]
  },
  {
   "cell_type": "code",
   "execution_count": 12,
   "id": "d01fa6bb",
   "metadata": {},
   "outputs": [
    {
     "data": {
      "text/plain": [
       "{'title': 'AI में अनिश्चितता पर प्रश्नोत्तरी',\n",
       " 'questions': [{'question': 'AI में अनिश्चितता से निपटने के दौरान, निम्नलिखित में से कौन सा परिदृश्य सही है?',\n",
       "   'options': {'A': 'एजेंट को निश्चित रूप से पता नहीं हो सकता कि वह किस स्थिति में है।',\n",
       "    'B': 'एजेंट हमेशा जानता है कि वह किस स्थिति में है।',\n",
       "    'C': 'एजेंट को कार्यों के परिणाम का निश्चित ज्ञान होता है।',\n",
       "    'D': 'एजेंट अनिश्चितता से प्रभावित नहीं होता है।'},\n",
       "   'correctAnswer': 'A',\n",
       "   'hint': 'अनिश्चितता का मतलब निश्चित ज्ञान का अभाव है।',\n",
       "   'explaination': 'अनिश्चितता में, एजेंट को यह निश्चित रूप से नहीं पता होता कि वह किस स्थिति में है या कार्यों के क्रम के बाद वह कहाँ समाप्त होगा।'},\n",
       "  {'question': 'AI में अनिश्चितता को सारांशित करने के लिए मुख्य उपकरण क्या है?',\n",
       "   'options': {'A': 'प्रस्तावात्मक तर्क का उपयोग करके',\n",
       "    'B': 'प्रायिकता सिद्धांत का उपयोग करके',\n",
       "    'C': 'निश्चितता कारकों का उपयोग करके',\n",
       "    'D': 'फजी लॉजिक का उपयोग करके'},\n",
       "   'correctAnswer': 'B',\n",
       "   'hint': 'प्रायिकता अनिश्चितता को मापने और प्रबंधित करने में मदद करती है।',\n",
       "   'explaination': 'प्रायिकता सिद्धांत आलस्य और अज्ञानता से आने वाली अनिश्चितता को सारांशित करने का एक तरीका प्रदान करता है।'},\n",
       "  {'question': 'तर्कसंगत निर्णय लेने के लिए AI सिस्टम में किस सिद्धांत का उपयोग किया जाता है?',\n",
       "   'options': {'A': 'न्यूनतम जोखिम, अधिकतम लाभ',\n",
       "    'B': 'न्यूनतम प्रयास, अधिकतम परिणाम',\n",
       "    'C': 'अधिकतम जोखिम, न्यूनतम लाभ',\n",
       "    'D': 'अधिकतम अपेक्षित उपयोगिता'},\n",
       "   'correctAnswer': 'D',\n",
       "   'hint': 'उपयोगिता सिद्धांत प्राथमिकताओं और परिणामों पर आधारित है।',\n",
       "   'explaination': 'अधिकतम अपेक्षित उपयोगिता (MEU) का सिद्धांत बताता है कि एक तर्कसंगत एजेंट को वह कार्रवाई चुननी चाहिए जो अपेक्षित उपयोगिता को अधिकतम करे।'},\n",
       "  {'question': \"प्रायिकता सिद्धांत में 'नमूना स्थान' क्या है?\",\n",
       "   'options': {'A': 'सभी संभावित परिणामों का समुच्चय',\n",
       "    'B': 'केवल सकारात्मक परिणामों का समुच्चय',\n",
       "    'C': 'केवल नकारात्मक परिणामों का समुच्चय',\n",
       "    'D': 'शून्य प्रायिकता वाले परिणामों का समुच्चय'},\n",
       "   'correctAnswer': 'A',\n",
       "   'hint': 'यह सभी संभावित घटनाओं का समूह है।',\n",
       "   'explaination': 'नमूना स्थान सभी संभावित परिणामों का समुच्चय होता है।'},\n",
       "  {'question': 'प्रायिकता के गैर-नकारात्मकता स्वयंसिद्ध का क्या अर्थ है?',\n",
       "   'options': {'A': 'किसी घटना की प्रायिकता 1 से अधिक नहीं हो सकती।',\n",
       "    'B': 'सभी घटनाओं की प्रायिकता का योग 1 होना चाहिए।',\n",
       "    'C': 'किसी घटना की प्रायिकता ऋणात्मक नहीं हो सकती।',\n",
       "    'D': 'किसी घटना की प्रायिकता 0 और 1 के बीच होनी चाहिए।'},\n",
       "   'correctAnswer': 'C',\n",
       "   'hint': 'प्रायिकता हमेशा 0 या उससे अधिक होती है।',\n",
       "   'explaination': 'गैर-नकारात्मकता स्वयंसिद्ध कहता है कि किसी घटना की प्रायिकता कभी भी ऋणात्मक नहीं हो सकती।'},\n",
       "  {'question': \"पूर्ण संयुक्त वितरण का उपयोग करके अनुमान में 'सीमांतीकरण' का क्या उद्देश्य है?\",\n",
       "   'options': {'A': 'दो चरों के बीच संबंध स्थापित करना।',\n",
       "    'B': 'संयुक्त प्रायिकता वितरण से विशिष्ट चर की प्रायिकता निकालना।',\n",
       "    'C': 'सभी चरों की प्रायिकता का योग ज्ञात करना।',\n",
       "    'D': 'किसी चर की प्रायिकता को अधिकतम करना।'},\n",
       "   'correctAnswer': 'B',\n",
       "   'hint': 'यह संयुक्त वितरण से जानकारी को संक्षिप्त करता है।',\n",
       "   'explaination': 'सीमांतीकरण का उपयोग संयुक्त प्रायिकता वितरण से विशिष्ट चर की प्रायिकता निकालने के लिए किया जाता है।'},\n",
       "  {'question': \"'सीमांत स्वतंत्रता' का क्या अर्थ है?\",\n",
       "   'options': {'A': 'अन्य चर पर कंडीशनिंग के बिना चर की स्वतंत्रता।',\n",
       "    'B': 'किसी अन्य चर पर कंडीशनिंग करने पर चर की स्वतंत्रता।',\n",
       "    'C': 'सभी चर एक दूसरे पर निर्भर हैं।',\n",
       "    'D': 'चर केवल कुछ शर्तों के तहत स्वतंत्र हैं।'},\n",
       "   'correctAnswer': 'A',\n",
       "   'hint': 'यह स्वतंत्रता का सबसे सरल रूप है।',\n",
       "   'explaination': 'सीमांत स्वतंत्रता तब होती है जब चर अन्य चर पर कंडीशनिंग के बिना स्वतंत्र होते हैं।'},\n",
       "  {'question': 'बेयस का नियम AI में क्यों महत्वपूर्ण है?',\n",
       "   'options': {'A': 'मशीन लर्निंग एल्गोरिदम को प्रशिक्षित करना।',\n",
       "    'B': 'डेटा को एन्क्रिप्ट करना।',\n",
       "    'C': 'संभाव्य अनुमान करना।',\n",
       "    'D': 'डेटा को संपीड़ित करना।'},\n",
       "   'correctAnswer': 'C',\n",
       "   'hint': 'यह नियम प्रायिकता को अपडेट करने में मदद करता है।',\n",
       "   'explaination': 'बेयस का नियम संभाव्य अनुमान के लिए मौलिक है और कई आधुनिक AI प्रणालियों को रेखांकित करता है।'},\n",
       "  {'question': 'बेयस के नियम में उत्पाद नियम का क्या महत्व है?',\n",
       "   'options': {'A': 'दो स्वतंत्र घटनाओं की प्रायिकता का योग।',\n",
       "    'B': 'दो घटनाओं की प्रायिकता का अंतर।',\n",
       "    'C': 'दो घटनाओं की प्रायिकता का अनुपात।',\n",
       "    'D': 'दो घटनाओं की संयुक्त प्रायिकता।'},\n",
       "   'correctAnswer': 'D',\n",
       "   'hint': 'यह नियम दो घटनाओं की संयुक्त प्रायिकता से संबंधित है।',\n",
       "   'explaination': 'उत्पाद नियम को P(A ∧ B) = P(A | B) P(B) के रूप में लिखा जा सकता है, जो बेयस के नियम का आधार है।'},\n",
       "  {'question': \"बेयस के नियम में 'उत्तर प्रायिकता' (Posterior probability) क्या है?\",\n",
       "   'options': {'A': 'साक्ष्य से पहले परिकल्पना की प्रायिकता।',\n",
       "    'B': 'साक्ष्य दिए जाने पर परिकल्पना की प्रायिकता।',\n",
       "    'C': 'परिकल्पना दिए जाने पर साक्ष्य की प्रायिकता।',\n",
       "    'D': 'साक्ष्य और परिकल्पना दोनों की प्रायिकता।'},\n",
       "   'correctAnswer': 'B',\n",
       "   'hint': 'यह प्रायिकता साक्ष्य पर निर्भर करती है।',\n",
       "   'explaination': 'सशर्त प्रायिकता साक्ष्य E दिए जाने पर परिकल्पना H की प्रायिकता है, जिसे P(H|E) से दर्शाया जाता है।'}]}"
      ]
     },
     "execution_count": 12,
     "metadata": {},
     "output_type": "execute_result"
    }
   ],
   "source": [
    "response['quiz']"
   ]
  }
 ],
 "metadata": {
  "kernelspec": {
   "display_name": ".venv",
   "language": "python",
   "name": "python3"
  },
  "language_info": {
   "codemirror_mode": {
    "name": "ipython",
    "version": 3
   },
   "file_extension": ".py",
   "mimetype": "text/x-python",
   "name": "python",
   "nbconvert_exporter": "python",
   "pygments_lexer": "ipython3",
   "version": "3.12.10"
  }
 },
 "nbformat": 4,
 "nbformat_minor": 5
}
