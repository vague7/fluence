{
 "cells": [
  {
   "cell_type": "markdown",
   "id": "5c9cf41e",
   "metadata": {},
   "source": [
    "## Podcast Audio\n",
    "\n",
    "https://www.datacamp.com/tutorial/amazon-polly"
   ]
  },
  {
   "cell_type": "code",
   "execution_count": 14,
   "id": "fc36e09a",
   "metadata": {},
   "outputs": [],
   "source": [
    "from dotenv import load_dotenv\n",
    "from langchain.chat_models import init_chat_model\n",
    "from langchain_core.prompts import ChatPromptTemplate\n",
    "from langchain.output_parsers import PydanticOutputParser\n",
    "from pydantic import BaseModel, Field\n",
    "from typing_extensions import TypedDict\n",
    "from IPython.display import Markdown\n",
    "from langchain_core.prompts import ChatPromptTemplate\n",
    "from langgraph.prebuilt import create_react_agent"
   ]
  },
  {
   "cell_type": "code",
   "execution_count": 15,
   "id": "e97f5e29",
   "metadata": {},
   "outputs": [
    {
     "name": "stdout",
     "output_type": "stream",
     "text": [
      "content='Hello there! How can I help you today?' additional_kwargs={} response_metadata={'prompt_feedback': {'block_reason': 0, 'safety_ratings': []}, 'finish_reason': 'STOP', 'model_name': 'gemini-2.0-flash', 'safety_ratings': []} id='run--92b7bf8d-980a-44b1-aca7-ed43a46cfcd6-0' usage_metadata={'input_tokens': 3, 'output_tokens': 11, 'total_tokens': 14, 'input_token_details': {'cache_read': 0}}\n"
     ]
    }
   ],
   "source": [
    "model = init_chat_model(\n",
    "    \"gemini-2.0-flash\", model_provider=\"google_genai\")\n",
    "\n",
    "# .with_structured_output(MyOutput)\n",
    "response = model.invoke(\"Hello World!!\")\n",
    "print(response)"
   ]
  },
  {
   "cell_type": "code",
   "execution_count": 16,
   "id": "dd1c554a",
   "metadata": {},
   "outputs": [],
   "source": [
    "# Student profile type definition\n",
    "class StudentProfile(TypedDict):\n",
    "    gender: str\n",
    "    grade_level: str  # e.g., \"class 6\", \"12th\", \"undergrad\", \"postgrad\"\n",
    "    language: str     # e.g., \"hindi\", \"english\", \"marathi\"\n",
    "\n",
    "\n",
    "class UserPrompt(TypedDict):\n",
    "    topic: str\n",
    "    pdf_file: str\n",
    "    audio_file: str\n",
    "\n",
    "# Graph state\n",
    "\n",
    "\n",
    "class State(TypedDict):\n",
    "    student_profile: StudentProfile\n",
    "    user_prompt: UserPrompt\n",
    "    summary_notes: str\n",
    "    podcast_script: str\n",
    "    mindmap: str\n",
    "    quiz: str\n",
    "    recommended_resources: str\n",
    "    study_plan: str\n",
    "    combined_output: str"
   ]
  },
  {
   "cell_type": "code",
   "execution_count": 17,
   "id": "526f5617",
   "metadata": {},
   "outputs": [],
   "source": [
    "# Prompts Templates\n",
    "class PersonalizedPromptsStudent:\n",
    "    def __init__(self, topic, student_profile: dict, user_instructions: str = \"\"):\n",
    "        self.topic = topic\n",
    "        self.student_profile = student_profile\n",
    "        self.user_instructions = user_instructions\n",
    "\n",
    "    def recommendation_resources(self):\n",
    "        \"\"\"Create a personalized prompt based on student profile\"\"\"\n",
    "\n",
    "        prompt_template = ChatPromptTemplate([\n",
    "    (\"system\", \"\"\"\n",
    "         You are an expert academic female tutor. Your goal is to generate engaging, informative, and personalized educational summaries for students.\n",
    "\n",
    "        **Strict Guidelines:**\n",
    "\n",
    "        1.  **Output Format:** The entire response MUST be valid SSML (Speech Synthesis Markup Language).\n",
    "            * Start with `<speak>`.\n",
    "            * End with `</speak>`.\n",
    "            * Use only the SSML tags listed below. Other tags are NOT allowed.\n",
    "\n",
    "        2.  **Content Length & Duration:**\n",
    "            * Generate content for a concise audio overview, aiming for a duration of approximately 7-10 minutes.\n",
    "            * **Crucially, the raw character count of the final SSML string (including all tags, spaces, and content) MUST NOT exceed 3000 characters.** If your content draft exceeds this, you MUST self-edit and shorten it to fit, prioritizing key information.\n",
    "\n",
    "        **Student Profile:**\n",
    "        - Class Level: {grade_level}\n",
    "        - Target Language: {language} (Provide ALL content, including SSML elements like text and prompts, in this language.)\n",
    "        - Preferred Pronouns: {gender} (e.g., she/her, he/him, they/them – use to personalize direct address, if appropriate for the content style.)\n",
    "\n",
    "        **Content Requirements:**\n",
    "        * **Topic Summary:** Generate a detailed and well-structured summary of the user-provided topic.\n",
    "        * **Academic Appropriateness:** Tailor the depth, complexity, and vocabulary precisely to the specified {grade_level}. Assume foundational knowledge typical for their level, but introduce new concepts clearly.\n",
    "        * **Engaging Delivery Style:**\n",
    "            * Write in a conversational, accessible, and enthusiastic tone.\n",
    "            * Incorporate brief, relatable examples or analogies where helpful.\n",
    "            * Suggest pauses, changes in speaking rate, or emphasis using SSML tags to enhance listening experience.\n",
    "        * **Structure:** Follow a logical flow:\n",
    "            * **Introduction:** Hook the listener, introduce the topic, and greet them.\n",
    "            * **Main Content:** Break down the topic into digestible segments, explaining core concepts.\n",
    "            * **Key Takeaways/Recap:** Briefly summarize the main points.\n",
    "            * **Call to Action/Further Exploration:** Encourage continued learning.\n",
    "\n",
    "        **Allowed SSML Tags for Amazon Polly Neural Voices (Strictly Enforced):**\n",
    "\n",
    "        * `<break>`: For adding pauses. Use `time` attribute (e.g., `<break time=\"500ms\"/>` or `<break time=\"0.5s\"/>`).\n",
    "        * `<lang>`: To specify another language for specific words or phrases.\n",
    "        * `<mark>`: To place a custom tag in your text.\n",
    "        * `<p>`: To add a pause between paragraphs.\n",
    "        * `<phoneme>`: For using phonetic pronunciation.\n",
    "        * `<prosody>`: For controlling volume, speaking rate, and pitch. **Do NOT use `amazon:max-duration` attribute.** Use attributes like `rate`, `pitch`, `volume`.\n",
    "        * `<s>`: To add a pause between sentences.\n",
    "        * `<speak>`: The root element (must be the outermost tag).\n",
    "        * `<sub>`: To pronounce acronyms and abbreviations (e.g., `<sub alias=\"Application Programming Interface\">API</sub>`).\n",
    "        * `<w>`: To improve pronunciation by specifying parts of speech (e.g., `<w role=\"verb\">read</w>`).\n",
    "        * `<amazon:effect name=\"drc\">`: For adding dynamic range compression.\n",
    "\n",
    "        **Do NOT use any other SSML tags, including (but not limited to):**\n",
    "        * `<emphasis>`\n",
    "        * `<prosody amazon:max-duration>`\n",
    "        * `<amazon:auto-breaths>`\n",
    "        * `<amazon:effect phonation=\"soft\">`\n",
    "        * `<amazon:effect vocal-tract-length>`\n",
    "        * `<amazon:effect name=\"whispered\">`\n",
    "        * `<amazon:domain name=\"news\">`\n",
    "\n",
    "        **Example SSML structure and character count consideration:**\n",
    "        <speak version=\"1.0\" xml:lang=\"en-US\">\n",
    "          <p>Hello! Welcome to our podcast.</p>\n",
    "          <s>Today, we explore [Topic].</s>\n",
    "          <p>This is a brief explanation.</p>\n",
    "          <s>We'll keep it concise.</s>\n",
    "          <break time=\"200ms\"/>\n",
    "          <p><prosody rate=\"fast\">Key takeaway:</prosody> It's very simple.</p>\n",
    "          <s>Thanks for listening!</s>\n",
    "        </speak>\n",
    "        (This example is ~250 chars. Your full content should be around 3000 chars.)\n",
    "        \"\"\"\n",
    "    ),\n",
    "    (\"user\", \"Generate an audio summary about: {topic_summary}\")\n",
    "        ])\n",
    "        \n",
    "        prompt_template_v2 = ChatPromptTemplate([\n",
    "            (\"system\", \"\"\"\n",
    "         You are an expert academic female tutor. Your goal is to generate engaging, informative, and personalized educational summaries for students.\n",
    "\n",
    "            Student Profile:\n",
    "            - Class Level: {grade_level}\n",
    "            - Target Language: {language} (Provide content in this language.)\n",
    "            - Preferred Pronouns: {gender} \n",
    "\n",
    "            Podcast Content Requirements:\n",
    "            1.  Comprehensive Summary: Generate a detailed and well-structured summary of the user-provided topic. This summary should serve as the core script for a 7-10 minute audio podcast episode within a 3000 character limit.\n",
    "            2.  Academic Appropriateness: Tailor the depth, complexity, and vocabulary of the content precisely to the specified {grade_level}. Assume the student has foundational knowledge typical for their level, but introduce new concepts clearly.\n",
    "            3.  Engaging Delivery Style:\n",
    "                - Write in a conversational, accessible, and enthusiastic tone.\n",
    "                - Incorporate brief, relatable examples or analogies where helpful.\n",
    "                - Include a brief, friendly introduction and conclusion suitable for a podcast.\n",
    "            4.  Structure: Your summary should implicitly or explicitly follow a logical podcast flow:\n",
    "                - Introduction: Hook the listener, introduce the topic.\n",
    "                - Main Content: Break down the topic into digestible segments.\n",
    "                - Key Takeaways/Recap: Briefly summarize the main points.\n",
    "                - Call to Action/Further Exploration:** Encourage continued learning.\n",
    "            5. Strictly use the 3000 characters limit, if the script goes beyond this, self edit it to adhere to the character limit.\n",
    "                \"\"\"),\n",
    "\n",
    "            (\"user\", \"Create a audio summary for the topic: {topic}.\")\n",
    "        ])\n",
    "\n",
    "        return prompt_template_v2.invoke({\n",
    "            \"topic\": self.topic,\n",
    "            \"grade_level\": self.student_profile.get(\"grade_level\", \"general\"),\n",
    "            \"language\": self.student_profile.get(\"language\", \"English\"),\n",
    "            \"gender\": self.student_profile.get(\"gender\", \"\"),\n",
    "        })"
   ]
  },
  {
   "cell_type": "code",
   "execution_count": 18,
   "id": "c04463ab",
   "metadata": {},
   "outputs": [],
   "source": [
    "class PodcastContent(BaseModel):\n",
    "    topic: str = Field(description=\"topic of the podcast\")\n",
    "    # SSML: str = Field(description=\"SSML content for the podcast\")\n",
    "    script: str = Field(description=\"Script for the audio summary\")\n",
    "    "
   ]
  },
  {
   "cell_type": "code",
   "execution_count": 19,
   "id": "f9ff2059",
   "metadata": {},
   "outputs": [],
   "source": [
    "def node_recommendation_sources(state: State):\n",
    "    \"\"\"LLM call to generate recommendation materials\"\"\"\n",
    "\n",
    "    prompt_instance = PersonalizedPromptsStudent(\n",
    "        state['user_prompt']['topic'], state['student_profile'])\n",
    "\n",
    "    prompt_message = prompt_instance.recommendation_resources()\n",
    "        \n",
    "    model = init_chat_model(\n",
    "        \"gemini-2.0-flash\", model_provider=\"google_genai\").with_structured_output(PodcastContent)\n",
    "\n",
    "    response = model.invoke(prompt_message)\n",
    "    \n",
    "    print(response)\n",
    "\n",
    "    return {\"response\": response}"
   ]
  },
  {
   "cell_type": "code",
   "execution_count": 20,
   "id": "4dae2283",
   "metadata": {},
   "outputs": [],
   "source": [
    "input_state = {\n",
    "    \"student_profile\": {\n",
    "        \"gender\": \"MALE\",\n",
    "        \"grade_level\": \"12th\",\n",
    "        \"language\": \"hindi\"\n",
    "    },\n",
    "    \"user_prompt\": {\n",
    "        \"topic\": \"Chola kingdom\"\n",
    "    }\n",
    "}"
   ]
  },
  {
   "cell_type": "code",
   "execution_count": 21,
   "id": "48330272",
   "metadata": {},
   "outputs": [
    {
     "name": "stdout",
     "output_type": "stream",
     "text": [
      "topic='Chola kingdom' script='नमस्ते दोस्तों! आज हम बात करेंगे चोल साम्राज्य के बारे में, जो दक्षिण भारत का एक शक्तिशाली और महत्वपूर्ण साम्राज्य था। चोलों ने लगभग 9वीं शताब्दी से 13वीं शताब्दी तक शासन किया, और उनका प्रभाव कला, वास्तुकला, साहित्य और प्रशासन में दिखता है। उन्होंने तंजावुर और गंगईकोंड चोलपुरम जैसे भव्य मंदिरों का निर्माण किया। उनका नौसेना बल बहुत मजबूत था, जिससे उन्होंने समुद्री व्यापार को बढ़ावा दिया और श्रीलंका जैसे क्षेत्रों पर नियंत्रण स्थापित किया। चोल साम्राज्य ने स्थानीय स्वशासन को प्रोत्साहित किया, जिसमें ग्राम सभाओं का महत्वपूर्ण योगदान था। संक्षेप में, चोल साम्राज्य दक्षिण भारत के इतिहास का एक स्वर्णिम अध्याय है। अगले एपिसोड में फिर मिलेंगे!'\n"
     ]
    }
   ],
   "source": [
    "output = node_recommendation_sources(input_state)"
   ]
  },
  {
   "cell_type": "code",
   "execution_count": 22,
   "id": "f8e2f013",
   "metadata": {},
   "outputs": [
    {
     "data": {
      "text/plain": [
       "{'topic': 'Chola kingdom',\n",
       " 'script': 'नमस्ते दोस्तों! आज हम बात करेंगे चोल साम्राज्य के बारे में, जो दक्षिण भारत का एक शक्तिशाली और महत्वपूर्ण साम्राज्य था। चोलों ने लगभग 9वीं शताब्दी से 13वीं शताब्दी तक शासन किया, और उनका प्रभाव कला, वास्तुकला, साहित्य और प्रशासन में दिखता है। उन्होंने तंजावुर और गंगईकोंड चोलपुरम जैसे भव्य मंदिरों का निर्माण किया। उनका नौसेना बल बहुत मजबूत था, जिससे उन्होंने समुद्री व्यापार को बढ़ावा दिया और श्रीलंका जैसे क्षेत्रों पर नियंत्रण स्थापित किया। चोल साम्राज्य ने स्थानीय स्वशासन को प्रोत्साहित किया, जिसमें ग्राम सभाओं का महत्वपूर्ण योगदान था। संक्षेप में, चोल साम्राज्य दक्षिण भारत के इतिहास का एक स्वर्णिम अध्याय है। अगले एपिसोड में फिर मिलेंगे!'}"
      ]
     },
     "execution_count": 22,
     "metadata": {},
     "output_type": "execute_result"
    }
   ],
   "source": [
    "output[\"response\"].model_dump()"
   ]
  },
  {
   "cell_type": "code",
   "execution_count": null,
   "id": "6811be55",
   "metadata": {},
   "outputs": [],
   "source": [
    "dict_response = output[\"response\"].model_dump()\n",
    "SSML = dict_response['SSML']\n",
    "SSML"
   ]
  },
  {
   "cell_type": "code",
   "execution_count": null,
   "id": "9dc8c797",
   "metadata": {},
   "outputs": [],
   "source": [
    "import re\n",
    "\n",
    "def clean_podcast_content(content):\n",
    "    clean_text = re.sub(r\"[\\n\\r]\", \"\", content)\n",
    "    return clean_text\n",
    "\n",
    "SSML = clean_podcast_content(SSML)\n",
    "\n",
    "SSML"
   ]
  },
  {
   "cell_type": "markdown",
   "id": "f3e6476b",
   "metadata": {},
   "source": [
    "## Generate Podcast Audio using AWS\n",
    "\n",
    "https://boto3.amazonaws.com/v1/documentation/api/latest/reference/services/polly/client/synthesize_speech.html#"
   ]
  },
  {
   "cell_type": "code",
   "execution_count": null,
   "id": "0d04eefe",
   "metadata": {},
   "outputs": [],
   "source": [
    "import boto3\n",
    "\n",
    "polly = boto3.client('polly')"
   ]
  },
  {
   "cell_type": "code",
   "execution_count": null,
   "id": "eddb27bc",
   "metadata": {},
   "outputs": [],
   "source": [
    "text_input = \"<speak>नमस्ते! मेरा नाम काजल। मैं आपके द्वारा यहां टाइप किए गए किसी भी वाक्य को पढ़ सकती हूं।</speak>\""
   ]
  },
  {
   "cell_type": "code",
   "execution_count": null,
   "id": "8402f459",
   "metadata": {},
   "outputs": [],
   "source": [
    "text_input = '<speak><p>नमस्ते! आज हम AI में अनिश्चितता के बारे में बात करेंगे।</p><s>यह मॉड्यूल AI सिस्टम्स में अनिश्चितता को मापने और प्रबंधित करने के तरीकों पर केंद्रित है।</s><break time=\"0.5s\"/><p>AI एजेंटों को अनिश्चितता से निपटने की आवश्यकता होती है क्योंकि वे हमेशा यह नहीं जानते कि वे किस स्थिति में हैं या कार्यों के बाद कहां पहुंचेंगे।</p><s>वे belief state का ट्रैक रखकर अनिश्चितता को संभालते हैं।</s><break time=\"0.3s\"/><p>उदाहरण के लिए, एक ऑटोमेटेड टैक्सी को हवाई अड्डे पर समय पर यात्री को पहुंचाने का लक्ष्य है, लेकिन उसे रास्ते में कई अनिश्चितताओं का सामना करना पड़ता है।</p><break time=\"0.5s\"/><p>अनिश्चित reasoning का एक उदाहरण dental diagnosis है, जिसमें हमेशा अनिश्चितता शामिल होती है।</p><s>अनिश्चितता से निपटने के लिए probability theory सबसे अच्छा उपकरण है।</s><break time=\"0.3s\"/><p>Diagnosis के समय, वास्तविक दुनिया में कोई अनिश्चितता नहीं होती: रोगी को या तो cavity होती है या नहीं।</p><break time=\"0.5s\"/><p>सफलता दरों की तुलना करना, reliability का महत्व, trade-offs, preferences और outcomes, utility theory, और Maximum Expected Utility (MEU) का सिद्धांत महत्वपूर्ण हैं।</p><break time=\"0.5s\"/><p>Probability Assertions में Random variables, domain, probability distribution, joint probability distribution, और full joint probability distribution महत्वपूर्ण हैं।</p><break time=\"0.5s\"/><p>Probability Axioms में Non-negativity axiom और normalization axiom शामिल हैं।</p><break time=\"0.5s\"/><p>Probabilistic inference अनिश्चितता में reasoning और decision-making की प्रक्रिया है।</p><s>इसमें समस्या को define करना, model बनाना, inference करना, और परिणामों का मूल्यांकन करना शामिल है।</s><break time=\"0.5s\"/><p>Independence का मतलब है कि variables एक दूसरे को प्रभावित नहीं करते हैं।</p><s>Marginal independence variables को अलग-अलग मानना है, जबकि absolute independence का मतलब है कि variables एक दूसरे पर condition होने पर भी independent होते हैं।</s><break time=\"0.5s\"/><p>Bayes\\' Rule probabilistic inference के लिए fundamental है।</p><s>उदाहरण के लिए, spam filtering और medical diagnosis में इसका उपयोग होता है।</s><break time=\"0.5s\"/><p>संक्षेप में, यह मॉड्यूल AI में अनिश्चितता की अवधारणा और इससे निपटने के विभिन्न तरीकों की गहरी समझ प्रदान करता है।</p><s>आगे जानने के लिए उत्सुक रहें!</s></speak>'"
   ]
  },
  {
   "cell_type": "code",
   "execution_count": null,
   "id": "dd22556a",
   "metadata": {},
   "outputs": [],
   "source": [
    "response = polly.synthesize_speech(\n",
    "    Engine='neural',\n",
    "    Text=text_input,\n",
    "    TextType='ssml',\n",
    "    LanguageCode='en-IN',  # 'hi-IN'\n",
    "    OutputFormat='mp3',\n",
    "    VoiceId='Kajal'\n",
    ")\n",
    "\n",
    "with open('speech.mp3', 'wb') as file:\n",
    "    file.write(response['AudioStream'].read())"
   ]
  },
  {
   "cell_type": "code",
   "execution_count": null,
   "id": "d9f7316e",
   "metadata": {},
   "outputs": [],
   "source": [
    "# New prompt for normal speech\n",
    "\n"
   ]
  }
 ],
 "metadata": {
  "kernelspec": {
   "display_name": ".venv",
   "language": "python",
   "name": "python3"
  },
  "language_info": {
   "codemirror_mode": {
    "name": "ipython",
    "version": 3
   },
   "file_extension": ".py",
   "mimetype": "text/x-python",
   "name": "python",
   "nbconvert_exporter": "python",
   "pygments_lexer": "ipython3",
   "version": "3.12.10"
  }
 },
 "nbformat": 4,
 "nbformat_minor": 5
}
