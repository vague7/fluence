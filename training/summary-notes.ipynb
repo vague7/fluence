{
 "cells": [
  {
   "cell_type": "markdown",
   "id": "f47bb49e",
   "metadata": {},
   "source": [
    "### Quiz Builder"
   ]
  },
  {
   "cell_type": "code",
   "execution_count": 6,
   "id": "e1df9254",
   "metadata": {},
   "outputs": [],
   "source": [
    "from dotenv import load_dotenv\n",
    "from langchain.chat_models import init_chat_model\n",
    "from langchain_core.prompts import ChatPromptTemplate\n",
    "from langchain.output_parsers import PydanticOutputParser\n",
    "from pydantic import BaseModel, Field\n",
    "from typing_extensions import TypedDict\n",
    "from IPython.display import Markdown"
   ]
  },
  {
   "cell_type": "code",
   "execution_count": 7,
   "id": "67fa768d",
   "metadata": {},
   "outputs": [
    {
     "data": {
      "text/plain": [
       "True"
      ]
     },
     "execution_count": 7,
     "metadata": {},
     "output_type": "execute_result"
    }
   ],
   "source": [
    "load_dotenv()"
   ]
  },
  {
   "cell_type": "code",
   "execution_count": 8,
   "id": "98bb9d04",
   "metadata": {},
   "outputs": [
    {
     "name": "stdout",
     "output_type": "stream",
     "text": [
      "content='Hello there! How can I help you today?' additional_kwargs={} response_metadata={'prompt_feedback': {'block_reason': 0, 'safety_ratings': []}, 'finish_reason': 'STOP', 'model_name': 'gemini-2.0-flash', 'safety_ratings': []} id='run--07e79a4e-a80c-46d9-a755-4398223da6cb-0' usage_metadata={'input_tokens': 3, 'output_tokens': 11, 'total_tokens': 14, 'input_token_details': {'cache_read': 0}}\n"
     ]
    }
   ],
   "source": [
    "model = init_chat_model(\"gemini-2.0-flash\", model_provider=\"google_genai\", )\n",
    "response = model.invoke(\"Hello World!!\")\n",
    "print(response)"
   ]
  },
  {
   "cell_type": "code",
   "execution_count": 9,
   "id": "f8b77920",
   "metadata": {},
   "outputs": [],
   "source": [
    "# Student profile type definition\n",
    "class StudentProfile(TypedDict):\n",
    "    gender: str\n",
    "    class_level: str  # e.g., \"class 6\", \"12th\", \"undergrad\", \"postgrad\"\n",
    "    language: str     # e.g., \"hindi\", \"english\", \"marathi\"\n",
    "\n",
    "\n",
    "class UserPrompt(TypedDict):\n",
    "    topic: str\n",
    "    pdf_file: str\n",
    "    audio_file: str\n",
    "\n",
    "# Graph state\n",
    "\n",
    "\n",
    "class State(TypedDict):\n",
    "    student_profile: StudentProfile\n",
    "    user_prompt: UserPrompt\n",
    "    summary_notes: str\n",
    "    podcast_script: str\n",
    "    mindmap: str\n",
    "    quiz: str\n",
    "    recommended_resources: str\n",
    "    study_plan: str\n",
    "    combined_output: str"
   ]
  },
  {
   "cell_type": "code",
   "execution_count": 10,
   "id": "a29387fe",
   "metadata": {},
   "outputs": [],
   "source": [
    "# Prompts Templates\n",
    "class PersonalizedPromptsStudent:\n",
    "    def __init__(self, topic, student_profile: dict, user_instructions: str = \"\"):\n",
    "        self.topic = topic\n",
    "        self.student_profile = student_profile\n",
    "        self.user_instructions = user_instructions\n",
    "\n",
    "    def summary_notes(self):\n",
    "        \"\"\"Create a personalized prompt based on student profile\"\"\"\n",
    "\n",
    "        template = ChatPromptTemplate([\n",
    "            (\"system\", \"\"\"You are an expert academic tutor. Create personalized educational content following these guidelines:\n",
    "            \n",
    "            Student Profile:\n",
    "            - Class Level: {class_level}\n",
    "            - Language: {language} \n",
    "            - Gender: {gender}\n",
    "            \n",
    "            Content Requirements:\n",
    "            1. Summary notes in maximum {word_limit} words\n",
    "            2. Use bullet points and simple language appropriate for {class_level}\n",
    "            3. Include practical examples and analogies\n",
    "            4. Make it engaging and easy to understand\n",
    "            5. If language is not English, provide content in {language}\n",
    "            \n",
    "            Additional Instructions: {user_instructions}\"\"\"),\n",
    "\n",
    "            (\"user\", \"Please teach me about: {topic}\")\n",
    "        ])\n",
    "\n",
    "        return template.invoke({\n",
    "            \"topic\": self.topic,\n",
    "            \"class_level\": self.student_profile.get(\"class_level\", \"general\"),\n",
    "            \"language\": self.student_profile.get(\"language\", \"English\"),\n",
    "            \"gender\": self.student_profile.get(\"gender\", \"\"),\n",
    "            \"word_limit\": \"150\",\n",
    "            \"user_instructions\": self.user_instructions or \"Focus on key concepts with examples\"\n",
    "        })"
   ]
  },
  {
   "cell_type": "code",
   "execution_count": 11,
   "id": "ed4b0674",
   "metadata": {},
   "outputs": [],
   "source": [
    "def node_summary_notes(state: State):\n",
    "    \"\"\"LLM call to generate summary notes for student\"\"\"\n",
    "\n",
    "    summary_prompt_template = PersonalizedPromptsStudent(\n",
    "        state['user_prompt']['topic'], state['student_profile'])\n",
    "\n",
    "    summary_prompt = summary_prompt_template.summary_notes()\n",
    "\n",
    "    msg = model.invoke(summary_prompt)\n",
    "\n",
    "    return {\"summary_notes\": msg.content}"
   ]
  },
  {
   "cell_type": "code",
   "execution_count": 12,
   "id": "deac380e",
   "metadata": {},
   "outputs": [],
   "source": [
    "input_state = {\n",
    "    \"student_profile\": {\n",
    "        \"gender\": \"MALE\",\n",
    "        \"class_level\": \"12th\",\n",
    "        \"language\": \"HINDI\"\n",
    "    },\n",
    "    \"user_prompt\": {\n",
    "        \"topic\": \"Chola kingdom\"\n",
    "    }\n",
    "}"
   ]
  },
  {
   "cell_type": "code",
   "execution_count": 16,
   "id": "b95c5dbe",
   "metadata": {},
   "outputs": [],
   "source": [
    "output = node_summary_notes(input_state)"
   ]
  },
  {
   "cell_type": "code",
   "execution_count": 17,
   "id": "aac05925",
   "metadata": {},
   "outputs": [
    {
     "data": {
      "text/markdown": [
       "नमस्ते! चलो चोल साम्राज्य के बारे में सीखते हैं, जो दक्षिण भारत का एक शक्तिशाली और महत्वपूर्ण साम्राज्य था।\n",
       "\n",
       "**चोल साम्राज्य (Chola Empire):**\n",
       "\n",
       "*   **कौन थे?** चोल दक्षिण भारत के एक शक्तिशाली राजवंश थे, जिन्होंने लगभग 9वीं शताब्दी से 13वीं शताब्दी तक शासन किया।\n",
       "*   **कहाँ थे?** उनका मुख्य क्षेत्र तमिलनाडु था, लेकिन उन्होंने दक्षिण भारत और श्रीलंका के कुछ हिस्सों पर भी नियंत्रण किया।\n",
       "*   **क्या किया?**\n",
       "    *   **मजबूत नौसेना:** चोलों के पास एक शक्तिशाली नौसेना थी, जिसने उन्हें समुद्री व्यापार और विजय में मदद की।\n",
       "    *   **कला और वास्तुकला:** उन्होंने शानदार मंदिर बनवाए, जैसे कि तंजौर का बृहदेश्वर मंदिर। यह मंदिर उनकी कला और वास्तुकला का अद्भुत उदाहरण है।\n",
       "    *   **प्रशासन:** उनकी प्रशासनिक व्यवस्था बहुत अच्छी थी। उन्होंने स्थानीय स्वशासन को बढ़ावा दिया, जिससे गाँवों को अपने फैसले लेने की शक्ति मिली।\n",
       "*   **उदाहरण:** सोचो, चोल साम्राज्य एक बड़ी कंपनी की तरह था, जिसके पास अलग-अलग विभाग थे (जैसे नौसेना, कला, प्रशासन), और हर विभाग अपने काम में माहिर था!\n",
       "*   **खास बातें:**\n",
       "    *   चोलों ने व्यापार को बढ़ावा दिया, जिससे उनका साम्राज्य समृद्ध हुआ।\n",
       "    *   उन्होंने शिक्षा और साहित्य को भी प्रोत्साहित किया।\n",
       "\n",
       "यह चोल साम्राज्य का एक संक्षिप्त परिचय है। यह साम्राज्य अपनी शक्ति, कला, और संस्कृति के लिए इतिहास में हमेशा याद किया जाएगा।"
      ],
      "text/plain": [
       "<IPython.core.display.Markdown object>"
      ]
     },
     "execution_count": 17,
     "metadata": {},
     "output_type": "execute_result"
    }
   ],
   "source": [
    "Markdown(output[\"summary_notes\"])"
   ]
  },
  {
   "cell_type": "code",
   "execution_count": null,
   "id": "effac54a",
   "metadata": {},
   "outputs": [],
   "source": []
  }
 ],
 "metadata": {
  "kernelspec": {
   "display_name": ".venv",
   "language": "python",
   "name": "python3"
  },
  "language_info": {
   "codemirror_mode": {
    "name": "ipython",
    "version": 3
   },
   "file_extension": ".py",
   "mimetype": "text/x-python",
   "name": "python",
   "nbconvert_exporter": "python",
   "pygments_lexer": "ipython3",
   "version": "3.12.10"
  }
 },
 "nbformat": 4,
 "nbformat_minor": 5
}
