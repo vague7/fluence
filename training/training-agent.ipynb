{
 "cells": [
  {
   "cell_type": "markdown",
   "id": "f47bb49e",
   "metadata": {},
   "source": [
    "## Training GenAI for Educational App\n",
    "\n",
    "This notebook contains the final Agentic Workflow to be used in production."
   ]
  },
  {
   "cell_type": "code",
   "execution_count": 1,
   "id": "e1df9254",
   "metadata": {},
   "outputs": [],
   "source": [
    "\n",
    "from dotenv import load_dotenv\n",
    "from langchain.chat_models import init_chat_model\n",
    "from langchain_core.prompts import ChatPromptTemplate\n",
    "from langchain.output_parsers import PydanticOutputParser\n",
    "from pydantic import BaseModel, Field\n",
    "from typing_extensions import TypedDict\n",
    "from typing import List\n",
    "\n",
    "from langgraph.graph import StateGraph, START, END\n",
    "from IPython.display import Image, display, Markdown\n",
    "\n",
    "import os\n",
    "from supabase import create_client, Client\n",
    "from dotenv import load_dotenv\n",
    "from typing import Optional\n",
    "import graphviz\n",
    "\n",
    "from datetime import datetime\n",
    "import io\n",
    "import re"
   ]
  },
  {
   "cell_type": "code",
   "execution_count": 2,
   "id": "67fa768d",
   "metadata": {},
   "outputs": [
    {
     "data": {
      "text/plain": [
       "True"
      ]
     },
     "execution_count": 2,
     "metadata": {},
     "output_type": "execute_result"
    }
   ],
   "source": [
    "load_dotenv()"
   ]
  },
  {
   "cell_type": "markdown",
   "id": "10cf49a0",
   "metadata": {},
   "source": [
    "### Create `Supabase` Client"
   ]
  },
  {
   "cell_type": "code",
   "execution_count": 3,
   "id": "c47354c8",
   "metadata": {},
   "outputs": [],
   "source": [
    "url: str = os.environ.get(\"SUPABASE_URL\")\n",
    "key: str = os.environ.get(\"SUPABASE_KEY\")\n",
    "supabase: Client = create_client(url, key)"
   ]
  },
  {
   "cell_type": "code",
   "execution_count": 6,
   "id": "ffe10a8b",
   "metadata": {},
   "outputs": [],
   "source": [
    "public_url = (\n",
    "    supabase.storage\n",
    "    .from_(\"learning-sources\")\n",
    "    .get_public_url(\"mindmap_cb1bb773-dcac-44ec-9bca-a1e266bc16b3_20250705_135733.png\")\n",
    ")"
   ]
  },
  {
   "cell_type": "code",
   "execution_count": 7,
   "id": "29bdae7b",
   "metadata": {},
   "outputs": [
    {
     "data": {
      "text/plain": [
       "'https://kclenjtsvdayeghmmmkm.supabase.co/storage/v1/object/public/learning-sources/mindmap_cb1bb773-dcac-44ec-9bca-a1e266bc16b3_20250705_135733.png?'"
      ]
     },
     "execution_count": 7,
     "metadata": {},
     "output_type": "execute_result"
    }
   ],
   "source": [
    "public_url"
   ]
  },
  {
   "cell_type": "code",
   "execution_count": 430,
   "id": "98bb9d04",
   "metadata": {},
   "outputs": [
    {
     "name": "stdout",
     "output_type": "stream",
     "text": [
      "content='Hello there! How can I help you today?' additional_kwargs={} response_metadata={'prompt_feedback': {'block_reason': 0, 'safety_ratings': []}, 'finish_reason': 'STOP', 'model_name': 'gemini-2.0-flash', 'safety_ratings': []} id='run--1a16ada3-d8d5-4740-8a3b-acd3c2048f84-0' usage_metadata={'input_tokens': 3, 'output_tokens': 11, 'total_tokens': 14, 'input_token_details': {'cache_read': 0}}\n"
     ]
    }
   ],
   "source": [
    "model = init_chat_model(\"gemini-2.0-flash\", model_provider=\"google_genai\")\n",
    "response = model.invoke(\"Hello World!!\")\n",
    "print(response)"
   ]
  },
  {
   "cell_type": "markdown",
   "id": "9c2e3928",
   "metadata": {},
   "source": [
    "### Learning Mode for Students\n",
    "\n",
    "A student should get personalized learning experience based on their profile -\n",
    "1. class level - class 6, 12th, undergrad, postgrad etc.\n",
    "2. language - hindi, english, marathi etc\n",
    "\n",
    "We generate following assets\n",
    "1. Podcast\n",
    "2. Summary notes\n",
    "3. Mindmap\n",
    "4. Quiz - interactable and feedback based, sharable, printable\n",
    "5. Recommended courses from internet\n",
    "6. A study action plan\n",
    "\n",
    "A student can enter \n",
    "1. a topic name\n",
    "2. audio recoding of lecture\n",
    "3. pdf content\n",
    "\n",
    "This is multi-step, multi-tool AI Agent so will will use `LangGraph` to build the multi-step `Agent` where each node is assigned some specific task and we will try to stream the response back to the user. I am thinking that each node should do its independent job so we can also run these nodes in parallel because they are kind of not tightly coupled with each other's response.\n",
    "\n",
    "Check this link for parallelization -> https://langchain-ai.github.io/langgraph/tutorials/workflows/#parallelization"
   ]
  },
  {
   "cell_type": "markdown",
   "id": "48158998",
   "metadata": {},
   "source": [
    "### Initial State for the Agent\n",
    "Define the State for our Graph workflow"
   ]
  },
  {
   "cell_type": "code",
   "execution_count": 431,
   "id": "f79f33a1",
   "metadata": {},
   "outputs": [],
   "source": [
    "\n",
    "# output structures\n",
    "\n",
    "class SummaryNoteOutput(BaseModel):\n",
    "    title: str = Field(description=\"Title of the note\")\n",
    "    summary: str = Field(description=\"Summary Note in markdown language\")\n",
    "    \n",
    "\n",
    "# ------- Quiz --------\n",
    "class QuestionOptions(BaseModel):\n",
    "    A: str = Field(\"Option A for the question\")\n",
    "    B: str = Field(\"Option B for the question\")\n",
    "    C: str = Field(\"Option C for the question\")\n",
    "    D: str = Field(\"Option D for the question\")\n",
    "\n",
    "\n",
    "class Question(BaseModel):\n",
    "    question: str = Field(\n",
    "        description=\"Question\")\n",
    "    options: QuestionOptions\n",
    "    correctAnswer: str = Field(\n",
    "        description=\"Correct answer - one of these options A, B, C or D\")\n",
    "    hint: str = Field(\n",
    "        description=\"A small hint to help user think in right direction\")\n",
    "    explaination: str = Field(description=\"Explaination of the correct answer\")\n",
    "\n",
    "\n",
    "class QuizOutput(BaseModel):\n",
    "    title: str = Field(description=\"A suitable title for the quiz.\")\n",
    "    questions: List[Question] = Field(\n",
    "        description=\"A list of quiz questions in MCQ format, with each question having 4 options.\"\n",
    "    )\n",
    "    \n",
    "    \n",
    "# ---- output for recommend\n",
    "\n",
    "class Recommendation(BaseModel):\n",
    "    title: str = Field(description=\"A title for this recommendation.\")\n",
    "    description: str = Field(description=\"A brief description.\")\n",
    "    url: str = Field(\n",
    "        description=\"source URL of this recommendation if available else NULL.\")\n",
    "\n",
    "\n",
    "class RecommendationList(BaseModel):\n",
    "    recommendations: List[Recommendation] = Field(\n",
    "        description=\"List of recommendations\")\n",
    "    \n",
    "\n",
    "class PodcastContent(BaseModel):\n",
    "    topic: str = Field(description=\"topic of the podcast\")\n",
    "    SSML: str = Field(description=\"SSML content for the podcast\")"
   ]
  },
  {
   "cell_type": "code",
   "execution_count": 432,
   "id": "eaa03c68",
   "metadata": {},
   "outputs": [],
   "source": [
    "class Node(BaseModel):\n",
    "    id: str\n",
    "    label: str\n",
    "    fillcolor: Optional[str] = \"white\"\n",
    "\n",
    "\n",
    "class Edge(BaseModel):\n",
    "    source: str\n",
    "    target: str\n",
    "    label: Optional[str] = None\n",
    "\n",
    "\n",
    "class MindMapStructure(BaseModel):\n",
    "    # graph_attributes: GraphAttributes\n",
    "    nodes: List[Node]\n",
    "    edges: List[Edge]\n",
    "    central_node: str"
   ]
  },
  {
   "cell_type": "code",
   "execution_count": 433,
   "id": "c3c183e2",
   "metadata": {},
   "outputs": [],
   "source": [
    "# Student profile type definition\n",
    "from typing import Optional\n",
    "\n",
    "class StudentProfile(TypedDict):\n",
    "    gender: str\n",
    "    class_level: str  # e.g., \"class 6\", \"12th\", \"undergrad\", \"postgrad\"\n",
    "    language: str     # e.g., \"hindi\", \"english\", \"marathi\"\n",
    "    \n",
    "class UserPrompt(TypedDict):\n",
    "    topic: str\n",
    "    file_url: Optional[str]\n",
    "# Graph state\n",
    "class State(TypedDict):\n",
    "    learning_space_id: str\n",
    "    student_profile: StudentProfile\n",
    "    user_prompt: UserPrompt\n",
    "    summary_notes: SummaryNoteOutput\n",
    "    podcast_script: PodcastContent\n",
    "    mindmap: str\n",
    "    quiz: str\n",
    "    recommendations: str\n",
    "    study_plan: str\n",
    "    combined_output: str"
   ]
  },
  {
   "cell_type": "markdown",
   "id": "3c783d70",
   "metadata": {},
   "source": [
    "Nodes for the Graph"
   ]
  },
  {
   "cell_type": "code",
   "execution_count": 434,
   "id": "eebdd061",
   "metadata": {},
   "outputs": [],
   "source": [
    "def node_podcast_script(state: State):\n",
    "    \"\"\"LLM call to generate podcast script\"\"\"\n",
    "\n",
    "    msg = model.invoke(f\"Write an engaging script for a podcast with two speakers - student (male) and teacher (female) on this topic {state['user_prompt']['topic']} of maximum length 20 minutes.\")\n",
    "    return {\"podcast_script\": msg.content}\n",
    "\n",
    "def call_llm_3(state: State):\n",
    "    \"\"\"Third LLM call to generate poem\"\"\"\n",
    "\n",
    "    # msg = model.invoke(f\"Write a poem about {state['topic']}\")\n",
    "    return {\"poem\": \"poem\"}\n",
    "\n",
    "\n",
    "def aggregator(state: State):\n",
    "    \"\"\"Combine the joke and story into a single output\"\"\"\n",
    "\n",
    "    # combined = f\"Here's the aggregated {state['topic']}!\\n\\n\"\n",
    "    # combined += f\"podcast_script:\\n{state.get('podcast_script')}\\n\\n\"\n",
    "    # # combined += f\"JOKE:\\n{state.get('joke')}\\n\\n\"\n",
    "    # # combined += f\"POEM:\\n{state.get('poem')}\"\n",
    "    return {\"summary_notes\": state.get('summary_notes'), \"podcast_script\": state.get(\"podcast_script\")}"
   ]
  },
  {
   "cell_type": "markdown",
   "id": "ceb6aa4b",
   "metadata": {},
   "source": [
    "### Agent Node - Notes Summary"
   ]
  },
  {
   "cell_type": "code",
   "execution_count": 435,
   "id": "84f9caed",
   "metadata": {},
   "outputs": [],
   "source": [
    "## Agent Node - Notes Summary\n",
    "\n",
    "def node_summary_notes(state: State):\n",
    "    print(\"node_summary_notes running....\")\n",
    "    \"\"\"LLM call to generate summary notes for student\"\"\"\n",
    "\n",
    "    # generate the chat prompt\n",
    "\n",
    "    \"\"\"Create a personalized prompt based on student profile\"\"\"\n",
    "\n",
    "    # Build human message content dynamically\n",
    "    user_content = [\n",
    "        {\"type\": \"text\", \"text\": f\"Topic: {state['user_prompt']['topic']}\"}]\n",
    "\n",
    "    # Add file only if it exists\n",
    "    if state['user_prompt']['file_url'] and state['user_prompt']['file_url'].strip():\n",
    "        user_content.append({\n",
    "            \"type\": \"file\",\n",
    "            \"url\": state['user_prompt']['file_url'],\n",
    "            \"source_type\": \"url\"\n",
    "        })\n",
    "\n",
    "    prompt_template = ChatPromptTemplate([\n",
    "        (\"system\", \"\"\"You are an expert academic tutor. Create personalized educational content following these guidelines:\n",
    "            \n",
    "            Student Profile:\n",
    "            - Class Level: {grade_level}\n",
    "            - Language: {language} \n",
    "            - Gender: {gender}\n",
    "            \n",
    "            Content Requirements:\n",
    "            1. Use the audio/image/pdf if provided by the user to genertae concise summary notes\n",
    "            2. Use bullet points and simple language appropriate for {grade_level}\n",
    "            3. Include practical examples and analogies\n",
    "            4. Make it engaging and easy to understand\n",
    "            5. If language is not English, provide content in {language}\n",
    "            \n",
    "            \"\"\"),\n",
    "        (\"user\", user_content)\n",
    "    ])\n",
    "\n",
    "    # output structure\n",
    "    class SummaryNoteOutput(BaseModel):\n",
    "        title: str = Field(description=\"Title of the note\")\n",
    "        summary: str = Field(description=\"Summary Note in markdown language\")\n",
    "\n",
    "    # init a new model with structured output\n",
    "    model = init_chat_model(\n",
    "        \"gemini-2.0-flash\", model_provider=\"google_genai\").with_structured_output(SummaryNoteOutput)\n",
    "\n",
    "    chain = prompt_template | model\n",
    "    response = chain.invoke(\n",
    "        {\n",
    "            \"grade_level\": state['student_profile'].get(\"grade_level\", \"general\"),\n",
    "            \"language\": state['student_profile'].get(\"language\", \"English\"),\n",
    "            \"gender\": state['student_profile'].get(\"gender\", \"\"),\n",
    "        }\n",
    "    )\n",
    "        \n",
    "    # update in supabase database\n",
    "    supabase_response = (\n",
    "            supabase.table(\"learning_space\")\n",
    "                .update({\"summary_notes\": response.model_dump()})\n",
    "                .eq(\"id\", state[\"learning_space_id\"])\n",
    "                .execute()\n",
    "            )\n",
    "\n",
    "    return {\"summary_notes\": response}"
   ]
  },
  {
   "cell_type": "markdown",
   "id": "6bcc35d8",
   "metadata": {},
   "source": [
    "### Agent Node - Quiz"
   ]
  },
  {
   "cell_type": "code",
   "execution_count": 436,
   "id": "38eea185",
   "metadata": {},
   "outputs": [],
   "source": [
    "# Agent Node - Quiz\n",
    "\n",
    "def node_quiz(state: State):\n",
    "    print(\"node_quiz running....\")\n",
    "    \"\"\"LLM call to generate quiz based on summary content\"\"\"\n",
    "\n",
    "    # generate the chat prompt\n",
    "\n",
    "    \"\"\"Create a personalized prompt based on student profile\"\"\"\n",
    "\n",
    "    prompt_template = ChatPromptTemplate([\n",
    "        (\"system\", \"\"\" \n",
    "        You are a helpful academic tutor. Use these instructions to create a quiz on the notes provided by the user:\n",
    "        \n",
    "        Student Profile:\n",
    "            - Class Level: {grade_level}\n",
    "            - Language: {language} \n",
    "            - Gender: {gender}\n",
    "        \n",
    "        1. Questions should be in MCQ format with 4 options each.\n",
    "        2. Create 10 quality questions which tests fundamentals and analytical thinking of the user. \n",
    "        3. Adapt your language and complexity based on the student's profile provided.\n",
    "        4. Respond in JSON format which can be used to render a quiz UI.\n",
    "        5. Include correct answer, hint and explaination with each question.\n",
    "        \"\"\"),\n",
    "        (\"user\", \"Topic Summary {topic_summary}\")\n",
    "    ])\n",
    "\n",
    "    # init a new model with structured output\n",
    "    model = init_chat_model(\n",
    "        \"gemini-2.0-flash\", model_provider=\"google_genai\").with_structured_output(QuizOutput)\n",
    "\n",
    "    chain = prompt_template | model\n",
    "\n",
    "    response = chain.invoke(\n",
    "        {\n",
    "            \"grade_level\": state['student_profile'].get(\"grade_level\", \"general\"),\n",
    "            \"language\": state['student_profile'].get(\"language\", \"English\"),\n",
    "            \"gender\": state['student_profile'].get(\"gender\", \"\"),\n",
    "            \"topic_summary\": state[\"summary_notes\"]\n",
    "        }\n",
    "    )\n",
    "\n",
    "    # update in supabase database\n",
    "    supabase_response = (\n",
    "        supabase.table(\"learning_space\")\n",
    "        .update({\"quiz\": response.model_dump()})\n",
    "        .eq(\"id\", state[\"learning_space_id\"])\n",
    "        .execute()\n",
    "    )\n",
    "    \n",
    "    if supabase_response.data:\n",
    "        print(\"Quiz updated.\")\n",
    "    else:\n",
    "        print(\"Some error with supabase update.\")\n",
    "\n",
    "    return {\"quiz\": response.model_dump()}"
   ]
  },
  {
   "cell_type": "markdown",
   "id": "7f92e4f5",
   "metadata": {},
   "source": [
    "### Agent Node - Recommendations"
   ]
  },
  {
   "cell_type": "code",
   "execution_count": 437,
   "id": "b9ec3962",
   "metadata": {},
   "outputs": [],
   "source": [
    "# Agent Node - Quiz\n",
    "\n",
    "def node_recommendation(state: State):\n",
    "    print(\"node_recommendation running....\")\n",
    "    \"\"\"LLM call to generate quiz based on summary content\"\"\"\n",
    "\n",
    "    # generate the chat prompt\n",
    "\n",
    "    \"\"\"Create a personalized prompt based on student profile\"\"\"\n",
    "\n",
    "    prompt_template = ChatPromptTemplate([\n",
    "        (\"system\", \"\"\" \n",
    "        You are a helpful academic tutor. Use these instructions to create a recommendation list based on the notes provided by the user:\n",
    "        \n",
    "        Student Profile:\n",
    "            - Class Level: {grade_level}\n",
    "            - Language: {language} \n",
    "            - Gender: {gender}\n",
    "        \n",
    "        1. The recommendation should include all the necessary resources to learn the topic.\n",
    "        2. Create uptp 10 quality recommendations with a mixture of books, online lectures, articles etc. \n",
    "        3. Adapt your language and complexity based on the student's profile provided and add proper contextual description and url if available with each source.\n",
    "        4. Respond in JSON format which can be used to render a UI.\n",
    "        \"\"\"),\n",
    "        (\"user\", \"Topic Summary {topic_summary}\")\n",
    "    ])\n",
    "\n",
    "    # init a new model with structured output\n",
    "    model = init_chat_model(\n",
    "        \"gemini-2.0-flash\", model_provider=\"google_genai\").with_structured_output(RecommendationList)\n",
    "\n",
    "    chain = prompt_template | model\n",
    "\n",
    "    response = chain.invoke(\n",
    "        {\n",
    "            \"grade_level\": state['student_profile'].get(\"grade_level\", \"general\"),\n",
    "            \"language\": state['student_profile'].get(\"language\", \"English\"),\n",
    "            \"gender\": state['student_profile'].get(\"gender\", \"\"),\n",
    "            \"topic_summary\": state[\"summary_notes\"]\n",
    "        }\n",
    "    )\n",
    "    \n",
    "    # update in supabase database\n",
    "    supabase_response = (\n",
    "        supabase.table(\"learning_space\")\n",
    "        .update({\"recommendations\": response.model_dump()})\n",
    "        .eq(\"id\", state[\"learning_space_id\"])\n",
    "        .execute()\n",
    "    )\n",
    "\n",
    "    if supabase_response.data:\n",
    "        print(\"Recommendation updated.\")\n",
    "    else:\n",
    "        print(\"Some error with supabase update.\")\n",
    "\n",
    "    return {\"recommendations\": response.model_dump()}"
   ]
  },
  {
   "cell_type": "markdown",
   "id": "e34482a7",
   "metadata": {},
   "source": [
    "### Agent Node - Mindmap"
   ]
  },
  {
   "cell_type": "code",
   "execution_count": 438,
   "id": "4573a36f",
   "metadata": {},
   "outputs": [],
   "source": [
    "def create_balanced_mindmap(mindmap_data):\n",
    "    \"\"\"Create a more balanced mindmap layout\"\"\"\n",
    "\n",
    "    dot = graphviz.Digraph(comment='Mindmap')\n",
    "\n",
    "    # Set graph attributes for better layout\n",
    "    dot.attr(\n",
    "        rankdir='TB',  # Top to Bottom\n",
    "        ranksep='1.5',  # Increase vertical separation\n",
    "        nodesep='0.8',  # Increase horizontal separation\n",
    "        splines='ortho',  # Use orthogonal edges\n",
    "        bgcolor='white'\n",
    "    )\n",
    "\n",
    "    # Node styling\n",
    "    dot.attr('node',\n",
    "             shape='box',\n",
    "             style='rounded,filled',\n",
    "             fontname='Arial',\n",
    "             fontsize='10',\n",
    "             width='1.5',\n",
    "             height='0.8'\n",
    "             )\n",
    "\n",
    "    nodes = mindmap_data['nodes']\n",
    "    edges = mindmap_data['edges']\n",
    "    central_node = mindmap_data.get('central_node', '')\n",
    "\n",
    "    # Group nodes by their level (distance from central node)\n",
    "    node_levels = {}\n",
    "    for edge in edges:\n",
    "        if edge['source'] == central_node:\n",
    "            node_levels[edge['target']] = 1\n",
    "        elif edge['source'] in node_levels:\n",
    "            node_levels[edge['target']] = node_levels[edge['source']] + 1\n",
    "\n",
    "    # Add central node\n",
    "    dot.node(central_node,\n",
    "             next(node['label']\n",
    "                  for node in nodes if node['id'] == central_node),\n",
    "             fillcolor='#FF6B6B', fontcolor='white', fontsize='12')\n",
    "\n",
    "    # Add level 1 nodes (main concepts) in subgraphs\n",
    "    level1_nodes = [node for node in nodes if node['id']\n",
    "                    in node_levels and node_levels[node['id']] == 1]\n",
    "\n",
    "    # Create subgraphs for better clustering\n",
    "    for i, node in enumerate(level1_nodes):\n",
    "        with dot.subgraph(name=f'cluster_{i}') as cluster:\n",
    "            cluster.attr(style='invisible')  # Make cluster invisible\n",
    "            cluster.node(node['id'], node['label'],\n",
    "                         fillcolor='#4ECDC4', fontcolor='black')\n",
    "\n",
    "    # Add remaining nodes\n",
    "    for node in nodes:\n",
    "        if node['id'] != central_node and node['id'] not in [n['id'] for n in level1_nodes]:\n",
    "            dot.node(node['id'], node['label'],\n",
    "                     fillcolor='#96CEB4', fontcolor='black')\n",
    "\n",
    "    # Add edges\n",
    "    for edge in edges:\n",
    "        dot.edge(edge['source'], edge['target'])\n",
    "\n",
    "    return dot\n",
    "\n",
    "\n",
    "def upload_mindmap_to_supabase(dot_graph, learning_space_id: str):\n",
    "    \"\"\"Upload mindmap image to Supabase Storage\"\"\"\n",
    "\n",
    "    try:\n",
    "        # Generate image bytes\n",
    "        image_bytes = dot_graph.pipe(format='png')\n",
    "\n",
    "        # Create filename with timestamp\n",
    "        timestamp = datetime.now().strftime(\"%Y%m%d_%H%M%S\")\n",
    "        filename = f\"mindmap_{learning_space_id}_{timestamp}.png\"\n",
    "\n",
    "        # Upload to Supabase Storage\n",
    "        response = supabase.storage.from_('learning-sources').upload(\n",
    "            path=filename,\n",
    "            file=image_bytes,\n",
    "            file_options={\n",
    "                \"content-type\": \"image/png\",\n",
    "                \"upsert\": \"false\"\n",
    "            }\n",
    "        )\n",
    "\n",
    "        print(f\"✅ Mindmap uploaded successfully: {filename}\")\n",
    "        return {\n",
    "            \"filename\": filename,\n",
    "            \"path\": filename\n",
    "        }\n",
    "\n",
    "    except Exception as e:\n",
    "        print(f\"❌ Error uploading mindmap: {str(e)}\")\n",
    "        return None"
   ]
  },
  {
   "cell_type": "code",
   "execution_count": 439,
   "id": "1074d5f7",
   "metadata": {},
   "outputs": [],
   "source": [
    "# Agent Node - Notes Summary\n",
    "\n",
    "def node_mindmap(state: State):\n",
    "    \"\"\"LLM call to generate quiz based on summary content\"\"\"\n",
    "\n",
    "    # generate the chat prompt\n",
    "\n",
    "    \"\"\"Create a personalized prompt based on student profile\"\"\"\n",
    "\n",
    "    prompt_template = ChatPromptTemplate([\n",
    "        (\"system\", \"\"\" \n",
    "        You are a helpful academic tutor.\n",
    "        Use the below context to create a json response to create a mind map using graph viz in python. The mind map should clearly explain the core concepts and key ideas.\n",
    "        \n",
    "        Student Profile:\n",
    "            - Class Level: {grade_level}\n",
    "            - Language: {language} \n",
    "            - Gender: {gender}\n",
    "         \n",
    "        1. Adapt your language and complexity based on the student's profile provided.\n",
    "        2. Respond in JSON format which can be used to render.\n",
    "        \"\"\"),\n",
    "        (\"user\", \"Topic Summary {topic_summary}\")\n",
    "    ])\n",
    "\n",
    "    # init a new model with structured output\n",
    "    model = init_chat_model(\n",
    "        \"gemini-2.0-flash\", model_provider=\"google_genai\").with_structured_output(MindMapStructure)\n",
    "\n",
    "    chain = prompt_template | model\n",
    "\n",
    "    response = chain.invoke(\n",
    "        {\n",
    "            \"grade_level\": state['student_profile'].get(\"grade_level\", \"general\"),\n",
    "            \"language\": state['student_profile'].get(\"language\", \"English\"),\n",
    "            \"gender\": state['student_profile'].get(\"gender\", \"\"),\n",
    "            \"topic_summary\": state[\"summary_notes\"]\n",
    "        }\n",
    "    )\n",
    "    \n",
    "    # create mindmap graph\n",
    "    json_response = response.model_dump()\n",
    "    dot = create_balanced_mindmap(json_response)\n",
    "    \n",
    "    # upload to supabase storage\n",
    "    upload_response = upload_mindmap_to_supabase(dot, state['learning_space_id'])\n",
    "\n",
    "    # # update in supabase database\n",
    "    supabase_response = (\n",
    "        supabase.table(\"learning_space\")\n",
    "        .update({\"mindmap\": upload_response[\"path\"]})\n",
    "        .eq(\"id\", state[\"learning_space_id\"])\n",
    "        .execute()\n",
    "    )\n",
    "\n",
    "    # print(\"Supabase Response\", supabase_response)\n",
    "\n",
    "    return {\"mindmap\": json_response}"
   ]
  },
  {
   "cell_type": "markdown",
   "id": "a919f23e",
   "metadata": {},
   "source": [
    "## Agent Audio Overview"
   ]
  },
  {
   "cell_type": "code",
   "execution_count": 440,
   "id": "74d9ebcc",
   "metadata": {},
   "outputs": [],
   "source": [
    "# Agent Node - Notes Summary\n",
    "\n",
    "def node_audio_overview(state: State):\n",
    "    \"\"\"LLM call to generate aduio overview based on summary content\"\"\"\n",
    "\n",
    "    # generate the chat prompt\n",
    "\n",
    "    \"\"\"Create a personalized prompt based on student profile\"\"\"\n",
    "\n",
    "    prompt_template = ChatPromptTemplate([\n",
    "    (\"system\", \"\"\"\n",
    "         You are an expert academic female tutor. Your goal is to generate engaging, informative, and personalized educational summaries for students.\n",
    "\n",
    "        **Strict Guidelines:**\n",
    "\n",
    "        1.  **Output Format:** The entire response MUST be valid SSML (Speech Synthesis Markup Language).\n",
    "            * Start with `<speak>`.\n",
    "            * End with `</speak>`.\n",
    "            * Use only the SSML tags listed below. Other tags are NOT allowed.\n",
    "\n",
    "        2.  **Content Length & Duration:**\n",
    "            * Generate content for a concise audio overview, aiming for a duration of approximately 7-10 minutes.\n",
    "            * **Crucially, the raw character count of the final SSML string (including all tags, spaces, and content) MUST NOT exceed 3000 characters.** If your content draft exceeds this, you MUST self-edit and shorten it to fit, prioritizing key information.\n",
    "\n",
    "        **Student Profile:**\n",
    "        - Class Level: {grade_level}\n",
    "        - Target Language: {language} (Provide ALL content, including SSML elements like text and prompts, in this language.)\n",
    "        - Preferred Pronouns: {gender} (e.g., she/her, he/him, they/them – use to personalize direct address, if appropriate for the content style.)\n",
    "\n",
    "        **Content Requirements:**\n",
    "        * **Topic Summary:** Generate a detailed and well-structured summary of the user-provided topic.\n",
    "        * **Academic Appropriateness:** Tailor the depth, complexity, and vocabulary precisely to the specified {grade_level}. Assume foundational knowledge typical for their level, but introduce new concepts clearly.\n",
    "        * **Engaging Delivery Style:**\n",
    "            * Write in a conversational, accessible, and enthusiastic tone.\n",
    "            * Incorporate brief, relatable examples or analogies where helpful.\n",
    "            * Suggest pauses, changes in speaking rate, or emphasis using SSML tags to enhance listening experience.\n",
    "        * **Structure:** Follow a logical flow:\n",
    "            * **Introduction:** Hook the listener, introduce the topic, and greet them.\n",
    "            * **Main Content:** Break down the topic into digestible segments, explaining core concepts.\n",
    "            * **Key Takeaways/Recap:** Briefly summarize the main points.\n",
    "            * **Call to Action/Further Exploration:** Encourage continued learning.\n",
    "\n",
    "        **Allowed SSML Tags for Amazon Polly Neural Voices (Strictly Enforced):**\n",
    "\n",
    "        * `<break>`: For adding pauses. Use `time` attribute (e.g., `<break time=\"500ms\"/>` or `<break time=\"0.5s\"/>`).\n",
    "        * `<lang>`: To specify another language for specific words or phrases.\n",
    "        * `<mark>`: To place a custom tag in your text.\n",
    "        * `<p>`: To add a pause between paragraphs.\n",
    "        * `<phoneme>`: For using phonetic pronunciation.\n",
    "        * `<prosody>`: For controlling volume, speaking rate, and pitch. **Do NOT use `amazon:max-duration` attribute.** Use attributes like `rate`, `pitch`, `volume`.\n",
    "        * `<s>`: To add a pause between sentences.\n",
    "        * `<speak>`: The root element (must be the outermost tag).\n",
    "        * `<sub>`: To pronounce acronyms and abbreviations (e.g., `<sub alias=\"Application Programming Interface\">API</sub>`).\n",
    "        * `<w>`: To improve pronunciation by specifying parts of speech (e.g., `<w role=\"verb\">read</w>`).\n",
    "        * `<amazon:effect name=\"drc\">`: For adding dynamic range compression.\n",
    "\n",
    "        **Do NOT use any other SSML tags, including (but not limited to):**\n",
    "        * `<emphasis>`\n",
    "        * `<prosody amazon:max-duration>`\n",
    "        * `<amazon:auto-breaths>`\n",
    "        * `<amazon:effect phonation=\"soft\">`\n",
    "        * `<amazon:effect vocal-tract-length>`\n",
    "        * `<amazon:effect name=\"whispered\">`\n",
    "        * `<amazon:domain name=\"news\">`\n",
    "\n",
    "        **Example SSML structure and character count consideration:**\n",
    "        <speak version=\"1.0\" xml:lang=\"en-US\">\n",
    "          <p>Hello! Welcome to our podcast.</p>\n",
    "          <s>Today, we explore [Topic].</s>\n",
    "          <p>This is a brief explanation.</p>\n",
    "          <s>We'll keep it concise.</s>\n",
    "          <break time=\"200ms\"/>\n",
    "          <p><prosody rate=\"fast\">Key takeaway:</prosody> It's very simple.</p>\n",
    "          <s>Thanks for listening!</s>\n",
    "        </speak>\n",
    "        (This example is ~250 chars. Your full content should be around 3000 chars.)\n",
    "        \"\"\"\n",
    "    ),\n",
    "    (\"user\", \"Generate an audio summary about: {topic_summary}\")\n",
    "])\n",
    "\n",
    "    # init a new model with structured output\n",
    "    model = init_chat_model(\n",
    "        \"gemini-2.0-flash\", model_provider=\"google_genai\", temperature=0.2).with_structured_output(PodcastContent)\n",
    "\n",
    "    chain = prompt_template | model\n",
    "\n",
    "    response = chain.invoke(\n",
    "        {\n",
    "            \"grade_level\": state['student_profile'].get(\"grade_level\", \"general\"),\n",
    "            \"language\": state['student_profile'].get(\"language\", \"English\"),\n",
    "            \"gender\": state['student_profile'].get(\"gender\", \"\"),\n",
    "            \"topic_summary\": state[\"summary_notes\"]\n",
    "        }\n",
    "    )\n",
    "    \n",
    "    json_response = response.model_dump()\n",
    "    \n",
    "    # cleaning SSML\n",
    "\n",
    "    def clean_podcast_content(content):\n",
    "        clean_text = re.sub(r\"[\\n\\r\\\\]\", \"\", content)\n",
    "        return clean_text\n",
    "\n",
    "    SSML = clean_podcast_content(json_response['SSML'])\n",
    "    \n",
    "    # # # update in supabase database\n",
    "    supabase_response = (\n",
    "        supabase.table(\"learning_space\")\n",
    "        .update({\"audio_script\": SSML})\n",
    "        .eq(\"id\", state[\"learning_space_id\"])\n",
    "        .execute()\n",
    "    )\n",
    "\n",
    "    return {\"podcast_script\": SSML}"
   ]
  },
  {
   "cell_type": "markdown",
   "id": "21fb9e45",
   "metadata": {},
   "source": [
    "## Build Workflow"
   ]
  },
  {
   "cell_type": "markdown",
   "id": "1187c8ce",
   "metadata": {},
   "source": [
    "Build the agentic workflow"
   ]
  },
  {
   "cell_type": "code",
   "execution_count": 441,
   "id": "6cf6124b",
   "metadata": {},
   "outputs": [],
   "source": [
    "parallel_builder = StateGraph(State)"
   ]
  },
  {
   "cell_type": "markdown",
   "id": "2c53ccc0",
   "metadata": {},
   "source": [
    "Add all the required nodes"
   ]
  },
  {
   "cell_type": "code",
   "execution_count": 442,
   "id": "50326371",
   "metadata": {},
   "outputs": [
    {
     "data": {
      "text/plain": [
       "<langgraph.graph.state.StateGraph at 0x1580c1be0>"
      ]
     },
     "execution_count": 442,
     "metadata": {},
     "output_type": "execute_result"
    }
   ],
   "source": [
    "\n",
    "# Add nodes\n",
    "parallel_builder.add_node(\"node_summary_notes\", node_summary_notes)\n",
    "parallel_builder.add_node(\"node_quiz\", node_quiz)\n",
    "parallel_builder.add_node(\"node_recommendations\", node_recommendation)\n",
    "parallel_builder.add_node(\"node_mindmap\", node_mindmap)\n",
    "\n",
    "parallel_builder.add_node(\"node_audio_overview\", node_audio_overview)\n",
    "\n",
    "\n",
    "\n",
    "# parallel_builder.add_node(\"node_podcast_script\", node_podcast_script)\n",
    "# parallel_builder.add_node(\"call_llm_3\", call_llm_3)\n",
    "# parallel_builder.add_node(\"aggregator\", aggregator)"
   ]
  },
  {
   "cell_type": "markdown",
   "id": "c4091e18",
   "metadata": {},
   "source": [
    "Add edges to connect these nodes in meaningful ways."
   ]
  },
  {
   "cell_type": "code",
   "execution_count": 443,
   "id": "047c2a05",
   "metadata": {},
   "outputs": [
    {
     "data": {
      "text/plain": [
       "<langgraph.graph.state.StateGraph at 0x1580c1be0>"
      ]
     },
     "execution_count": 443,
     "metadata": {},
     "output_type": "execute_result"
    }
   ],
   "source": [
    "\n",
    "# parallel_builder.add_edge(START, \"node_podcast_script\")\n",
    "parallel_builder.add_edge(START, \"node_summary_notes\")\n",
    "parallel_builder.add_edge(\"node_summary_notes\", \"node_quiz\")\n",
    "parallel_builder.add_edge(\"node_summary_notes\", \"node_recommendations\")\n",
    "parallel_builder.add_edge(\"node_summary_notes\", \"node_mindmap\")\n",
    "\n",
    "parallel_builder.add_edge(\"node_summary_notes\", \"node_audio_overview\")\n",
    "\n",
    "\n",
    "\n",
    "\n",
    "# parallel_builder.add_edge(START, \"call_llm_3\")\n",
    "# parallel_builder.add_edge(\"node_podcast_script\", \"aggregator\")\n",
    "# parallel_builder.add_edge(\"node_summary_notes\", \"aggregator\")\n",
    "# parallel_builder.add_edge(\"call_llm_3\", \"aggregator\")\n",
    "\n",
    "parallel_builder.add_edge(\"node_quiz\", END)\n",
    "parallel_builder.add_edge(\"node_recommendations\", END)\n",
    "parallel_builder.add_edge(\"node_mindmap\", END)\n",
    "\n",
    "parallel_builder.add_edge(\"node_audio_overview\", END)\n",
    "\n",
    "\n",
    "\n",
    "\n",
    "# parallel_builder.add_edge(\"aggregator\", END)"
   ]
  },
  {
   "cell_type": "markdown",
   "id": "1689b673",
   "metadata": {},
   "source": [
    "Compile the model."
   ]
  },
  {
   "cell_type": "code",
   "execution_count": 444,
   "id": "7be7ffc6",
   "metadata": {},
   "outputs": [],
   "source": [
    "parallel_workflow = parallel_builder.compile()"
   ]
  },
  {
   "cell_type": "markdown",
   "id": "6cd07ab8",
   "metadata": {},
   "source": [
    "Visualize the graph"
   ]
  },
  {
   "cell_type": "code",
   "execution_count": 445,
   "id": "692695ea",
   "metadata": {},
   "outputs": [
    {
     "data": {
      "image/png": "[encoded data removed]",
      "text/plain": [
       "<IPython.core.display.Image object>"
      ]
     },
     "metadata": {},
     "output_type": "display_data"
    }
   ],
   "source": [
    "display(Image(parallel_workflow.get_graph().draw_mermaid_png()))"
   ]
  },
  {
   "cell_type": "markdown",
   "id": "cc2eed92",
   "metadata": {},
   "source": [
    "### Input State (test) for the Agent\n",
    "\n",
    "Use this to test out different cases"
   ]
  },
  {
   "cell_type": "code",
   "execution_count": 446,
   "id": "ecfa20e9",
   "metadata": {},
   "outputs": [],
   "source": [
    "input_state = {\n",
    "    \"learning_space_id\": 'cb1bb773-dcac-44ec-9bca-a1e266bc16b3',\n",
    "    \"student_profile\": {\n",
    "        \"gender\": \"MALE\",\n",
    "        \"grade_level\": \"12th\",\n",
    "        \"language\": \"Hindi\"\n",
    "    },\n",
    "    \"user_prompt\": {\n",
    "        \"topic\": \"Uncertainty in AI\",\n",
    "        \"file_url\": \"https://kclenjtsvdayeghmmmkm.supabase.co/storage/v1/object/public/learning-sources/public/Slides_Module8.pdf\",\n",
    "    }\n",
    "}"
   ]
  },
  {
   "cell_type": "markdown",
   "id": "c1174c40",
   "metadata": {},
   "source": [
    "### Invoke the Agentic Workflow"
   ]
  },
  {
   "cell_type": "code",
   "execution_count": 447,
   "id": "d3b6eb68",
   "metadata": {},
   "outputs": [
    {
     "name": "stdout",
     "output_type": "stream",
     "text": [
      "node_summary_notes running....\n",
      "node_quiz running....node_recommendation running....\n",
      "\n"
     ]
    },
    {
     "name": "stderr",
     "output_type": "stream",
     "text": [
      "I0000 00:00:1751704053.192254  679063 fork_posix.cc:71] Other threads are currently calling into gRPC, skipping fork() handlers\n"
     ]
    },
    {
     "name": "stdout",
     "output_type": "stream",
     "text": [
      "Recommendation updated.\n",
      "Quiz updated.\n",
      "✅ Mindmap uploaded successfully: mindmap_cb1bb773-dcac-44ec-9bca-a1e266bc16b3_20250705_135733.png\n"
     ]
    }
   ],
   "source": [
    "# state = parallel_workflow.invoke({\"user_prompt\": {\"topic\": \"Photosynthesis\"}, \"student_profile\": {\"grade_level\": \"12th\", \"gender\": \"female\", \"language\": \"Marathi\"}})\n",
    "\n",
    "state = parallel_workflow.invoke(input_state)"
   ]
  },
  {
   "cell_type": "markdown",
   "id": "3f1f0136",
   "metadata": {},
   "source": [
    "### Validate Output"
   ]
  },
  {
   "cell_type": "code",
   "execution_count": 448,
   "id": "aa39b13e",
   "metadata": {},
   "outputs": [
    {
     "data": {
      "text/markdown": [
       "## AI में अनिश्चितता (Uncertainty) - Module 8 का सारांश\n",
       "\n",
       "यह मॉड्यूल AI सिस्टम्स में अनिश्चितता को मापने और प्रबंधित करने के तरीकों पर केंद्रित है। यहां मुख्य बातें हैं:\n",
       "\n",
       "*   **अनिश्चितता में काम करना:**\n",
       "    *   AI एजेंटों को अनिश्चितता से निपटने की आवश्यकता होती है क्योंकि वे हमेशा यह नहीं जानते कि वे किस स्थिति में हैं या कार्यों के बाद कहां पहुंचेंगे।\n",
       "    *   एजेंट अनिश्चितता को belief state का ट्रैक रखकर संभालते हैं।\n",
       "    *   उदाहरण: एक ऑटोमेटेड टैक्सी को हवाई अड्डे पर समय पर यात्री को पहुंचाने का लक्ष्य है, लेकिन उसे रास्ते में अनिश्चितताओं का सामना करना पड़ता है।\n",
       "\n",
       "*   **अनिश्चितता का सारांश:**\n",
       "    *   अनिश्चित reasoning का एक उदाहरण dental diagnosis है, जिसमें हमेशा अनिश्चितता शामिल होती है।\n",
       "    *   अनिश्चितता से निपटने के लिए probability theory सबसे अच्छा tool है।\n",
       "    *   Diagnosis के समय, वास्तविक दुनिया में कोई अनिश्चितता नहीं होती: रोगी को या तो cavity होती है या नहीं।\n",
       "\n",
       "*   **अनिश्चितता और तर्कसंगत निर्णय:**\n",
       "    *   सफलता दरों (success rates) की तुलना करना।\n",
       "    *   Reliability का महत्व।\n",
       "    *   Trade-offs और inconveniences.\n",
       "    *   Preferences और outcomes.\n",
       "    *   Utility theory.\n",
       "    *   Maximum Expected Utility (MEU) का सिद्धांत।\n",
       "\n",
       "*   **Basic Probability Notation:**\n",
       "    *   स्पष्टता और परिशुद्धता (Clarity and Precision)।\n",
       "    *   उन्नत विश्लेषण (Advanced Analysis) के लिए आधार।\n",
       "    *   Sample space, probability model, events, unconditional और prior probability, evidence, conditional और posterior probability, product rule.\n",
       "\n",
       "*   **Probability Assertions में Propositions की भाषा:**\n",
       "    *   Random variables, domain, probability distribution, probability density function, joint probability distribution, full joint probability distribution.\n",
       "\n",
       "*   **Probability Axioms:**\n",
       "    *   Non-negativity axiom, normalization axiom.\n",
       "    *   Logical consistency, intuitive appeal, mathematical foundation, applicability.\n",
       "    *   Inclusion-exclusion principle.\n",
       "\n",
       "*   **Full Joint Distributions का उपयोग करके Inference:**\n",
       "    *   Probabilistic inference अनिश्चितता में reasoning और decision-making की प्रक्रिया है।\n",
       "    *   Marginalization, conditional probability, joint inference.\n",
       "    *   Probabilistic inference की प्रक्रिया में समस्या को define करना, model बनाना, inference करना, और परिणामों का मूल्यांकन करना शामिल है।\n",
       "\n",
       "*   **Independence:**\n",
       "    *   Independence का मतलब है कि variables एक दूसरे को प्रभावित नहीं करते हैं।\n",
       "    *   Marginal independence: variables को अलग-अलग मानना।\n",
       "    *   Absolute independence: variables एक दूसरे पर condition होने पर भी independent होते हैं।\n",
       "\n",
       "*   **Bayes' Rule:**\n",
       "    *   Bayes' Rule probabilistic inference के लिए fundamental है।\n",
       "    *   P(H|E) = [P(E|H) * P(H)] / P(E)\n",
       "    *   उदाहरण: spam filtering, medical diagnosis.\n",
       "\n",
       "यह मॉड्यूल AI में अनिश्चितता की अवधारणा और इससे निपटने के विभिन्न तरीकों की गहरी समझ प्रदान करता है।"
      ],
      "text/plain": [
       "<IPython.core.display.Markdown object>"
      ]
     },
     "execution_count": 448,
     "metadata": {},
     "output_type": "execute_result"
    }
   ],
   "source": [
    "# print(state['podcast_script'])\n",
    "answer = state['summary_notes'].model_dump()\n",
    "# print(answer)\n",
    "Markdown(answer['summary'])"
   ]
  },
  {
   "cell_type": "code",
   "execution_count": 449,
   "id": "457fe3ca",
   "metadata": {},
   "outputs": [
    {
     "data": {
      "text/plain": [
       "{'recommendations': [{'title': 'कृत्रिम बुद्धिमत्ता: एक आधुनिक दृष्टिकोण (Artificial Intelligence: A Modern Approach) by Stuart Russell and Peter Norvig',\n",
       "   'description': 'यह पुस्तक AI में अनिश्चितता के मूल सिद्धांतों को समझने के लिए एक उत्कृष्ट संसाधन है। यह संभाव्यता सिद्धांत, बायेसियन नेटवर्क और निर्णय लेने जैसे विषयों को कवर करता है।',\n",
       "   'url': 'https://aima.cs.berkeley.edu/'},\n",
       "  {'title': 'MIT OpenCourseWare: कृत्रिम बुद्धिमत्ता (Artificial Intelligence) - Patrick Winston',\n",
       "   'description': 'प्रोफेसर पैट्रिक विंस्टन का यह व्याख्यान AI में अनिश्चितता के विभिन्न पहलुओं पर प्रकाश डालता है, जिसमें संभाव्यता तर्क, निर्णय सिद्धांत और बायेसियन नेटवर्क शामिल हैं।',\n",
       "   'url': 'https://ocw.mit.edu/courses/electrical-engineering-and-computer-science/6-034-artificial-intelligence-fall-2010/'},\n",
       "  {'title': 'बायेसियन नेटवर्क (Bayesian Networks) - Scholarpedia',\n",
       "   'description': 'यह लेख बताता है कि कैसे बायेसियन नेटवर्क का उपयोग AI सिस्टम्स में अनिश्चितता को मॉडल करने के लिए किया जा सकता है। यह नेटवर्क संरचना, पैरामीटर सीखना और अनुमान जैसे विषयों को शामिल करता है।',\n",
       "   'url': 'http://www.scholarpedia.org/article/Bayesian_networks'},\n",
       "  {'title': 'निर्णय सिद्धांत (Decision Theory) - David W. Conrath',\n",
       "   'description': 'यह पुस्तक निर्णय लेने के सिद्धांत और व्यवहारिक अनुप्रयोगों का विस्तृत विवरण प्रदान करती है। यह उपयोगिता सिद्धांत, जोखिम मूल्यांकन और निर्णय विश्लेषण जैसे विषयों को शामिल करता है।',\n",
       "   'url': 'NULL'},\n",
       "  {'title': 'संभाव्यता सिद्धांत (Probability Theory) - Stanford Encyclopedia of Philosophy',\n",
       "   'description': 'यह लेख AI में संभाव्यता सिद्धांत के महत्व पर जोर देता है। यह संभाव्यता वितरण, सशर्त संभाव्यता और बायेसियन अनुमान जैसे विषयों को शामिल करता है।',\n",
       "   'url': 'https://plato.stanford.edu/entries/probability-interpret/'},\n",
       "  {'title': 'Udacity: AI में अनिश्चितता (Uncertainty in AI)',\n",
       "   'description': 'यह कोर्स AI में अनिश्चितता के प्रबंधन के लिए एक व्यावहारिक दृष्टिकोण प्रदान करता है। यह बायेसियन नेटवर्क, निर्णय पेड़ और मार्कोव निर्णय प्रक्रियाओं जैसे विषयों को शामिल करता है।',\n",
       "   'url': 'https://www.udacity.com/course/artificial-intelligence-for-robotics--cs373'},\n",
       "  {'title': 'मार्कोव निर्णय प्रक्रियाएं (Markov Decision Processes) - Wikipedia',\n",
       "   'description': 'यह लेख बताता है कि कैसे मार्कोव निर्णय प्रक्रियाओं (MDPs) का उपयोग AI एजेंटों के लिए इष्टतम नीतियां बनाने के लिए किया जा सकता है जो अनिश्चित वातावरण में काम करते हैं।',\n",
       "   'url': 'https://en.wikipedia.org/wiki/Markov_decision_process'},\n",
       "  {'title': 'सांख्यिकीय पैटर्न पहचान (Statistical Pattern Recognition) - Andrew R. Webb and Keith D. Copsey',\n",
       "   'description': 'यह पुस्तक AI में अनिश्चितता से निपटने के लिए विभिन्न सांख्यिकीय तरीकों का परिचय देती है। यह हिडन मार्कोव मॉडल, कलमैन फ़िल्टर और पार्टिकल फ़िल्टर जैसे विषयों को शामिल करता है।',\n",
       "   'url': 'NULL'},\n",
       "  {'title': 'फ़ज़ी लॉजिक (Fuzzy Logic) - Scholarpedia',\n",
       "   'description': 'यह लेख बताता है कि कैसे फ़ज़ी लॉजिक का उपयोग AI सिस्टम्स में अनिश्चितता को मॉडल करने के लिए किया जा सकता है। यह फ़ज़ी सेट, फ़ज़ी नियम और फ़ज़ी अनुमान जैसे विषयों को शामिल करता है।',\n",
       "   'url': 'http://www.scholarpedia.org/article/Fuzzy_logic'},\n",
       "  {'title': 'Coursera: प्रोबबिलिस्टिक ग्राफिकल मॉडल (Probabilistic Graphical Models) - Daphne Koller',\n",
       "   'description': 'यह कोर्स AI में अनिश्चितता के प्रबंधन के लिए उन्नत विषयों को शामिल करता है। यह ग्राफिकल मॉडल, वैरिएशनल अनुमान और मोंटे कार्लो विधियों जैसे विषयों को शामिल करता है।',\n",
       "   'url': 'https://www.coursera.org/course/pgm'}]}"
      ]
     },
     "execution_count": 449,
     "metadata": {},
     "output_type": "execute_result"
    }
   ],
   "source": [
    "state['recommendations']"
   ]
  },
  {
   "cell_type": "code",
   "execution_count": 450,
   "id": "1c51abc4",
   "metadata": {},
   "outputs": [
    {
     "data": {
      "text/plain": [
       "'<speak><p>नमस्ते! आज हम AI में अनिश्चितता के बारे में बात करेंगे।</p><s>यह मॉड्यूल AI सिस्टम्स में अनिश्चितता को मापने और प्रबंधित करने के तरीकों पर केंद्रित है।</s><break time=\"0.5s\"/><p>AI एजेंटों को अनिश्चितता से निपटने की आवश्यकता होती है क्योंकि वे हमेशा यह नहीं जानते कि वे किस स्थिति में हैं या कार्यों के बाद कहां पहुंचेंगे।</p><s>वे belief state का ट्रैक रखकर अनिश्चितता को संभालते हैं।</s><break time=\"0.3s\"/><p>उदाहरण के लिए, एक ऑटोमेटेड टैक्सी को हवाई अड्डे पर समय पर यात्री को पहुंचाने का लक्ष्य है, लेकिन उसे रास्ते में कई अनिश्चितताओं का सामना करना पड़ता है।</p><break time=\"0.5s\"/><p>अनिश्चित reasoning का एक उदाहरण dental diagnosis है, जिसमें हमेशा अनिश्चितता शामिल होती है।</p><s>अनिश्चितता से निपटने के लिए probability theory सबसे अच्छा उपकरण है।</s><break time=\"0.3s\"/><p>Diagnosis के समय, वास्तविक दुनिया में कोई अनिश्चितता नहीं होती: रोगी को या तो cavity होती है या नहीं।</p><break time=\"0.5s\"/><p>सफलता दरों की तुलना करना, reliability का महत्व, trade-offs, preferences और outcomes, utility theory, और Maximum Expected Utility (MEU) का सिद्धांत महत्वपूर्ण हैं।</p><break time=\"0.5s\"/><p>Probability Assertions में Random variables, domain, probability distribution, joint probability distribution, और full joint probability distribution महत्वपूर्ण हैं।</p><break time=\"0.5s\"/><p>Probability Axioms में Non-negativity axiom और normalization axiom शामिल हैं।</p><break time=\"0.5s\"/><p>Probabilistic inference अनिश्चितता में reasoning और decision-making की प्रक्रिया है।</p><s>इसमें समस्या को define करना, model बनाना, inference करना, और परिणामों का मूल्यांकन करना शामिल है।</s><break time=\"0.5s\"/><p>Independence का मतलब है कि variables एक दूसरे को प्रभावित नहीं करते हैं।</p><s>Marginal independence variables को अलग-अलग मानना है, जबकि absolute independence का मतलब है कि variables एक दूसरे पर condition होने पर भी independent होते हैं।</s><break time=\"0.5s\"/><p>Bayes\\' Rule probabilistic inference के लिए fundamental है।</p><s>उदाहरण के लिए, spam filtering और medical diagnosis में इसका उपयोग होता है।</s><break time=\"0.5s\"/><p>संक्षेप में, यह मॉड्यूल AI में अनिश्चितता की अवधारणा और इससे निपटने के विभिन्न तरीकों की गहरी समझ प्रदान करता है।</p><s>आगे जानने के लिए उत्सुक रहें!</s></speak>'"
      ]
     },
     "execution_count": 450,
     "metadata": {},
     "output_type": "execute_result"
    }
   ],
   "source": [
    "state['podcast_script']"
   ]
  }
 ],
 "metadata": {
  "kernelspec": {
   "display_name": ".venv",
   "language": "python",
   "name": "python3"
  },
  "language_info": {
   "codemirror_mode": {
    "name": "ipython",
    "version": 3
   },
   "file_extension": ".py",
   "mimetype": "text/x-python",
   "name": "python",
   "nbconvert_exporter": "python",
   "pygments_lexer": "ipython3",
   "version": "3.12.10"
  }
 },
 "nbformat": 4,
 "nbformat_minor": 5
}
